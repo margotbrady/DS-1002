{
  "cells": [
    {
      "cell_type": "markdown",
      "metadata": {
        "id": "view-in-github",
        "colab_type": "text"
      },
      "source": [
        "<a href=\"https://colab.research.google.com/github/margotbrady/DS-1002/blob/main/Copy_of_10_Bulls_Cows.ipynb\" target=\"_parent\"><img src=\"https://colab.research.google.com/assets/colab-badge.svg\" alt=\"Open In Colab\"/></a>"
      ]
    },
    {
      "cell_type": "markdown",
      "metadata": {
        "id": "lSwr8T3SNrkj"
      },
      "source": [
        "## Bulls and Cows:\n",
        "### Another guessing game.\n",
        "### Assignment due Wednesday 10 April at 10 am\n",
        "\n",
        "General instructions:\n",
        "\n",
        "1. You may work in teams of up to three people.  As usual, if you do this, make sure all names are clearly displayed at the top of your submission, and all team members should submit the same GitHub URL.\n",
        "\n",
        "1. Use only basic Python code.  Do not use `numpy` arrays or functions.\n",
        "\n",
        "2. Practice utilizing the coding concepts we have studied.  \n",
        "\n",
        "3. Write docstrings for all your functions.\n",
        "\n"
      ]
    },
    {
      "cell_type": "markdown",
      "metadata": {
        "id": "qrWRyeI2NwHA"
      },
      "source": [
        "### Goal:  program this game\n",
        "In this assignment you will program a version of an old game called Bulls and Cows.  It is somewhat similar to Wordle, but with numbers instead of words (and various other differences . . . read carefully!).\n",
        "\n",
        "The game is played like this:  \n",
        "1. The computer will choose a secret code that the player is trying to guess.\n",
        "2. The secret code will be 4 digits long.  It will use only the digits 1-6, and it will have no repeated digits.  For example the secret code might be 1326 or 6241 but it cannot be 2652 or 4913 or 2601.\n",
        "3. The computer will prompt the user for a guess, and the user will guess.  The guess must follow the same rules (4 digits long, only use digits 1-6, no repeats).  The program should not allow an invalid guess.\n",
        "4. After each guess, the computer will give feedback to the user as follows:  \n",
        "(i) Each digit of the guess that is in the secret code and in the correct position is called a Bull (B).  \n",
        "(ii) Each digit of the guess that exists somewhere in the secret code, but *not* in the same position as in the guess, is called a Cow (C).  \n",
        "(iii) A digit of the guess that doesn't occur anywhere in the secret code is called a miss (X).  \n",
        "The computer will inform the user how many Bulls, how many Cows, and how many misses the user's guess had.  \n",
        "The feedback will always start with B's, then list C's, then list X's.  \n",
        "For example if the secret code is 1326  \n",
        "and the guess is 4316  \n",
        "then the computer should respond with \"BBCX\"  \n",
        "because there are two Bulls (the 3 and the 6 are Bulls, because they occur in the same position in the guess as in the secret code),  \n",
        "one Cow (the 1, which is a correct digit but in the wrong position),  \n",
        "and one Miss (the 4, which does not occur anywhere in the secret code).  \n",
        "> **Important:** the feedback string should always list the Bulls first, then the Cows, then the Misses.  It should **not** tell the user which digits are which!  The only information in the feedback string is how many of each there are.  In the example above, for instance, the feedback is **not** \"XBCB\" but rather \"BBCX\".  This is different from Wordle, if you are familiar with that game.\n",
        "5. The user should then be prompted for another guess.  This guess-with-feedback process should be repeated until the user gets the correct code, at which point the computer should indicate that they have won the game.  However, the user should only be allowed 6 guesses; if they don't guess correctly in 6 attempts, then following the feedback from their final guess they should get a message that they have lost the game, and the secret code should be revealed.\n",
        "\n",
        "\n",
        "\n",
        "\n",
        "\n",
        "\n",
        "\n"
      ]
    },
    {
      "cell_type": "markdown",
      "source": [
        "### Steps\n",
        "We will build this game using several functions.  \n",
        "\n",
        "1. **Count the Bulls:**  \n",
        "Write a function that takes two lists of the same length, and returns the number of Bulls.  That is, it should return the number of indices where the lists contain the same element.  *(Note:  you don't have to check that the entries are between 1 and 6, or that there are no repeats, etc.  A different function will do that.)*\n",
        "\n",
        "> A sample run might look like\n",
        "```\n",
        "first = [11, 3, 17, 5, 1]\n",
        "second = [20, 2, 17, 3, 1]\n",
        "count_bulls(first,second)\n",
        "```\n",
        "```\n",
        " 2\n",
        "```\n"
      ],
      "metadata": {
        "id": "XSH1JULaurD1"
      }
    },
    {
      "cell_type": "markdown",
      "source": [
        "Define your function in the code chunk below.  The function definition command and the return command are pre-populated for you.  You just have to fill in the part which does the actual counting.  I recommend using a list comprehension to do this.\n"
      ],
      "metadata": {
        "id": "pXoOyBk7xmPa"
      }
    },
    {
      "cell_type": "code",
      "source": [
        "# the Bull-counting function\n",
        "def count_bulls(first, second):\n",
        "  '''\n",
        "  Takes two lists of the same length and computes the number of positions where the list entries agree.\n",
        "  '''\n",
        "  # Counts up every time an index in the first list is the same as the index in the second list.\n",
        "  num_bulls = sum(1 for i in range(len(first)) if first[i] == second[i])\n",
        "  return num_bulls\n"
      ],
      "metadata": {
        "id": "vEsRSe8KxlcF"
      },
      "execution_count": 98,
      "outputs": []
    },
    {
      "cell_type": "code",
      "source": [
        "# Test #1:\n",
        "first = [11, 3, 17, 5, 1]\n",
        "second = [20, 2, 17, 3, 1]\n",
        "count_bulls(first,second)"
      ],
      "metadata": {
        "colab": {
          "base_uri": "https://localhost:8080/"
        },
        "id": "4VEhKgFJzeuO",
        "outputId": "a7d55717-e55d-4448-a0f9-1b573dc9a661"
      },
      "execution_count": 99,
      "outputs": [
        {
          "output_type": "execute_result",
          "data": {
            "text/plain": [
              "2"
            ]
          },
          "metadata": {},
          "execution_count": 99
        }
      ]
    },
    {
      "cell_type": "code",
      "source": [
        "# Test #2:\n",
        "first = [4, 3, 1, 5, 3]\n",
        "second = [4, 2, 1, 3, 3]\n",
        "count_bulls(first,second)"
      ],
      "metadata": {
        "colab": {
          "base_uri": "https://localhost:8080/"
        },
        "id": "D4BtQ0n-zgEA",
        "outputId": "2bd17ec1-7a0d-48d0-a067-70bf313627db"
      },
      "execution_count": 100,
      "outputs": [
        {
          "output_type": "execute_result",
          "data": {
            "text/plain": [
              "3"
            ]
          },
          "metadata": {},
          "execution_count": 100
        }
      ]
    },
    {
      "cell_type": "markdown",
      "source": [
        "Add code and/or text chunks below to demonstrate that you have tested your code and that it works correctly."
      ],
      "metadata": {
        "id": "yACJyJtOzE2U"
      }
    },
    {
      "cell_type": "markdown",
      "source": [
        "2. **Count something else:**  \n",
        "To count the cows it will be helpful first to count how many of the elements occur in both strings, without paying attention their positions.\n",
        "Write a function called `count_animals` that takes two lists of the same length, and returns the number of elements of the second list that are also in the first list.  (In the game setting, each such element is either a Bull or a Cow, but don't worry about which is which for this problem.)\n",
        "You may assume the lists do not contain repeated elements, since this will be the case when the function is called in the game.\n",
        "\n",
        "> This time a sample run might look like\n",
        "```\n",
        "first = [11, 3, 17, 5, 1]\n",
        "second = [20, 2, 17, 3, 1]\n",
        "count_animals(first,second)\n",
        "```\n",
        "```\n",
        " 3\n",
        "```\n",
        "\n",
        "This one isn't started for you.  Remember to include a docstring.  This can also be done using a list comprehension, similar to the previous function.\n",
        "\n"
      ],
      "metadata": {
        "id": "aMsOmejkzNVN"
      }
    },
    {
      "cell_type": "code",
      "source": [
        "# define your function here\n",
        "def count_animals(first, second):\n",
        "  '''\n",
        "  Takes two lists of the same length and computes the number of elements that occur in both lists.\n",
        "  '''\n",
        "  # Counts up every time an element in the fist list occurs in the second list.\n",
        "  # This is a list comprehension of a for loop within a for loop .\n",
        "  num_animals = sum(1 for index in second for i in first if index == i)\n",
        "  return num_animals"
      ],
      "metadata": {
        "id": "yRX219q02e6i"
      },
      "execution_count": 101,
      "outputs": []
    },
    {
      "cell_type": "markdown",
      "source": [
        "Again, demonstrate below that you have tested your code and that it works."
      ],
      "metadata": {
        "id": "HXRNwANS2f-4"
      }
    },
    {
      "cell_type": "code",
      "source": [
        "# Test number 1\n",
        "first = [11, 3, 17, 5, 1]\n",
        "second = [20, 2, 17, 3, 1]\n",
        "count_animals(first,second)"
      ],
      "metadata": {
        "colab": {
          "base_uri": "https://localhost:8080/"
        },
        "id": "l74ZWyck0L9j",
        "outputId": "29812a9a-9c6f-4e5c-eb1f-30c361a7d799"
      },
      "execution_count": 102,
      "outputs": [
        {
          "output_type": "execute_result",
          "data": {
            "text/plain": [
              "3"
            ]
          },
          "metadata": {},
          "execution_count": 102
        }
      ]
    },
    {
      "cell_type": "code",
      "source": [
        "# Test number 2\n",
        "first = [4, 3, 2, 20, 1]\n",
        "second = [20, 4, 17, 3, 1]\n",
        "count_animals(first,second)"
      ],
      "metadata": {
        "colab": {
          "base_uri": "https://localhost:8080/"
        },
        "id": "AAJJC2yL0arv",
        "outputId": "e7da428b-7032-4cac-81c5-317eb617bb60"
      },
      "execution_count": 103,
      "outputs": [
        {
          "output_type": "execute_result",
          "data": {
            "text/plain": [
              "4"
            ]
          },
          "metadata": {},
          "execution_count": 103
        }
      ]
    },
    {
      "cell_type": "markdown",
      "source": [
        "3. **Count the cows:**  \n",
        "Write a function called `count_cows` that counts the cows.  \n",
        "> This time a sample run might look like\n",
        "```\n",
        "first = [11, 3, 17, 5, 1]\n",
        "second = [20, 2, 17, 3, 1]\n",
        "count_cows(first,second)\n",
        "```\n",
        "```\n",
        " 1\n",
        "```\n",
        "*Use the two previously defined functions to help you!  \n",
        "In fact, remember that the only reason we wrote the `count_animals` function was to help count the cows.*\n",
        "\n",
        "You can do this with only two lines of code, not counting documentation!"
      ],
      "metadata": {
        "id": "x2DAPkxj2GMo"
      }
    },
    {
      "cell_type": "code",
      "source": [
        "# put the Cow counting function here\n",
        "# define your function here\n",
        "def count_cows(first, second):\n",
        "  '''\n",
        "  Takes two lists of the same length and computes the number of elements than occur in both lists but at different positions.\n",
        "  '''\n",
        "  # Here I use the enumerate function to find the positions in the list, and compare both the positions and the actual elements themselves.\n",
        "  num_cows = sum(1 for i, num1 in enumerate(first) for j, num2 in enumerate(second) if num1 == num2 and i != j)\n",
        "  return num_cows"
      ],
      "metadata": {
        "id": "QnxnaOPI3YZO"
      },
      "execution_count": 104,
      "outputs": []
    },
    {
      "cell_type": "code",
      "source": [
        "# Tester\n",
        "first = [11, 3, 17, 5, 1]\n",
        "second = [20, 2, 17, 3, 1]\n",
        "count_cows(first,second)"
      ],
      "metadata": {
        "colab": {
          "base_uri": "https://localhost:8080/"
        },
        "id": "D50qtiT52WDf",
        "outputId": "9889857a-e86e-4ff8-ef14-f758bd51d55b"
      },
      "execution_count": 105,
      "outputs": [
        {
          "output_type": "execute_result",
          "data": {
            "text/plain": [
              "1"
            ]
          },
          "metadata": {},
          "execution_count": 105
        }
      ]
    },
    {
      "cell_type": "markdown",
      "metadata": {
        "id": "hWQhYDIVYjXr"
      },
      "source": [
        "4. **Create feedback string**  \n",
        "Write a `build_response_str` function that takes three numbers, say `b,c,l`, and outputs a string of total length `l` that consists of `b` B's, followed by `c` C's, and the rest X's (until the total length is `l`).\n",
        "\n",
        "> Sample run:\n",
        "```\n",
        "build_response_str(4,3,9)\n",
        "```\n",
        "```\n",
        "BBBBCCCXX\n",
        "```"
      ]
    },
    {
      "cell_type": "code",
      "source": [
        "# define your function here\n",
        "def build_response_str(b,c,l):\n",
        "   '''\n",
        "  Takes three integer inputs: b, c, and l.\n",
        "  For whatever is inputted, it will return a string of total length len that consists of b B's, followed by c C's, and the rest X's (until the total length is l).\n",
        "  '''\n",
        "   return ('B'*b+'C'*c+'X'*(l-c-b))"
      ],
      "metadata": {
        "id": "GSimWqUsMaPE"
      },
      "execution_count": 106,
      "outputs": []
    },
    {
      "cell_type": "markdown",
      "source": [
        "Test your code here."
      ],
      "metadata": {
        "id": "2D14kxTU7ApH"
      }
    },
    {
      "cell_type": "code",
      "source": [
        "build_response_str(4,3,9)\n",
        "help(build_response_str)"
      ],
      "metadata": {
        "id": "sN4suOPy61NW",
        "outputId": "8bb39a9f-7a8f-4f58-a6ff-fb7fb5cf18ce",
        "colab": {
          "base_uri": "https://localhost:8080/"
        }
      },
      "execution_count": 107,
      "outputs": [
        {
          "output_type": "stream",
          "name": "stdout",
          "text": [
            "Help on function build_response_str in module __main__:\n",
            "\n",
            "build_response_str(b, c, l)\n",
            "    Takes three integer inputs: b, c, and l. \n",
            "    For whatever is inputted, it will return a string of total length len that consists of b B's, followed by c C's, and the rest X's (until the total length is l).\n",
            "\n"
          ]
        }
      ]
    },
    {
      "cell_type": "markdown",
      "metadata": {
        "id": "omzE6sLKwsMC"
      },
      "source": [
        "5.  **Generate feedback for guesses**  \n",
        "Write a function `response(first,second)` that takes two lists of the same length, and outputs a string consisting of some number of B's followed by some number of C's followed by some number of X's, where the numbers correspond to the things we counted above.  That is, if `first` were the secret code in the game and `second` were the user's guess, then we would print one B for each Bull, one C for each Cow, and one X for each Miss. The total output string should have the same length as the input strings.\n",
        "\n",
        "> Sample run:\n",
        "```\n",
        "first = [11, 3, 17, 5, 1]\n",
        "second = [20, 2, 17, 3, 1]\n",
        "response(first,second)\n",
        "```\n",
        "```\n",
        " BBCXX\n",
        "```\n",
        "\n",
        "With all the functions you've already put in place, this should be simple.  Test your code once it's written.\n"
      ]
    },
    {
      "cell_type": "code",
      "source": [
        "def response(first,second):\n",
        "  # Counts up every time an element in the fist list occurs in the second list.\n",
        "  # This is a list comprehension of a for loop within a for loop .\n",
        "  bulls = sum(1 for i in range(len(first)) if first[i] == second[i])\n",
        "  # Here I use the enumerate function to find the positions in the list, and compare both the positions and the actual elements themselves.\n",
        "  cows = sum(1 for i, num1 in enumerate(first) for j, num2 in enumerate(second) if num1 == num2 and i != j)\n",
        "  return ('B'*bulls+'C'*cows+'X'*(len(first)-cows-bulls))\n",
        "\n",
        "\n",
        "# Test\n",
        "keylist = [11, 3, 17, 5, 1]\n",
        "guesslist = [20, 2, 17, 3, 1]\n",
        "response(keylist,guesslist)"
      ],
      "metadata": {
        "id": "RD1qq7l783y5",
        "colab": {
          "base_uri": "https://localhost:8080/",
          "height": 35
        },
        "outputId": "abdfd762-abc5-45a1-f482-e4b1d727ce13"
      },
      "execution_count": 152,
      "outputs": [
        {
          "output_type": "execute_result",
          "data": {
            "text/plain": [
              "'BBCXX'"
            ],
            "application/vnd.google.colaboratory.intrinsic+json": {
              "type": "string"
            }
          },
          "metadata": {},
          "execution_count": 152
        }
      ]
    },
    {
      "cell_type": "markdown",
      "metadata": {
        "id": "LWshNPjPZJdQ"
      },
      "source": [
        "6.  **Choose the secret code**  \n",
        "The `random` package, and specifically the `sample` sub-package, is useful for generating random samples.  Try running the following lines of code several times.\n",
        "\n"
      ]
    },
    {
      "cell_type": "code",
      "source": [
        "from random import sample\n",
        "\n",
        "sample(range(1,7),4)  # the first argument is the population to be sampled, and the second is the number of samples\n",
        "                      # recall that `range(a,b)` includes `a` but stops at `b-1`"
      ],
      "metadata": {
        "id": "OzEZ5BQZ85jV",
        "colab": {
          "base_uri": "https://localhost:8080/"
        },
        "outputId": "9550ac07-421d-498e-c0bb-50a49b330d92"
      },
      "execution_count": 109,
      "outputs": [
        {
          "output_type": "execute_result",
          "data": {
            "text/plain": [
              "[2, 1, 6, 3]"
            ]
          },
          "metadata": {},
          "execution_count": 109
        }
      ]
    },
    {
      "cell_type": "markdown",
      "source": [
        "What type of object is returned by the `sample` function?\n"
      ],
      "metadata": {
        "id": "N1BOe2Xd-kr4"
      }
    },
    {
      "cell_type": "code",
      "source": [
        "hi = sample(range(1,7),4)\n",
        "type(hi)\n",
        "print(\"It returns a list.\")"
      ],
      "metadata": {
        "id": "U5AAu9sG-slX",
        "colab": {
          "base_uri": "https://localhost:8080/"
        },
        "outputId": "70dc351e-8977-4969-9768-a082306d1709"
      },
      "execution_count": 145,
      "outputs": [
        {
          "output_type": "stream",
          "name": "stdout",
          "text": [
            "It returns a list.\n"
          ]
        }
      ]
    },
    {
      "cell_type": "markdown",
      "source": [
        "7. **Verify the guess**  \n",
        "Finish writing a function called `get_guess` (started below) to prompt the user for a guess and then make sure the input is valid according to the rules of the game.\n",
        "The prompt is already given.  Note that the `list` command converts the input into a list of characters so that it can be passed to the other functions (which are expecting lists).   \n",
        ">**Alert:  you will likely have to think more about data types before this is all over.**"
      ],
      "metadata": {
        "id": "mbK84TdIAVsO"
      }
    },
    {
      "cell_type": "code",
      "source": [
        "def get_guess():\n",
        "  '''\n",
        "    This function validates your guess for the secret password. If your guess does not fit the requirements, it will reprompt you to type a new guess.\n",
        "    It returns your guess once it is validated.\n",
        "  '''\n",
        "  print(\"Guess the secret password I am thinking of. It must be four digits long, only digits 1-6, and no repeats.\")\n",
        "  # Boolean to keep function prompting you until you make a valid guess.\n",
        "  boolean = False\n",
        "  while boolean == False:\n",
        "    # takes input of a guess, and turns it into list form\n",
        "    guess = list(input(\"Please enter your guess for the secret code: \"))\n",
        "    try:\n",
        "      # turns each item in the list into an integer.\n",
        "      {int(item) for item in guess}\n",
        "      # makes sure length of password is 4 digits.\n",
        "      if len(guess) !=4:\n",
        "        print('Your guess must be exactly four digits. Try again!')\n",
        "      # Validates each item is a digit 1-6\n",
        "      elif any(int(item) > 6 or int(item) < 1 for item in guess):\n",
        "        print('Your guess must contain digits from 1 to 6 only. Try again!')\n",
        "      # Validates no digits are repeated\n",
        "      elif len(set(guess)) !=4:\n",
        "        print('Remember not to repeat digits. Try again!')\n",
        "      # If all requirements are satisfied, it returns the guess\n",
        "      else:\n",
        "        boolean = True\n",
        "    except:\n",
        "      # If each item is not an integer, it breaks and reprompts you.\n",
        "      print('Your guess must be made up only of digits. Try again!')\n",
        "  # Turns items in the list from strings to integers\n",
        "  guess = [int(item) for item in guess]\n",
        "  return guess"
      ],
      "metadata": {
        "id": "13HGg6VvBXSH"
      },
      "execution_count": 146,
      "outputs": []
    },
    {
      "cell_type": "markdown",
      "source": [
        "As usual, test your code.  What type of objects are we dealing with here?"
      ],
      "metadata": {
        "id": "PSPYpeZYONf0"
      }
    },
    {
      "cell_type": "code",
      "source": [
        "\n",
        "type(get_guess())\n",
        "# It returns a list."
      ],
      "metadata": {
        "id": "ytgf6BfiOPNh",
        "colab": {
          "base_uri": "https://localhost:8080/"
        },
        "outputId": "87046a7a-285d-41e7-b236-20cba27b373e"
      },
      "execution_count": 116,
      "outputs": [
        {
          "name": "stdout",
          "output_type": "stream",
          "text": [
            "Guess the secret password I am thinking of. It must be four digits long, only digits 1-6, and no repeats.\n",
            "Please enter your guess for the secret code: 1234\n"
          ]
        },
        {
          "output_type": "execute_result",
          "data": {
            "text/plain": [
              "list"
            ]
          },
          "metadata": {},
          "execution_count": 116
        }
      ]
    },
    {
      "cell_type": "markdown",
      "source": [
        "8. **Put it all together**  \n",
        "Finally, fill in the details of the function `bulls_cows` below so that it will play the game of Bulls and Cows when called.  Note that the function takes no arguments and returns nothing.\n"
      ],
      "metadata": {
        "id": "WdtvUrA4-uzn"
      }
    },
    {
      "cell_type": "code",
      "execution_count": 147,
      "metadata": {
        "id": "_u48oidGzRKX"
      },
      "outputs": [],
      "source": [
        "from random import sample\n",
        "\n",
        "def bulls_cows():\n",
        "  '''\n",
        "  This function plays the game \"Bulls and Cows.\"\n",
        "  It takes no arguments and returns nothing.\n",
        "  '''\n",
        "  code = list(sample(range(1,7),4))         # computer selects the secret code\n",
        "  for i in range(6):                  # user gets a maximum of 6 guesses\n",
        "    attempt = get_guess()                       # (finish) run a function to get a guess\n",
        "    if code==attempt:\n",
        "      print(\"You guessed it!\")\n",
        "      return\n",
        "    print(response(code,attempt))\n",
        "  print(f\"You have run out of guesses. The secret code was {code}.\")\n",
        "  return"
      ]
    },
    {
      "cell_type": "markdown",
      "metadata": {
        "id": "NzjqX_9K3OuV"
      },
      "source": [
        "Play the game a few times below.  Make sure it behaves as you think it should!"
      ]
    },
    {
      "cell_type": "code",
      "execution_count": 148,
      "metadata": {
        "id": "b-HELV-z3OuW",
        "colab": {
          "base_uri": "https://localhost:8080/"
        },
        "outputId": "b0f05e5c-3f12-4eb8-8f40-64598c3ac64d"
      },
      "outputs": [
        {
          "output_type": "stream",
          "name": "stdout",
          "text": [
            "Guess the secret password I am thinking of. It must be four digits long, only digits 1-6, and no repeats.\n",
            "Please enter your guess for the secret code: 1234\n",
            "BCCX\n",
            "Guess the secret password I am thinking of. It must be four digits long, only digits 1-6, and no repeats.\n",
            "Please enter your guess for the secret code: 4321\n",
            "CCCX\n",
            "Guess the secret password I am thinking of. It must be four digits long, only digits 1-6, and no repeats.\n",
            "Please enter your guess for the secret code: 1632\n",
            "CCCX\n",
            "Guess the secret password I am thinking of. It must be four digits long, only digits 1-6, and no repeats.\n",
            "Please enter your guess for the secret code: 1235\n",
            "BCXX\n",
            "Guess the secret password I am thinking of. It must be four digits long, only digits 1-6, and no repeats.\n",
            "Please enter your guess for the secret code: 1426\n",
            "CCCX\n",
            "Guess the secret password I am thinking of. It must be four digits long, only digits 1-6, and no repeats.\n",
            "Please enter your guess for the secret code: 4216\n",
            "BCCX\n",
            "You have run out of guesses. The secret code was [6, 2, 4, 3].\n"
          ]
        }
      ],
      "source": [
        "bulls_cows()"
      ]
    },
    {
      "cell_type": "code",
      "source": [
        "bulls_cows()"
      ],
      "metadata": {
        "id": "inzOdtimDfGU",
        "colab": {
          "base_uri": "https://localhost:8080/"
        },
        "outputId": "b9de9b84-79f6-4884-82aa-d7a6a4b3bd5e"
      },
      "execution_count": 149,
      "outputs": [
        {
          "output_type": "stream",
          "name": "stdout",
          "text": [
            "Guess the secret password I am thinking of. It must be four digits long, only digits 1-6, and no repeats.\n",
            "Please enter your guess for the secret code: asidfj\n",
            "Your guess must be made up only of digits. Try again!\n",
            "Please enter your guess for the secret code: lakwj\n",
            "Your guess must be made up only of digits. Try again!\n",
            "Please enter your guess for the secret code: 123\n",
            "Your guess must be exactly four digits. Try again!\n",
            "Please enter your guess for the secret code: 175987\n",
            "Your guess must be exactly four digits. Try again!\n",
            "Please enter your guess for the secret code: 1879\n",
            "Your guess must contain digits from 1 to 6 only. Try again!\n",
            "Please enter your guess for the secret code: 1234\n",
            "BBCX\n",
            "Guess the secret password I am thinking of. It must be four digits long, only digits 1-6, and no repeats.\n",
            "Please enter your guess for the secret code: 1246\n",
            "BCXX\n",
            "Guess the secret password I am thinking of. It must be four digits long, only digits 1-6, and no repeats.\n",
            "Please enter your guess for the secret code: 1354\n",
            "CCCX\n",
            "Guess the secret password I am thinking of. It must be four digits long, only digits 1-6, and no repeats.\n",
            "Please enter your guess for the secret code: 6231\n",
            "BBXX\n",
            "Guess the secret password I am thinking of. It must be four digits long, only digits 1-6, and no repeats.\n",
            "Please enter your guess for the secret code: 4235\n",
            "You guessed it!\n"
          ]
        }
      ]
    },
    {
      "cell_type": "code",
      "source": [
        "bulls_cows()"
      ],
      "metadata": {
        "id": "Eqw-5laFDfkG",
        "colab": {
          "base_uri": "https://localhost:8080/"
        },
        "outputId": "4451f7a2-6b00-40c7-9fa3-343ce2cc4073"
      },
      "execution_count": 150,
      "outputs": [
        {
          "output_type": "stream",
          "name": "stdout",
          "text": [
            "Guess the secret password I am thinking of. It must be four digits long, only digits 1-6, and no repeats.\n",
            "Please enter your guess for the secret code: 6543\n",
            "CCCX\n",
            "Guess the secret password I am thinking of. It must be four digits long, only digits 1-6, and no repeats.\n",
            "Please enter your guess for the secret code: 1234\n",
            "BCCX\n",
            "Guess the secret password I am thinking of. It must be four digits long, only digits 1-6, and no repeats.\n",
            "Please enter your guess for the secret code: 1426\n",
            "CCCX\n",
            "Guess the secret password I am thinking of. It must be four digits long, only digits 1-6, and no repeats.\n",
            "Please enter your guess for the secret code: 5231\n",
            "BCXX\n",
            "Guess the secret password I am thinking of. It must be four digits long, only digits 1-6, and no repeats.\n",
            "Please enter your guess for the secret code: 4263\n",
            "BCCC\n",
            "Guess the secret password I am thinking of. It must be four digits long, only digits 1-6, and no repeats.\n",
            "Please enter your guess for the secret code: 2634\n",
            "BBCC\n",
            "You have run out of guesses. The secret code was [4, 6, 3, 2].\n"
          ]
        }
      ]
    },
    {
      "cell_type": "markdown",
      "source": [
        "9. **Reflect**  \n",
        "Think of at least three ways you could change the rules or setup of the game, and in each case describe (in one sentence, you don't need to write code) what you would have to do to modify your code to play the new version of the game.  Use a text box below for each of your ideas."
      ],
      "metadata": {
        "id": "a58-KCX4ELRO"
      }
    },
    {
      "cell_type": "markdown",
      "source": [
        "(1) **Larger range of numbers.** This would be changed in the get_guess() function and the *elif any(int(item) > 6 or int(item) < 1 for item in guess):* line would be deleted"
      ],
      "metadata": {
        "id": "Jof2vIZSEfwo"
      }
    },
    {
      "cell_type": "markdown",
      "source": [
        "(2) **Set difficulty modes.** In this case, easy would show where in the code the bulls and codes are, normal difficulty would be played as normal, and hard difficulty would reduce the number of guesses allowed."
      ],
      "metadata": {
        "id": "f2_QlBavEiqW"
      }
    },
    {
      "cell_type": "markdown",
      "source": [
        "(3) **Allow repeating digits** This would be done by using a for loop to generate random integers as the code, instead of the sample() function."
      ],
      "metadata": {
        "id": "sqfq2EFpEjZt"
      }
    }
  ],
  "metadata": {
    "colab": {
      "provenance": [],
      "include_colab_link": true
    },
    "kernelspec": {
      "display_name": "Python 3",
      "name": "python3"
    },
    "language_info": {
      "name": "python"
    }
  },
  "nbformat": 4,
  "nbformat_minor": 0
}