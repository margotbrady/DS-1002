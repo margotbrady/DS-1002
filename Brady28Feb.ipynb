{
  "nbformat": 4,
  "nbformat_minor": 0,
  "metadata": {
    "colab": {
      "provenance": [],
      "authorship_tag": "ABX9TyOj1NYXtY98EzGhlPIlUu10",
      "include_colab_link": true
    },
    "kernelspec": {
      "name": "python3",
      "display_name": "Python 3"
    },
    "language_info": {
      "name": "python"
    }
  },
  "cells": [
    {
      "cell_type": "markdown",
      "metadata": {
        "id": "view-in-github",
        "colab_type": "text"
      },
      "source": [
        "<a href=\"https://colab.research.google.com/github/margotbrady/DS-1002/blob/main/Brady28Feb.ipynb\" target=\"_parent\"><img src=\"https://colab.research.google.com/assets/colab-badge.svg\" alt=\"Open In Colab\"/></a>"
      ]
    },
    {
      "cell_type": "code",
      "execution_count": 1,
      "metadata": {
        "colab": {
          "base_uri": "https://localhost:8080/"
        },
        "id": "zUqFaMfo1lwI",
        "outputId": "8557a521-401e-4ef7-e490-a2b7f085fb8d"
      },
      "outputs": [
        {
          "output_type": "stream",
          "name": "stdout",
          "text": [
            "Collecting english_words\n",
            "  Downloading english-words-2.0.1.tar.gz (8.2 MB)\n",
            "\u001b[2K     \u001b[90m━━━━━━━━━━━━━━━━━━━━━━━━━━━━━━━━━━━━━━━━\u001b[0m \u001b[32m8.2/8.2 MB\u001b[0m \u001b[31m19.6 MB/s\u001b[0m eta \u001b[36m0:00:00\u001b[0m\n",
            "\u001b[?25h  Installing build dependencies ... \u001b[?25l\u001b[?25hdone\n",
            "  Getting requirements to build wheel ... \u001b[?25l\u001b[?25hdone\n",
            "  Preparing metadata (pyproject.toml) ... \u001b[?25l\u001b[?25hdone\n",
            "Building wheels for collected packages: english_words\n",
            "  Building wheel for english_words (pyproject.toml) ... \u001b[?25l\u001b[?25hdone\n",
            "  Created wheel for english_words: filename=english_words-2.0.1-py3-none-any.whl size=8196238 sha256=09c397fa42d2366e3fc71e686820f6ade127fe270d8e943715a48b68ea206ca4\n",
            "  Stored in directory: /root/.cache/pip/wheels/f0/e6/d9/16a123647999fe535f03a36e7af23eef203736d84c7ca25b0b\n",
            "Successfully built english_words\n",
            "Installing collected packages: english_words\n",
            "Successfully installed english_words-2.0.1\n"
          ]
        }
      ],
      "source": [
        "!pip install english_words\n",
        "from english_words import get_english_words_set\n",
        "words = get_english_words_set(['web2'], lower=True)\n"
      ]
    },
    {
      "cell_type": "code",
      "source": [
        "# 1\n",
        "print(type(words))\n",
        "# Words is a set, so I must convert it into a list.\n",
        "wordlist= list(words)\n",
        "print(\"There are \"+str(len(wordlist))+\" words in the list.\")"
      ],
      "metadata": {
        "colab": {
          "base_uri": "https://localhost:8080/"
        },
        "id": "5jVcY8RC113n",
        "outputId": "a689dc1a-a4ee-471f-af03-ff6ebd2ef551"
      },
      "execution_count": 2,
      "outputs": [
        {
          "output_type": "stream",
          "name": "stdout",
          "text": [
            "<class 'set'>\n",
            "There are 234450 words in the list.\n"
          ]
        }
      ]
    },
    {
      "cell_type": "code",
      "source": [
        "#2\n",
        "print(wordlist[0:10])\n",
        "# They are not in alphabetical order"
      ],
      "metadata": {
        "colab": {
          "base_uri": "https://localhost:8080/"
        },
        "id": "v5nxIiYS26BD",
        "outputId": "72ebf89a-0200-40e3-a1d1-7d9c4247db0d"
      },
      "execution_count": 3,
      "outputs": [
        {
          "output_type": "stream",
          "name": "stdout",
          "text": [
            "['unwrestedly', 'halichondriae', 'strawlike', 'scissurellid', 'phenoplast', 'spatulation', 'ineunt', 'tarve', 'pneumonodynia', 'paleolith']\n"
          ]
        }
      ]
    },
    {
      "cell_type": "code",
      "source": [
        "#3\n",
        "alpha_list = sorted(wordlist)\n",
        "print(alpha_list[0:10])"
      ],
      "metadata": {
        "colab": {
          "base_uri": "https://localhost:8080/"
        },
        "id": "VdFXksxO3Cjo",
        "outputId": "113605b4-5154-49bd-9b13-533189a392af"
      },
      "execution_count": 4,
      "outputs": [
        {
          "output_type": "stream",
          "name": "stdout",
          "text": [
            "['a', 'aa', 'aal', 'aalii', 'aam', 'aani', 'aardvark', 'aardwolf', 'aaron', 'aaronic']\n"
          ]
        }
      ]
    },
    {
      "cell_type": "code",
      "source": [
        "#4\n",
        "# Creates new list\n",
        "awords = []\n",
        "for word in alpha_list:\n",
        "  # For each word in the list, it checks if the first letter is 'a'.\n",
        "  if word[0]=='a':\n",
        "    # This adds the word to the list if the condition is met.\n",
        "    awords.append(word)\n",
        "print(\"The number of words that start with a is: \" +str(len(awords)))\n"
      ],
      "metadata": {
        "colab": {
          "base_uri": "https://localhost:8080/"
        },
        "id": "i6yDw8li3LV4",
        "outputId": "e063f48d-e48a-425a-90a4-a541efae5714"
      },
      "execution_count": 5,
      "outputs": [
        {
          "output_type": "stream",
          "name": "stdout",
          "text": [
            "The number of words that start with a is: 16982\n"
          ]
        }
      ]
    },
    {
      "cell_type": "code",
      "source": [
        "#5\n",
        "wordswithq =[]\n",
        "# Looks through every word in the list\n",
        "for word in alpha_list:\n",
        "  # Looks through each character in the word.\n",
        "  for char in word:\n",
        "    if char =='q':\n",
        "      # If the letter is equal to 'q', it adds it to the list, and goes back to the first for loop.\n",
        "      wordswithq.append(word)\n",
        "      break\n",
        "\n",
        "\n",
        "print(\"There are \"+str(len(wordswithq))+\" words in the list that contain a q.\")\n",
        "\n",
        "wordswithnoe=[]\n",
        "for word in alpha_list:\n",
        "  # Looks through each word in the list.\n",
        "  for char in word:\n",
        "    # In each word in the list, it looks at each character/letter.\n",
        "    if char=='e':\n",
        "      # It moves on if there's an e, but it it does find an e, it adds to the list.\n",
        "      break\n",
        "  else:\n",
        "    wordswithnoe.append(word)\n",
        "\n",
        "fraction= len(wordswithnoe)/len(words)\n",
        "print(\"Fraction of words with no e: \"+str(fraction))"
      ],
      "metadata": {
        "colab": {
          "base_uri": "https://localhost:8080/"
        },
        "id": "uR3hOfQ33_IC",
        "outputId": "4b98a8c7-d40c-4334-f0e0-688fff5427a6"
      },
      "execution_count": 6,
      "outputs": [
        {
          "output_type": "stream",
          "name": "stdout",
          "text": [
            "There are 3624 words in the list that contain a q.\n",
            "Fraction of words with no e: 0.32828321603753463\n"
          ]
        }
      ]
    },
    {
      "cell_type": "code",
      "source": [
        "#6\n",
        "import numpy as np\n",
        "wordarray = np.array(alpha_list)\n",
        "awordlist = np.array(awords)\n",
        "alphabet = [chr(i) for i in range(ord('a'),ord('z')+1)]\n",
        "# This creates a list of all of the letters in the alphabet.\n",
        "print(alphabet)"
      ],
      "metadata": {
        "colab": {
          "base_uri": "https://localhost:8080/"
        },
        "id": "odAsSitK45tp",
        "outputId": "a6a13478-ae26-4493-bc9a-3f52227d3b6a"
      },
      "execution_count": 7,
      "outputs": [
        {
          "output_type": "stream",
          "name": "stdout",
          "text": [
            "['a', 'b', 'c', 'd', 'e', 'f', 'g', 'h', 'i', 'j', 'k', 'l', 'm', 'n', 'o', 'p', 'q', 'r', 's', 't', 'u', 'v', 'w', 'x', 'y', 'z']\n"
          ]
        }
      ]
    },
    {
      "cell_type": "code",
      "source": [
        "# 7\n",
        "import matplotlib.pyplot as plt\n",
        "# Blank letter count list\n",
        "lettercounts = []\n",
        "# For each element in the list, it searches throughout the wordlist for words that start with that letter.\n",
        "for letter in alphabet:\n",
        "  counter = 0\n",
        "  for word in alpha_list:\n",
        "    if word[0] == letter:\n",
        "      # This counts up how many there are for each letter.\n",
        "      counter +=1\n",
        "  lettercounts.append(counter)\n",
        "\n",
        "print(lettercounts)\n",
        "\n",
        "plt.bar(alphabet, lettercounts)\n",
        "plt.plot()\n",
        "plt.xlabel(\"Letters\")\n",
        "plt.ylabel(\"Number of Words\")\n",
        "plt.title(\"Number of Words Starting with Each Letter\")\n",
        "plt.show()"
      ],
      "metadata": {
        "colab": {
          "base_uri": "https://localhost:8080/",
          "height": 490
        },
        "id": "j_lWF6evQnti",
        "outputId": "f282a00c-25bf-471d-b092-d509150a15b8"
      },
      "execution_count": 8,
      "outputs": [
        {
          "output_type": "stream",
          "name": "stdout",
          "text": [
            "[16982, 10970, 19789, 10853, 8705, 6841, 6772, 8997, 8787, 1604, 2242, 6234, 12516, 6747, 7831, 24342, 1148, 9618, 24937, 12855, 16364, 3418, 3913, 380, 663, 942]\n"
          ]
        },
        {
          "output_type": "display_data",
          "data": {
            "text/plain": [
              "<Figure size 640x480 with 1 Axes>"
            ],
            "image/png": "[encoded data removed]"
          },
          "metadata": {}
        }
      ]
    },
    {
      "cell_type": "code",
      "source": [
        "#8\n",
        "# Uses the sorted function and sorts by length, and it is in reverse order.\n",
        "sortedlengths = sorted(words, key = len, reverse = True)\n",
        "print(sortedlengths[:6])"
      ],
      "metadata": {
        "colab": {
          "base_uri": "https://localhost:8080/"
        },
        "id": "ptM52xFQWOwS",
        "outputId": "069e0900-c608-4965-b29b-dd97074ee2ee"
      },
      "execution_count": 9,
      "outputs": [
        {
          "output_type": "stream",
          "name": "stdout",
          "text": [
            "['antidisestablishmentarianism', 'scientificophilosophical', 'thyroparathyroidectomize', 'pathologicopsychological', 'tetraiodophenolphthalein', 'formaldehydesulphoxylate']\n"
          ]
        }
      ]
    },
    {
      "cell_type": "code",
      "source": [
        "# This counts the length of the longest word in the list, which we sorted in the previous section.\n",
        "len(sortedlengths[0])\n",
        "# This creates an array, with each element being the length of the word for each element in 'words'.\n",
        "counts = np.array ([len(word) for word in words])\n",
        "print(counts)\n",
        "# Creates histogram of the counts\n",
        "plt.hist(counts, bins =28)\n",
        "plt.xlabel('Word Length')\n",
        "plt.ylabel('Number of Words')\n",
        "plt.title('Distribution of Word Lengths')\n",
        "plt.show()\n",
        "\n",
        "# This is a package that can search arrays for stats functions, such as modes.\n",
        "from scipy import stats\n",
        "mode = stats.mode(counts)\n",
        "print(\"The most common length of a word is: \"+ str(mode[0]))\n",
        "\n"
      ],
      "metadata": {
        "colab": {
          "base_uri": "https://localhost:8080/",
          "height": 508
        },
        "id": "YgK9R3X2WmZj",
        "outputId": "62daf7b3-733c-48a2-b1fb-fa709cdd3bda"
      },
      "execution_count": 10,
      "outputs": [
        {
          "output_type": "stream",
          "name": "stdout",
          "text": [
            "[11 13  9 ... 15  5 12]\n"
          ]
        },
        {
          "output_type": "display_data",
          "data": {
            "text/plain": [
              "<Figure size 640x480 with 1 Axes>"
            ],
            "image/png": "[encoded data removed]"
          },
          "metadata": {}
        },
        {
          "output_type": "stream",
          "name": "stdout",
          "text": [
            "The most common length of a word is: 9\n"
          ]
        }
      ]
    },
    {
      "cell_type": "code",
      "source": [
        "# BONUS PART 1\n",
        "\n",
        "wordswithvanda =[]\n",
        "# Looks through every word in the list\n",
        "for word in alpha_list:\n",
        "  hasv = False\n",
        "  hasa = False\n",
        "  # Booleans for having an a or a v in the word.\n",
        "  for char in word:\n",
        "    if char =='v':\n",
        "      hasv = True\n",
        "    elif char == 'a':\n",
        "      hasa = True\n",
        "  if hasv and hasa ==True:\n",
        "    wordswithvanda.append(word)\n",
        "print(\"There are \"+str(len(wordswithvanda))+\" words that contain both the letters 'v' and 'a'.\")\n",
        "\n",
        "wordswithwandl=[]\n",
        "# Looks through every word in the list\n",
        "for word in alpha_list:\n",
        "  hasw = False\n",
        "  hasl = False\n",
        "  # Booleans for having an w or a l in the word.\n",
        "  for char in word:\n",
        "    if char =='w':\n",
        "      hasw = True\n",
        "    elif char == 'l':\n",
        "      hasl = True\n",
        "  if hasw and hasl ==True:\n",
        "    wordswithwandl.append(word)\n",
        "print(\"There are \"+str(len(wordswithwandl))+\" words that contain both the letters 'w' and 'l'.\")\n",
        "print(\"This took 0 seconds to run.\")\n"
      ],
      "metadata": {
        "colab": {
          "base_uri": "https://localhost:8080/"
        },
        "id": "7T6pu8m640bz",
        "outputId": "6a4dbe29-5a14-4b06-a5d4-d8cb052c64ac"
      },
      "execution_count": 11,
      "outputs": [
        {
          "output_type": "stream",
          "name": "stdout",
          "text": [
            "There are 11347 words that contain both the letters 'v' and 'a'.\n",
            "There are 4822 words that contain both the letters 'w' and 'l'.\n",
            "This took 0 seconds to run.\n"
          ]
        }
      ]
    },
    {
      "cell_type": "code",
      "source": [
        "# BONUS PART 2\n",
        "#Create a list of all the letter pairs possible\n",
        "letterpairs = []\n",
        "for letter1 in range(len(alphabet)):\n",
        "  for letter2 in  range(len(alphabet)):\n",
        "    letterpairs.append((alphabet[letter1],alphabet[letter2]))\n",
        "\n",
        "# Creates max and min for later\n",
        "max=0\n",
        "min=1000000000\n",
        "return_value_max= ('','')\n",
        "return_value_min= ('','')\n",
        "# Create blank dictionary\n",
        "dictionary={}\n",
        "\n",
        "\n",
        "for pair in range(len(letterpairs)):\n",
        "  counter =0\n",
        "  # For each pair in the list, it checks each word\n",
        "  for word in alpha_list:\n",
        "    #Booleans for each letter\n",
        "    has1 = False\n",
        "    has2 = False\n",
        "    for char in word:\n",
        "      # This is my code from above, but altered so it checks how often each pair is in alpha_list\n",
        "      if char ==letterpairs[pair][0] and has1==False:\n",
        "        has1 = True\n",
        "      elif char == letterpairs[pair][1]:\n",
        "        has2 = True\n",
        "    if has1==True and has2 ==True:\n",
        "      counter+=1\n",
        "  dictionary[letterpairs[pair]]=counter\n",
        "\n",
        "# This finds the max and min value for the dictionaries.\n",
        "for i in range(len(dictionary)):\n",
        "  if(int(dictionary[letterpairs[i]])>max):\n",
        "    max = dictionary[letterpairs[i]]\n",
        "    return_value_max= (letterpairs[i][0],letterpairs[i][1])\n",
        "  if(int(dictionary[letterpairs[i]])<min):\n",
        "    min = dictionary[letterpairs[i]]\n",
        "    return_value_min= (letterpairs[i][0],letterpairs[i][1])\n",
        "\n",
        "\n",
        "\n",
        "print(\"This is the least common letter pair: \"+str(return_value_min)+\"\\n\"+\"This is the amount of times it occured: \"+str(min))\n",
        "print(\"This is the most common letter pair: \"+str(return_value_max)+\"\\n\"+\"This is the amount of times it occured: \"+str(max))\n",
        "\n",
        "\n",
        "\n",
        "\n",
        "\n"
      ],
      "metadata": {
        "colab": {
          "base_uri": "https://localhost:8080/"
        },
        "id": "cCvfJ3Hd72in",
        "outputId": "bdc13ce2-4562-489c-dab0-a89639a65b52"
      },
      "execution_count": 57,
      "outputs": [
        {
          "output_type": "stream",
          "name": "stdout",
          "text": [
            "This is the least common letter pair: ('x', 'x')\n",
            "This is the amount of times it occured: 28\n",
            "This is the most common letter pair: ('e', 'i')\n",
            "This is the amount of times it occured: 93254\n"
          ]
        }
      ]
    },
    {
      "cell_type": "code",
      "source": [],
      "metadata": {
        "id": "Ex1xaq-Usle5"
      },
      "execution_count": null,
      "outputs": []
    }
  ]
}