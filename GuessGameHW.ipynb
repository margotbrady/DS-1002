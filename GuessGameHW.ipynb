{
  "nbformat": 4,
  "nbformat_minor": 0,
  "metadata": {
    "colab": {
      "provenance": [],
      "authorship_tag": "ABX9TyNNaOqK2q9e3pGm5Nj+3VpI",
      "include_colab_link": true
    },
    "kernelspec": {
      "name": "python3",
      "display_name": "Python 3"
    },
    "language_info": {
      "name": "python"
    }
  },
  "cells": [
    {
      "cell_type": "markdown",
      "metadata": {
        "id": "view-in-github",
        "colab_type": "text"
      },
      "source": [
        "<a href=\"https://colab.research.google.com/github/margotbrady/DS-1002/blob/main/GuessGameHW.ipynb\" target=\"_parent\"><img src=\"https://colab.research.google.com/assets/colab-badge.svg\" alt=\"Open In Colab\"/></a>"
      ]
    },
    {
      "cell_type": "code",
      "execution_count": null,
      "metadata": {
        "colab": {
          "base_uri": "https://localhost:8080/"
        },
        "id": "rMOaXfD156Sl",
        "outputId": "a7e96250-5482-4e12-f1ea-fe808b9454a3"
      },
      "outputs": [
        {
          "output_type": "stream",
          "name": "stderr",
          "text": [
            "<ipython-input-1-c7f282a4fc7d>:3: DeprecationWarning: This function is deprecated. Please call randint(0, 100 + 1) instead\n",
            "  number = np.random.random_integers(0,100)\n"
          ]
        },
        {
          "output_type": "stream",
          "name": "stdout",
          "text": [
            "I'm coming up with a number between 0-100. Guess what my number is!\n"
          ]
        }
      ],
      "source": [
        "import numpy as np\n",
        "\n",
        "number = np.random.random_integers(0,100)\n",
        "print(\"I'm coming up with a number between 0-100. Guess what my number is!\")\n",
        "boolean = False\n",
        "counter=0\n",
        "while boolean == False:\n",
        "  guess = input()\n",
        "  try:\n",
        "    guess = int(guess)\n",
        "    if guess < 0 or guess> 100:\n",
        "      print(\"Please print an integer from 0-100. Try again.\")\n",
        "    elif guess == number:\n",
        "      print(\"You got it!\")\n",
        "      counter+=1\n",
        "      boolean = True\n",
        "      print(\"It took you \"+ str(counter)+\" tries.\")\n",
        "    elif guess > number:\n",
        "      print(\"Your guess is too high. Try again.\")\n",
        "      counter+=1\n",
        "    else:\n",
        "      print(\"Your guess is too low. Try again.\")\n",
        "      counter+=1\n",
        "  except ValueError:\n",
        "    print(\"Invalid input. Please print an integer from 0-100. Try again.\")"
      ]
    },
    {
      "cell_type": "markdown",
      "source": [
        "This took about an hour to complete.\n"
      ],
      "metadata": {
        "id": "vK-m9hTvxlmJ"
      }
    }
  ]
}