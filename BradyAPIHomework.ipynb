{
  "nbformat": 4,
  "nbformat_minor": 0,
  "metadata": {
    "colab": {
      "provenance": [],
      "authorship_tag": "ABX9TyMCqn+cACPFpsvkKyIq1hE6",
      "include_colab_link": true
    },
    "kernelspec": {
      "name": "python3",
      "display_name": "Python 3"
    },
    "language_info": {
      "name": "python"
    }
  },
  "cells": [
    {
      "cell_type": "markdown",
      "metadata": {
        "id": "view-in-github",
        "colab_type": "text"
      },
      "source": [
        "<a href=\"https://colab.research.google.com/github/margotbrady/DS-1002/blob/main/BradyAPIHomework.ipynb\" target=\"_parent\"><img src=\"https://colab.research.google.com/assets/colab-badge.svg\" alt=\"Open In Colab\"/></a>"
      ]
    },
    {
      "cell_type": "code",
      "execution_count": 2,
      "metadata": {
        "id": "jU6zHBsGonFS"
      },
      "outputs": [],
      "source": [
        "#Import necessary libraries\n",
        "import requests\n",
        "import json\n",
        "import pandas as pd"
      ]
    },
    {
      "cell_type": "code",
      "source": [
        "stock= input(\"Input the ticker symbol you would like to research: \")"
      ],
      "metadata": {
        "colab": {
          "base_uri": "https://localhost:8080/"
        },
        "id": "oalL5qTcpA1g",
        "outputId": "b3deac36-e40c-47e1-f2ad-c27fa24d4549"
      },
      "execution_count": 71,
      "outputs": [
        {
          "name": "stdout",
          "output_type": "stream",
          "text": [
            "Input the ticker symbol you would like to research: AAPL\n"
          ]
        }
      ]
    },
    {
      "cell_type": "code",
      "source": [
        "def getstockinfo(symbol):\n",
        "    #Get info from finance/quote\n",
        "    apikey=\"generickey\"\n",
        "    url = \"https://yfapi.net/v6/finance/quote\"\n",
        "    querystring = {\"symbols\":stock}\n",
        "    headers = {\n",
        "        'x-api-key': apikey\n",
        "        }\n",
        "    # genresponse = requests.request(\"GET\", url, headers=headers, params=querystring)\n",
        "\n",
        "    try:\n",
        "        genresponse = requests.get(url, headers=headers, params=querystring)\n",
        "        genresponse.raise_for_status()\n",
        "\n",
        "    except requests.exceptions.HTTPError as errh:\n",
        "        return \"An Http Error occurred: \" + repr(errh)\n",
        "    except requests.exceptions.ConnectionError as errc:\n",
        "        return \"An Error Connecting to the API occurred: \" + repr(errc)\n",
        "    except requests.exceptions.Timeout as errt:\n",
        "        return \"A Timeout Error occurred: \" + repr(errt)\n",
        "    except requests.exceptions.InvalidHeader as erri:\n",
        "        return \"A Header Error occurred: \" + repr(erri)\n",
        "    except requests.exceptions.RequestException as err:\n",
        "        return \"An Unknown Error occurred: \" + repr(err)\n",
        "\n",
        "\n",
        "    #Get info further details\n",
        "    url2 = f\"https://yfapi.net/v11/finance/quoteSummary/{symbol}\"\n",
        "    detailquery = {\"modules\": \"price,summaryDetail,defaultKeyStatistics\"}\n",
        "    headers = {\n",
        "        'x-api-key': apikey\n",
        "        }\n",
        "    detailinfo = requests.request(\"GET\",url2, headers = headers, params = detailquery)\n",
        "\n",
        "    # Get 5 trending stocks\n",
        "\n",
        "    url3 = \"https://yfapi.net/v1/finance/trending/us\"\n",
        "\n",
        "    # No need for query parameters for trending stocks in this case\n",
        "    headers = {\n",
        "        'x-api-key': apikey\n",
        "    }\n",
        "\n",
        "    # Make the request\n",
        "    trendresponse = requests.request(\"GET\", url3, headers=headers)\n",
        "\n",
        "    #Choose 5 trending stocks from the response:\n",
        "    trendingstocks = trendresponse.json()[\"finance\"][\"result\"][0][\"quotes\"][:5]\n",
        "    stock_symbols = [stock['symbol'] for stock in trendingstocks]\n",
        "    #Get info from the API calls\n",
        "    genstock_json = genresponse.json()\n",
        "    detailstock_json = detailinfo.json()\n",
        "\n",
        "    try:\n",
        "      print(\"Ticker Name: \" + symbol +\n",
        "          \"\\nStock Name: \"+genstock_json['quoteResponse']['result'][0][\"longName\"]+\n",
        "          \"\\nCurrent Market Price: $\" + str(genstock_json['quoteResponse']['result'][0][\"regularMarketPrice\"])+\n",
        "          #Target Mean Price = Target Mean Price=Forward EPS×Forward P/E Ratio\n",
        "          \"\\nTarget Mean Price: $\" + str(detailstock_json['quoteSummary']['result'][0]['defaultKeyStatistics']['forwardEps']['raw'] *detailstock_json['quoteSummary']['result'][0]['defaultKeyStatistics'][\"forwardPE\"]['raw'])+\n",
        "          \"\\n52 Week High: $\" + str(genstock_json['quoteResponse']['result'][0][\"fiftyTwoWeekHigh\"])+\n",
        "          \"\\n52 Week Low: $\" + str(genstock_json['quoteResponse']['result'][0][\"fiftyTwoWeekLow\"])+\n",
        "          \"\\nTrending Stocks: \" + str(stock_symbols))\n",
        "    except KeyError:\n",
        "        print(f\"Error: Stock symbol '{symbol}' not found.\")\n",
        "        return\n",
        "\n",
        "    # Turn data into a dataframe:\n",
        "\n",
        "    data = {\n",
        "        \"Ticker Name\": [symbol],\n",
        "        \"Stock Name\": [genstock_json['quoteResponse']['result'][0][\"longName\"]],\n",
        "        \"Current Market Price\": [genstock_json['quoteResponse']['result'][0][\"regularMarketPrice\"]],\n",
        "        \"Target Mean Price\": [detailstock_json['quoteSummary']['result'][0]['defaultKeyStatistics']['forwardEps']['raw'] *detailstock_json['quoteSummary']['result'][0]['defaultKeyStatistics'][\"forwardPE\"]['raw']],\n",
        "        \"52 Week High\": [genstock_json['quoteResponse']['result'][0][\"fiftyTwoWeekHigh\"]],\n",
        "        \"52 Week Low\": [genstock_json['quoteResponse']['result'][0][\"fiftyTwoWeekLow\"]],\n",
        "        \"Trending Stocks\": [stock_symbols]\n",
        "    }\n",
        "\n",
        "    df1 = pd.DataFrame(data)\n",
        "# store that to a CSV file\n",
        "    df1.to_csv(\"stock_info.csv\", index=False)"
      ],
      "metadata": {
        "id": "sk5yUYboC_Cc"
      },
      "execution_count": 74,
      "outputs": []
    },
    {
      "cell_type": "code",
      "source": [
        "#Ask for Ticker Symbol\n",
        "getstockinfo(stock)"
      ],
      "metadata": {
        "colab": {
          "base_uri": "https://localhost:8080/"
        },
        "id": "qHD8JuJsD5vn",
        "outputId": "1190d04e-a5d8-4514-8a78-690785265b96"
      },
      "execution_count": 75,
      "outputs": [
        {
          "output_type": "stream",
          "name": "stdout",
          "text": [
            "Input the ticker symbol you would like to research: AAPL\n",
            "Ticker Name: AAPL\n",
            "Stock Name: Apple Inc.\n",
            "Current Market Price: $227.725\n",
            "Target Mean Price: $227.72500212\n",
            "52 Week High: $237.23\n",
            "52 Week Low: $164.08\n",
            "Trending Stocks: ['NQ=F', 'ES=F', 'YM=F', 'AMSC', 'GC=F']\n"
          ]
        }
      ]
    },
    {
      "cell_type": "markdown",
      "source": [],
      "metadata": {
        "id": "OjUA7iv6f9_J"
      }
    }
  ]
}