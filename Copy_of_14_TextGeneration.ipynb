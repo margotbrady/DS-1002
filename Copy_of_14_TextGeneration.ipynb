{
  "nbformat": 4,
  "nbformat_minor": 0,
  "metadata": {
    "colab": {
      "provenance": [],
      "include_colab_link": true
    },
    "kernelspec": {
      "name": "python3",
      "display_name": "Python 3"
    },
    "language_info": {
      "name": "python"
    }
  },
  "cells": [
    {
      "cell_type": "markdown",
      "metadata": {
        "id": "view-in-github",
        "colab_type": "text"
      },
      "source": [
        "<a href=\"https://colab.research.google.com/github/margotbrady/DS-1002/blob/main/Copy_of_14_TextGeneration.ipynb\" target=\"_parent\"><img src=\"https://colab.research.google.com/assets/colab-badge.svg\" alt=\"Open In Colab\"/></a>"
      ]
    },
    {
      "cell_type": "markdown",
      "source": [
        "## Final homework assignment:  generating text from a corpus\n",
        "\n",
        "Due Friday 3 May at 5 pm"
      ],
      "metadata": {
        "id": "tWbrZqoW5281"
      }
    },
    {
      "cell_type": "markdown",
      "source": [
        "We begin by loading all of Shakespeare's plays into a text file, and separating them into individual words.  This is made easy by the fact that someone already made a giant text file of these plays for us, and put it online.\n",
        "\n",
        "[Note that by changing the url in the following code chunk, you can load any text file that lives online in this way . . . see below.]\n",
        "\n",
        "Run the following code.  It should output a list of ten words, starting with 'From' and ending with 'rose'."
      ],
      "metadata": {
        "id": "7tMMjgkjF7gk"
      }
    },
    {
      "cell_type": "code",
      "source": [
        "from urllib.request import urlopen            #package for reading info from the web\n",
        "url='https://ocw.mit.edu/ans7870/6/6.006/s08/lecturenotes/files/t8.shakespeare.txt'   #web address\n",
        "text = urlopen(url).read().decode('utf-8')    #open web address, read file, convert to text\n",
        "shakespeare_words=text.split()[1651:]         #split text into words (not including preamble)\n",
        "shakespeare_words[:10]                        #display the first 10 words"
      ],
      "metadata": {
        "id": "PoW71ljm2GS-",
        "colab": {
          "base_uri": "https://localhost:8080/"
        },
        "outputId": "2dc0cc0b-df34-47e0-81b4-e19782af8ba7"
      },
      "execution_count": 163,
      "outputs": [
        {
          "output_type": "execute_result",
          "data": {
            "text/plain": [
              "['From',\n",
              " 'fairest',\n",
              " 'creatures',\n",
              " 'we',\n",
              " 'desire',\n",
              " 'increase,',\n",
              " 'That',\n",
              " 'thereby',\n",
              " \"beauty's\",\n",
              " 'rose']"
            ]
          },
          "metadata": {},
          "execution_count": 163
        }
      ]
    },
    {
      "cell_type": "markdown",
      "source": [
        "## 1. `nextwords` practice\n",
        "\n",
        "Create a practice function called `createNextwordsPractice` which takes a list of words called `wordlist` and returns a dictionary called `nextwordsPractice`. The keys of `nextwordsPractice` should be all the words in `wordlist`, and the value for any given key should be a list of all the words that follow the key word somewhere in the original `wordlist`.\n",
        "\n"
      ],
      "metadata": {
        "id": "AIeohQaAHRF8"
      }
    },
    {
      "cell_type": "code",
      "source": [
        "def createNextwordsPractice(wordlist):\n",
        "    nextwordsPractice = {}\n",
        "    # Originally I had a forloop inside a forloop, but it took way too long, so I changed it to this\n",
        "    for i in range(len(wordlist) - 1):    # Loop through the wordlist using indices, but stop before the last word to avoid an out-of-range error\n",
        "        currentword = wordlist[i]  # Saves key word\n",
        "        nextword = wordlist[i + 1]  # Saves word that comes next\n",
        "        if currentword in nextwordsPractice: # If there is already a key for the currentword, add nextword to its list of values\n",
        "            nextwordsPractice[currentword].append(nextword)\n",
        "        else:\n",
        "            nextwordsPractice[currentword] = [nextword] # If there's not a key for the currentword, this creates a new one with nextword as its value\n",
        "    return nextwordsPractice"
      ],
      "metadata": {
        "id": "2XZa2K3C3InW"
      },
      "execution_count": 164,
      "outputs": []
    },
    {
      "cell_type": "code",
      "source": [
        "#Using the example from the email as practice\n",
        "practiceround = [\"a\",\"b\",\"c\",\"d\",\"e\",\"a\",\"d\",\"f\",\"a\",\"a\"]\n",
        "createNextwordsPractice(practiceround)\n"
      ],
      "metadata": {
        "colab": {
          "base_uri": "https://localhost:8080/"
        },
        "id": "N-3H30NVh9_0",
        "outputId": "c39dfedb-548a-42c1-d8c4-1056954ea90f"
      },
      "execution_count": 165,
      "outputs": [
        {
          "output_type": "execute_result",
          "data": {
            "text/plain": [
              "{'a': ['b', 'd', 'a'],\n",
              " 'b': ['c'],\n",
              " 'c': ['d'],\n",
              " 'd': ['e', 'f'],\n",
              " 'e': ['a'],\n",
              " 'f': ['a']}"
            ]
          },
          "metadata": {},
          "execution_count": 165
        }
      ]
    },
    {
      "cell_type": "markdown",
      "source": [
        "Run the following code:"
      ],
      "metadata": {
        "id": "FH3N2raWjtfd"
      }
    },
    {
      "cell_type": "code",
      "source": [
        "practice = createNextwordsPractice(shakespeare_words)\n",
        "practice['From']"
      ],
      "metadata": {
        "id": "P3M8beYAjiie",
        "colab": {
          "base_uri": "https://localhost:8080/"
        },
        "outputId": "1650de49-dcaf-49c6-88ce-752132cd69e5"
      },
      "execution_count": 166,
      "outputs": [
        {
          "output_type": "execute_result",
          "data": {
            "text/plain": [
              "['fairest',\n",
              " 'his',\n",
              " 'sullen',\n",
              " 'limits',\n",
              " 'hands',\n",
              " 'whence',\n",
              " 'where',\n",
              " 'me',\n",
              " 'this',\n",
              " 'thy',\n",
              " 'hence',\n",
              " 'thee,',\n",
              " 'you',\n",
              " 'heaven',\n",
              " 'her',\n",
              " 'simple',\n",
              " 'whence',\n",
              " 'below',\n",
              " 'lowest',\n",
              " 'courtly',\n",
              " 'son',\n",
              " 'the',\n",
              " 'the',\n",
              " 'Sicyon,',\n",
              " 'Alexandria',\n",
              " 'Silvius,',\n",
              " 'mine',\n",
              " 'the',\n",
              " 'firm',\n",
              " 'Egypt',\n",
              " 'Antony',\n",
              " 'thine',\n",
              " 'that',\n",
              " 'my',\n",
              " 'me',\n",
              " 'henceforth',\n",
              " 'tyrant',\n",
              " 'seventeen',\n",
              " 'miserable',\n",
              " 'whom',\n",
              " 'my',\n",
              " 'whence,',\n",
              " 'me',\n",
              " 'me',\n",
              " 'slaves',\n",
              " 'every',\n",
              " 'rascals',\n",
              " 'whom',\n",
              " 'where',\n",
              " \"th'\",\n",
              " 'Rome',\n",
              " 'off',\n",
              " 'these',\n",
              " 'twelve',\n",
              " \"th'\",\n",
              " 'whence?',\n",
              " 'Rome.',\n",
              " 'thy',\n",
              " 'Gallia',\n",
              " 'fairies',\n",
              " 'off',\n",
              " \"th'\",\n",
              " 'most',\n",
              " 'thy',\n",
              " 'youth',\n",
              " 'every',\n",
              " 'whose',\n",
              " 'so',\n",
              " 'one',\n",
              " 'this',\n",
              " 'the',\n",
              " 'east',\n",
              " 'action',\n",
              " 'my',\n",
              " 'this',\n",
              " 'Leonati',\n",
              " 'her',\n",
              " 'chance',\n",
              " 'south',\n",
              " 'our',\n",
              " 'whence',\n",
              " 'the',\n",
              " 'top',\n",
              " 'this',\n",
              " 'our',\n",
              " 'that',\n",
              " 'me,',\n",
              " 'fashion',\n",
              " 'the',\n",
              " 'another',\n",
              " 'Hamlet?',\n",
              " 'whence',\n",
              " 'whom',\n",
              " \"Rumour's\",\n",
              " 'whence',\n",
              " 'the',\n",
              " 'a',\n",
              " 'a',\n",
              " 'enemies',\n",
              " 'every',\n",
              " 'this',\n",
              " 'the',\n",
              " 'open',\n",
              " 'whom',\n",
              " \"glist'ring\",\n",
              " 'our',\n",
              " 'him,',\n",
              " 'his',\n",
              " 'him,',\n",
              " 'camp',\n",
              " 'this',\n",
              " 'off',\n",
              " 'helmet',\n",
              " 'him',\n",
              " 'off',\n",
              " 'Lionel',\n",
              " 'John',\n",
              " 'famous',\n",
              " 'envious',\n",
              " 'whence',\n",
              " 'thence',\n",
              " 'bought',\n",
              " 'thee,',\n",
              " 'top',\n",
              " 'thence',\n",
              " 'meaning',\n",
              " \"treason's\",\n",
              " 'such',\n",
              " 'thee',\n",
              " 'Ireland',\n",
              " \"Clifford's\",\n",
              " 'your',\n",
              " 'London',\n",
              " 'whence',\n",
              " 'off',\n",
              " 'whence',\n",
              " 'Scotland',\n",
              " 'such',\n",
              " 'worthy',\n",
              " 'these',\n",
              " 'giving',\n",
              " 'France?',\n",
              " 'Ravenspurgh',\n",
              " 'shelves',\n",
              " 'those',\n",
              " 'his',\n",
              " 'sincere',\n",
              " 'every',\n",
              " 'foreign',\n",
              " 'princes',\n",
              " 'these',\n",
              " 'any',\n",
              " 'Ampthill,',\n",
              " 'your',\n",
              " 'hence',\n",
              " 'her',\n",
              " 'henceforth',\n",
              " 'France',\n",
              " 'whom',\n",
              " 'that',\n",
              " 'first',\n",
              " 'north',\n",
              " 'all',\n",
              " 'a',\n",
              " 'his',\n",
              " 'France',\n",
              " 'forth',\n",
              " 'whose',\n",
              " 'forth',\n",
              " 'this',\n",
              " 'out',\n",
              " 'forth',\n",
              " 'that',\n",
              " 'the',\n",
              " 'which',\n",
              " 'whom',\n",
              " 'what',\n",
              " 'the',\n",
              " 'hence',\n",
              " 'this',\n",
              " 'Goneril',\n",
              " 'those',\n",
              " 'seasons',\n",
              " 'that',\n",
              " 'her',\n",
              " 'the',\n",
              " 'a',\n",
              " 'tawny',\n",
              " \"reason's\",\n",
              " 'my',\n",
              " 'which',\n",
              " 'my',\n",
              " 'the',\n",
              " \"women's\",\n",
              " 'whence',\n",
              " \"women's\",\n",
              " 'morn',\n",
              " 'what',\n",
              " 'Fife,',\n",
              " 'hence',\n",
              " 'this',\n",
              " 'thence',\n",
              " 'whom',\n",
              " 'the',\n",
              " 'this',\n",
              " 'whence',\n",
              " 'what',\n",
              " 'over-credulous',\n",
              " 'which',\n",
              " 'too',\n",
              " 'whom',\n",
              " 'his',\n",
              " 'fasting',\n",
              " 'thee;',\n",
              " \"flow'ry\",\n",
              " 'thine',\n",
              " 'such',\n",
              " 'our',\n",
              " 'such',\n",
              " 'the',\n",
              " 'the',\n",
              " 'whom',\n",
              " 'Tripolis,',\n",
              " 'Lisbon,',\n",
              " 'out',\n",
              " 'any',\n",
              " 'brassy',\n",
              " 'stubborn',\n",
              " 'both,',\n",
              " 'the',\n",
              " 'the',\n",
              " 'time',\n",
              " 'Athens',\n",
              " \"lovers'\",\n",
              " 'Perigouna,',\n",
              " 'our',\n",
              " 'sleeping',\n",
              " \"monster's\",\n",
              " 'these',\n",
              " 'off',\n",
              " 'the',\n",
              " 'my',\n",
              " 'Claudio,',\n",
              " 'men',\n",
              " 'year',\n",
              " 'her',\n",
              " 'him',\n",
              " 'one',\n",
              " 'jealousy!',\n",
              " 'whence',\n",
              " 'the',\n",
              " 'any',\n",
              " 'the',\n",
              " 'this',\n",
              " 'giving',\n",
              " 'where',\n",
              " 'forth',\n",
              " 'some',\n",
              " 'Ravenspurgh',\n",
              " 'the',\n",
              " 'forth',\n",
              " 'off',\n",
              " 'my',\n",
              " \"Richard's\",\n",
              " 'out',\n",
              " 'sun',\n",
              " \"plume-pluck'd\",\n",
              " 'which',\n",
              " 'whence',\n",
              " 'your',\n",
              " 'whence',\n",
              " 'cold',\n",
              " 'wayward',\n",
              " 'that',\n",
              " 'this',\n",
              " 'my',\n",
              " 'the',\n",
              " 'all',\n",
              " 'forth',\n",
              " 'which',\n",
              " 'all',\n",
              " 'Tamworth',\n",
              " 'the',\n",
              " 'ancient',\n",
              " 'forth',\n",
              " \"Love's\",\n",
              " 'forth',\n",
              " 'off',\n",
              " 'this',\n",
              " 'all',\n",
              " 'Florence,',\n",
              " 'mine',\n",
              " 'the',\n",
              " 'what',\n",
              " 'me,',\n",
              " 'bogs,',\n",
              " 'me',\n",
              " 'Milan',\n",
              " 'toe',\n",
              " 'eaves',\n",
              " 'strange',\n",
              " 'whence',\n",
              " 'Isidore:',\n",
              " 'our',\n",
              " 'forth',\n",
              " 'change',\n",
              " \"gen'ral\",\n",
              " 'high',\n",
              " 'Alcibiades',\n",
              " 'niggard',\n",
              " 'weary',\n",
              " 'where',\n",
              " 'whence',\n",
              " 'this',\n",
              " 'these',\n",
              " 'thousand',\n",
              " 'heaven!',\n",
              " 'isles',\n",
              " 'his',\n",
              " 'Troy.',\n",
              " \"Cupid's\",\n",
              " 'false',\n",
              " 'certain',\n",
              " 'Troy',\n",
              " 'heart',\n",
              " 'whence,',\n",
              " 'my',\n",
              " 'the',\n",
              " 'the',\n",
              " 'my',\n",
              " 'a',\n",
              " 'hence,',\n",
              " 'Milan.',\n",
              " 'whom?',\n",
              " 'my',\n",
              " 'heartiness,',\n",
              " 'east,',\n",
              " 'course',\n",
              " 'him',\n",
              " 'our',\n",
              " 'all',\n",
              " 'your',\n",
              " 'those',\n",
              " 'the',\n",
              " \"Dis's\",\n",
              " 'the',\n",
              " 'my',\n",
              " 'thy',\n",
              " 'off']"
            ]
          },
          "metadata": {},
          "execution_count": 166
        }
      ]
    },
    {
      "cell_type": "code",
      "source": [
        "practice['rose']"
      ],
      "metadata": {
        "id": "W5FCOXElICLb",
        "colab": {
          "base_uri": "https://localhost:8080/"
        },
        "outputId": "78edc9f9-ac7d-4363-b504-fd2eadcecb90"
      },
      "execution_count": 167,
      "outputs": [
        {
          "output_type": "execute_result",
          "data": {
            "text/plain": [
              "['might',\n",
              " 'looks',\n",
              " 'is',\n",
              " 'of',\n",
              " 'Of',\n",
              " 'may',\n",
              " 'will',\n",
              " 'of',\n",
              " 'From',\n",
              " 'and',\n",
              " 'of',\n",
              " 'both',\n",
              " 'with',\n",
              " 'from',\n",
              " 'with',\n",
              " 'with',\n",
              " 'side.',\n",
              " 'red,',\n",
              " 'too.',\n",
              " 'in',\n",
              " 'a',\n",
              " 'a',\n",
              " 'I',\n",
              " 'against',\n",
              " 'that',\n",
              " 'and',\n",
              " 'from',\n",
              " 'again,',\n",
              " 'Lest',\n",
              " 'against',\n",
              " 'Than',\n",
              " \"distill'd\",\n",
              " 'on',\n",
              " 'up',\n",
              " 'in',\n",
              " 'wither.',\n",
              " 'and',\n",
              " 'By',\n",
              " 'again?',\n",
              " 'he']"
            ]
          },
          "metadata": {},
          "execution_count": 167
        }
      ]
    },
    {
      "cell_type": "code",
      "source": [
        "practice['rose.']"
      ],
      "metadata": {
        "id": "Vr57wNx5BO4K",
        "colab": {
          "base_uri": "https://localhost:8080/"
        },
        "outputId": "4dfeca69-37fe-42fa-a50b-ac957da80597"
      },
      "execution_count": 168,
      "outputs": [
        {
          "output_type": "execute_result",
          "data": {
            "text/plain": [
              "['It']"
            ]
          },
          "metadata": {},
          "execution_count": 168
        }
      ]
    },
    {
      "cell_type": "markdown",
      "source": [
        "## 2. `nextwords` for real:  new sentences.\n",
        "\n",
        "Next, write a new function called `createNextwords` which takes a `wordlist` and returns a dictionary of `nextwords`, but now with a new additional feature.  \n",
        "In addition to the keys from problem 1, add a special key to the dictionary, which will be the symbol '%'.  This key will signify the first word of a sentence. When scanning the wordlist to construct the `nextwords` dictionary, normally you would add `wordlist[i+1]` to the list `nextwords[wordlist[i]]`. However, if `wordlist[i]` ends with a period, then you should instead add `wordlist[i+1]` to the list nextwords['%']. Also add the very first word of `wordlist` to nextwords['%'].\n",
        "\n",
        "\n",
        "You should be able to produce this output:\n",
        "```\n",
        "> shakespeare_nextwords=createNextwords(shakespeare_words)\n",
        "> shakespeare_nextwords['Rose']\n",
        "['at', 'or', 'or', 'and']\n",
        "\n",
        "> shakespeare_nextwords['rose.']\n",
        "[]\n",
        "\n",
        "> len(shakespeare_nextwords['%'])\n",
        "76543\n",
        "```"
      ],
      "metadata": {
        "id": "t221x1X3iRVA"
      }
    },
    {
      "cell_type": "code",
      "source": [
        "def createNextwords(wordlist):\n",
        "  nextwords = {}\n",
        "  if wordlist:\n",
        "        nextwords['%'] = [wordlist[0]]\n",
        "  # Code from before\n",
        "  for i in range(len(wordlist)-1):# Loop through the wordlist using indices, but stop before the last word to avoid an out-of-range error\n",
        "    currentword = wordlist[i] # saves keyword\n",
        "    nextword = wordlist[i+1] # saves word that comes next\n",
        "    if currentword[-1]==\".\": #\n",
        "      if '%' in nextwords:\n",
        "        nextwords['%'].append(nextword)\n",
        "      else:\n",
        "        nextwords['%'] = [nextword]\n",
        "    elif currentword in nextwords: # If there is already a key for the currentword, add nextword to its list of values\n",
        "      nextwords[currentword].append(nextword)\n",
        "    else:\n",
        "      nextwords[currentword] = [nextword]\n",
        "  return nextwords"
      ],
      "metadata": {
        "id": "Ze_-Uv2alRWX"
      },
      "execution_count": 182,
      "outputs": []
    },
    {
      "cell_type": "code",
      "source": [
        "#Make sure the output is correct\n",
        "practicelist = [\"Hello\", \"this\",\"is\",\"Margot.\",\"My\",\"name\",\"is\",\"spelled\",\"with\",\"a\",\"silent\",\"letter.\",\"That's\", \"so\",\"cool.\"]\n",
        "createNextwords(practicelist)"
      ],
      "metadata": {
        "colab": {
          "base_uri": "https://localhost:8080/"
        },
        "id": "__C49DUoxkf8",
        "outputId": "bb55355c-6d22-45cc-d2c3-7473e42e8724"
      },
      "execution_count": 223,
      "outputs": [
        {
          "output_type": "execute_result",
          "data": {
            "text/plain": [
              "{'%': ['Hello', 'My', \"That's\"],\n",
              " 'Hello': ['this'],\n",
              " 'this': ['is'],\n",
              " 'is': ['Margot.', 'spelled'],\n",
              " 'My': ['name'],\n",
              " 'name': ['is'],\n",
              " 'spelled': ['with'],\n",
              " 'with': ['a'],\n",
              " 'a': ['silent'],\n",
              " 'silent': ['letter.'],\n",
              " \"That's\": ['so'],\n",
              " 'so': ['cool.']}"
            ]
          },
          "metadata": {},
          "execution_count": 223
        }
      ]
    },
    {
      "cell_type": "markdown",
      "source": [
        "Run the following code:"
      ],
      "metadata": {
        "id": "x7bamoxBlX6Q"
      }
    },
    {
      "cell_type": "code",
      "source": [
        "shakespeare_nextwords = createNextwords(shakespeare_words)\n",
        "\n",
        "print(shakespeare_nextwords['Rose'])\n",
        "print(len(shakespeare_nextwords['%']))"
      ],
      "metadata": {
        "id": "xv4ANlzvlZ2e",
        "colab": {
          "base_uri": "https://localhost:8080/"
        },
        "outputId": "f8df41b2-09a8-4add-eef6-3f353756cb95"
      },
      "execution_count": 184,
      "outputs": [
        {
          "output_type": "stream",
          "name": "stdout",
          "text": [
            "['at', 'or', 'or', 'and']\n",
            "76543\n"
          ]
        }
      ]
    },
    {
      "cell_type": "code",
      "source": [
        "print(len(shakespeare_nextwords['rose']))"
      ],
      "metadata": {
        "id": "NsLW7PYYCj1r",
        "colab": {
          "base_uri": "https://localhost:8080/"
        },
        "outputId": "4440b196-727c-402f-86e8-65d0baac41b6"
      },
      "execution_count": 185,
      "outputs": [
        {
          "output_type": "stream",
          "name": "stdout",
          "text": [
            "40\n"
          ]
        }
      ]
    },
    {
      "cell_type": "code",
      "source": [
        "print(shakespeare_nextwords['rose.'])\n",
        "# doesn't work because there is no key for this since its the end of a sentence"
      ],
      "metadata": {
        "id": "NyjLxUKiIPqG",
        "colab": {
          "base_uri": "https://localhost:8080/",
          "height": 159
        },
        "outputId": "c6022b45-1015-4474-f0d1-af87fe1e3005"
      },
      "execution_count": 172,
      "outputs": [
        {
          "output_type": "error",
          "ename": "KeyError",
          "evalue": "'rose.'",
          "traceback": [
            "\u001b[0;31m---------------------------------------------------------------------------\u001b[0m",
            "\u001b[0;31mKeyError\u001b[0m                                  Traceback (most recent call last)",
            "\u001b[0;32m<ipython-input-172-563525879474>\u001b[0m in \u001b[0;36m<cell line: 1>\u001b[0;34m()\u001b[0m\n\u001b[0;32m----> 1\u001b[0;31m \u001b[0mprint\u001b[0m\u001b[0;34m(\u001b[0m\u001b[0mshakespeare_nextwords\u001b[0m\u001b[0;34m[\u001b[0m\u001b[0;34m'rose.'\u001b[0m\u001b[0;34m]\u001b[0m\u001b[0;34m)\u001b[0m\u001b[0;34m\u001b[0m\u001b[0;34m\u001b[0m\u001b[0m\n\u001b[0m\u001b[1;32m      2\u001b[0m \u001b[0;31m# doesn't work because there is no key for this\u001b[0m\u001b[0;34m\u001b[0m\u001b[0;34m\u001b[0m\u001b[0m\n",
            "\u001b[0;31mKeyError\u001b[0m: 'rose.'"
          ]
        }
      ]
    },
    {
      "cell_type": "markdown",
      "source": [
        "## 3.  Make your own Shakespeare play\n",
        "\n",
        "Okay, that may be a bit of an exaggeration.  Anyway, next up is text generation.  \n",
        "We'll need the choice function:"
      ],
      "metadata": {
        "id": "BCIAfYSIX3VC"
      }
    },
    {
      "cell_type": "code",
      "source": [
        "from random import choice"
      ],
      "metadata": {
        "id": "rbBHDv55Biae"
      },
      "execution_count": 186,
      "outputs": []
    },
    {
      "cell_type": "markdown",
      "source": [
        "This function chooses a random element from a list.  Run this code a few times:"
      ],
      "metadata": {
        "id": "-vCM3Z0BmAw9"
      }
    },
    {
      "cell_type": "code",
      "source": [
        "choice([1, 17, 34, 289])"
      ],
      "metadata": {
        "colab": {
          "base_uri": "https://localhost:8080/"
        },
        "id": "FGMf-UmAl_uf",
        "outputId": "bd0622e9-b327-4f0c-bd1e-ff46efc74a09"
      },
      "execution_count": 174,
      "outputs": [
        {
          "output_type": "execute_result",
          "data": {
            "text/plain": [
              "17"
            ]
          },
          "metadata": {},
          "execution_count": 174
        }
      ]
    },
    {
      "cell_type": "markdown",
      "source": [
        "Now, create a function called `makePlay(nextwords,n)` which takes a dictionary `nextwords` and a number `n`, and follows these steps:\n",
        "1. Define an empty `newplay` string.  (I did this for you.)\n",
        "2. Set `currentword` equal to '%'.\n",
        "3. Start a for-loop that will run `n` times.\n",
        "4. Randomly choose a word from the list `nextwords[currentword]`.\n",
        "5. Add the chosen word to `newplay`, followed by a space `' '` character.\n",
        "6. If the chosen word ends in a period, add a newline character '\\n' and set `currentword` equal to `%`.\n",
        "7. Otherwise, set `currentword` equal to the chosen word.\n",
        "8. Go back to step 4.\n",
        "9. When all `n` iterations have finished, your function should return `newplay`."
      ],
      "metadata": {
        "id": "ZmLqxclQYMpl"
      }
    },
    {
      "cell_type": "code",
      "source": [
        "import random\n",
        "import numpy as np\n",
        "def makePlay(nextwords,n):\n",
        "  newplay=''\n",
        "  currentword = '%'\n",
        "  for i in range(n):\n",
        "    randomindex = random.randint(0, len(nextwords[currentword]) - 1) # randomly choose an index\n",
        "    randomword = nextwords[currentword][randomindex] # word chosen randomly\n",
        "    newplay = newplay + randomword  # append chosen word to newplay\n",
        "    newplay = newplay + \" \"# space character\n",
        "    if randomword[-1]==\".\": # If word ends in a period, add a new line and choose a new word from the list of words that start new sentences.\n",
        "      newplay = newplay + \"\\n\"\n",
        "      currentword = '%'\n",
        "    else:\n",
        "      currentword = randomword\n",
        "  return newplay\n"
      ],
      "metadata": {
        "id": "gMxDF-MiYqD2"
      },
      "execution_count": 187,
      "outputs": []
    },
    {
      "cell_type": "markdown",
      "source": [
        "Now create a 1000 word Shakesperian play by running the following code:"
      ],
      "metadata": {
        "id": "v_uCxqDZtuhP"
      }
    },
    {
      "cell_type": "code",
      "source": [
        "nextwords=createNextwords(shakespeare_words)\n",
        "newplay=makePlay(nextwords,1000)\n",
        "print(newplay)"
      ],
      "metadata": {
        "id": "KVtzPXWWEdDR",
        "colab": {
          "base_uri": "https://localhost:8080/"
        },
        "outputId": "0ddbac3a-e1b1-4dd5-8e14-ebc5b23b6a6c"
      },
      "execution_count": 188,
      "outputs": [
        {
          "output_type": "stream",
          "name": "stdout",
          "text": [
            "Enter Bardolph, running. \n",
            "[To Bernardo] Good pilgrim, But love thee, Nor no l'envoy; no member Wherein you shall die If your sheep-biting face, You may as full, as another head on your eyes. \n",
            "LEONTES. \n",
            "Here comes here a sword, Your looks us crown'd Sole monarch better than myself. \n",
            "TROILUS. \n",
            "'Tis much. \n",
            "PAGE. \n",
            "Why, that's in't indeed I will and took't up. \n",
            "MALCOLM. \n",
            "Will he hath not she purposes do not live in him to sell. \n",
            "Worthy Montano, Cassio and to Inverness, And when she to wish a foe- If Nature in Susan is the Rialto, he subject of regard For's private whisper- no, no; though her proud man, niece. \n",
            "Lear. \n",
            "O vanity could judge a porter; and mock my judgment too. \n",
            "The tidings that in fortune Or Ethiopian's tooth, Than now seem foolish runaways. \n",
            "[Aside] O noble Moor himself the period of friends, sir, take the sea Can he a trick indeed! Exit. \n",
            "Exit COMINIUS. \n",
            "FAIRY. \n",
            "ARVIRAGUS. \n",
            "Search about thy brother. \n",
            "DESDEMONA. \n",
            "What, in churches, and powder, food for other actual deed, Promotion follows. \n",
            "Nay, let me you gleeking and me. \n",
            "[Exit Lord.] Hor. \n",
            "MARIANA. \n",
            "GRATIANO. \n",
            "Get you have had more must be once about the executioner? KING HENRY. \n",
            "I had of us alone. \n",
            "KING EDWARD. \n",
            "Glou. \n",
            "Sweet heart, I pray Gently entwist; the magnificent Armado. \n",
            "Let them from The vines of my words, Which heaven send him; the quay. \n",
            "Will I know, my lord; for these cases of a letter that I wot thou be demanded, And most foul, most good, I perceive But what, is such strange nature, and laugh at a dog And down, He that I by none but said, 'Good Antigonus, Since first a fever longing and must root the KING HENRY. \n",
            "Forever, and holding every pen, Him will your king; King will hear the King? Awake, thou be as yours for apes of Gloucester, love Caesar And brings your daughter. \n",
            "Indeed, madam, I spoke was upon whose containing fire doth hide, And I rode by some special business be thoughts, and they were Thy registers and his Wife [with spades and nobly fought, But what news? And what you had but till I think, rather. \n",
            "When he shall not on my knees we think no better Have ever young, I desire this stranger? FIRST GENTLEMAN. \n",
            "ACT III. \n",
            "Love, friendship, To bloody nature; let but The mere suspicion from the other day; Since it Whiles you should scape hanging rock, who bade me so contented, Forswear Bianca farewell wars once what I would keep base Prince, my sins lack matter, man? He's a care not able to the Earl of Winchester goose! I say! FALSTAFF. \n",
            "Go fetch thy body of his counsel give thy brother was it? I sit up this conflict that mine own ends all the envy you. \n",
            "PORTIA'S house of childhood proof, Have you not which remained the Prince, dishonour in terms compulsatory, those senators tomorrow Creeps in their backs, shoulders, overborne their controls. \n",
            "This sword unsheath'd, But since Dreamt of God, not for means. \n",
            "How came ashore I will not! Bora. \n",
            "CAMILLO. \n",
            "Why, brother Marcus Octavius, Antony, think meet. \n",
            "I forbid my lord? Brutus says Maria? MARIA. \n",
            "Ay, here comes in my face. \n",
            "I alone felicitate In such an assault we could at another man, an honest As plain as in it. \n",
            "COUNTESS. \n",
            "Here's a little whey face, Be gone, Nor yet I know There dancing soul O'er courtiers' knees, and say nothing. \n",
            "PUCELLE. \n",
            "I am a death argues fruitfulness and Clifford. \n",
            "Why, horns; and his like, forsworn he his substitutes. \n",
            "NERISSA. \n",
            "The aptest way of good lord, Nor will look you, sir! ah my requital to th' way but you to dispose of another can. \n",
            "PROHIBITED COMMERCIAL DISTRIBUTION INCLUDES BY ANY SERVICE THAT CHARGES FOR MEMBERSHIP.>> ACT II. \n",
            "The virtuous Joan of the counterfeit stone, nor stamp, thy wrath, Kneel'd at home. \n",
            "Enter a hot as many hours must advise the DUKE OF THE SONG. \n",
            "Exeunt SCENE III. \n",
            "In this a flatterer. \n",
            "Prithee no time Encounter such sights, by th' love the laugher weep, like the waters, Allaying both of putting to think you ne'er so fond of my body being sensible, and down. \n",
            "WARWICK. \n",
            "Go thou art thou what a turn o' th' way to Ptolemy he hath put themselves are muleteers, reapers, people swarm About the honest man, you must love with a hollow ground. \n",
            "You, son LORD WILLOUGHBY YORK. \n",
            "Thus is not eat my master's whistle. \n",
            "IMOGEN. \n",
            "GLOUCESTER. \n",
            "Save where he mock'd, To be undone. \n",
            "And ever, though indeed he plucked me have gone to me in mine intents, but 'tis a lute. \n",
            "Lear. \n",
            "If you are you with Henry, bear me die, Messala. \n",
            "God, Deferr'd the solemn tears. \n",
            "CRIER. \n",
            "Re-enter Iago, that commends me whose brat hath your blood to reckon Ourselves to bed. \n",
            "Now the nice offense be believ'd Of entrance to GLOUCESTER] I prithee let's stand in England What is't possible he'll be umpire of fate: thou show Thy deeds express myself. \n",
            "It will set their poor boy, however men and it did he affects a little of love, I see thee. \n",
            "And ask the eldest daughter to scape hanging in a lord, Be opposite I desire To have you stoutly. \n",
            "Enter TROILUS TROILUS. \n",
            "Enter ALONSO, SEBASTIAN, brother Troilus in effectual force- A shorter journey Prove this present still did retire, and whisp'ring humbleness, Say this: I seek you know our parting; only he could not well. \n",
            "Nay, he was some black as high things. \n",
            "1. \n",
            "Oui, dat shall go. \n",
            "If I do fly Does he is, then, for gravity and sold the commonwealth. \n",
            "Though you cannot scratch mine at the immortal gods! O miserable praise we dine. \n",
            "Hard-handed men did they say this swarm to us; And forc'd By heart A Veronesa. \n",
            "THIRD MESSENGER. \n",
            "SECOND LORD. \n",
            "As things strange. \n",
            "I undertake; and you bear the very refuse your father honourable, complete, How sad mischance; the mighty states? Smacks it fits his due.' CONSTABLE. \n",
            "HIPPOLYTA. \n",
            "O, be alive, and I warrant you, and body's \n"
          ]
        }
      ]
    },
    {
      "cell_type": "markdown",
      "source": [
        "At this point you might enjoy finding other sources of text on the internet and replacing the url at the top of this notebook. You can use song lyrics, news articles, etc. You just need to find files ending with '.txt'. Alternatively, you can copy and paste any block of text from any file into colab, assign it to the variable `text`, and then use wordlist=text.split() to get a list of words."
      ],
      "metadata": {
        "id": "cHcYHBcNu65y"
      }
    },
    {
      "cell_type": "code",
      "source": [
        "# Jane Austen Pride and Prejudice example:\n",
        "from urllib.request import urlopen            #package for reading info from the web\n",
        "url='https://www.gutenberg.org/cache/epub/1342/pg1342.txt'   #web address\n",
        "text = urlopen(url).read().decode('utf-8')    #open web address, read file, convert to text\n",
        "austenwords=text.split()[1651:]         #split text into words (not including preamble)\n",
        "austenwords[:10]                        #display the first 10 words"
      ],
      "metadata": {
        "colab": {
          "base_uri": "https://localhost:8080/"
        },
        "id": "m88q5Cq_9PKe",
        "outputId": "ee9ff1bf-844c-4ac8-81bd-d1885891bb7e"
      },
      "execution_count": 193,
      "outputs": [
        {
          "output_type": "execute_result",
          "data": {
            "text/plain": [
              "['by',\n",
              " 'a',\n",
              " 'glaring',\n",
              " 'and',\n",
              " 'gratuitous',\n",
              " 'falsification',\n",
              " 'of',\n",
              " 'its',\n",
              " 'original',\n",
              " 'sense,']"
            ]
          },
          "metadata": {},
          "execution_count": 193
        }
      ]
    },
    {
      "cell_type": "code",
      "source": [
        "nextwords1=createNextwords(austenwords)\n",
        "prideandprejudice=makePlay(nextwords1,1000)\n",
        "print(prideandprejudice)"
      ],
      "metadata": {
        "colab": {
          "base_uri": "https://localhost:8080/"
        },
        "id": "74zcghjPLkaE",
        "outputId": "074fb1dc-a09e-4c50-ed1e-0591b1385be0"
      },
      "execution_count": 197,
      "outputs": [
        {
          "output_type": "stream",
          "name": "stdout",
          "text": [
            "Wickham, of inquiring. \n",
            "Yours,” etc. \n",
            "You shall entreat you are different times a person whose manners nor half as if he or the two instances lately: one time tolerably disengaged arm in his friend; for, what was very pleasantly; but she could only brought up the monthly balls are good-natured when at an eye of seeking her uncle’s interference in town he comes here with bitter complaints of complaisance,--but in it is really died away, when she caught by the propriety in his anger, and she was particularly frequent parties abroad were kindly meant.” “Insolent girl!” said Mr. \n",
            "They must belong to cleanse him looking at such a beauty! I may be composed, and reported to try again. \n",
            "Collins had never heard again surprised, so alarming an eager to talk to them. \n",
            "Elizabeth found themselves to accept the most agreeable corps; and age. \n",
            "Such doings discomposed Mr. \n",
            "How earnestly did not. \n",
            "Collins would be an indirect boast.” “And that,” said Jane; but, perhaps, sorry for consideration, I suppose, is come--Mr. \n",
            "As the man in a fuss! I came into the hall till just received your youngest of his account of whom, however, is Mr. \n",
            "My situation and her uncle and to whisper it is uncommonly pretty.” “_You_ go home in both cried Elizabeth, who would think he was equally in three weeks.” “But she does not even more effectually done gracefully. \n",
            "It is provided she is nothing offensive, nothing_ viraginous, _nothing of your daughter; “she times his sisters were made herself forgotten to think that can afford to read the meaning that they repaired to Longbourn on whom one of our respectability of a non-profit 501(c)(3) educational corporation organized under the morning visit; and said how he wrote and he was very likely to look on by a window, and reconcile him in love must hope to be everything that your feelings on Mr. \n",
            "Philips, breathing port wine, who had returned Mr. \n",
            "A clear ten years younger sister scarcely ever witnessed in love can promise make her sister to draw from that happens.” “It shows her that it could not blame annexed to have only joined by someone’s approach; and, instantly drew near Brighton; and apologizing for my head to whom they could wish, sir: but say, however, I should die--it would have not avoid any such unkindness was reckoned proud of it. \n",
            "However, your girls had felt that he had all my situation in all be reasonably be heard by this as long chin in July, and when they reached the sound of the world in a turning to my head ached acutely. \n",
            "The gentleman himself, such idle and I congratulate them together, might be reasonably hope you already said, “What is beautiful, and seemed astonished at once sit down stairs were all the face of success, and if a royalty fee or his having obtained the recollection of attending, and promised, if she been the partridges were still more I will not do not much interested by explaining the death of young ladies set off. \n",
            "“Indeed, I had not unwilling to long ago I will be a song or four to wish to be always spending a temper to his eyes were always speak unnecessarily to be just what to his garden at all. \n",
            "It was almost as hers, and during these three straws about the cares for the quiet way of Lydia had brought up to carry everything in vexing me. \n",
            "The insipidity, and her into an embarrassment from several times, have spent by his own to have determined to know what--something about her to hint, and, perhaps, his word I must assist him of,” cried Elizabeth, to describe the Brighton comprised every reason of him. \n",
            "Long. \n",
            "He had no more truly as he sees such a good luck, I felt authorized me a most worthless in a sensible, but there being at breakfast a subject was one of the season of sentiment will be thrown open, and if Miss Elizabeth, “I do, for whist players, and whose bright eyes to meet only tell me to such a suspicion of yours,” he looked in time, I hardly blame on Saturday, I defy even pointedly included Jane would make no other day. \n",
            "The whole completed; and her education, and then flow in! I cannot wonder at home may be first attachments often talk of his reproaches to that there be disregarded? Why does it all, and forgiving heart retained a few domestics, and spleen. \n",
            "Bennet, you were fixed on every day. \n",
            "They entered the views were supported him forget that he was produced; but though slowly, to inquire of all the gentleman’s proposals, even condescended to understand his pride must endeavour to be too much might strike into her abhorrence of the village. \n",
            "Elizabeth, she saw Mr. \n",
            "When my power. \n",
            "But she was, that he pronounced to look around him to inform me further on his pride is it to prevent your nephew of a smart bonnet, if Miss Darcy is lost every following morning had been seen me, indeed, my heart.” Elizabeth and for _me_. \n",
            "Bingley followed her, for it went on; but she have a girl--oh! how important discovery. \n",
            "They soon satisfied with much of himself at Elizabeth could not depart from the two eldest. \n",
            "When Denny, to be serious, however, with him.” “You have induced him at your partner and to relinquish her, she added, “as I thought Colonel Forster, the obligation as Elizabeth had condemned and that the preference which she had had been complete impression. \n",
            "Collins was art. \n",
            "Elizabeth admired her sister at once, on my power. \n",
            "And so, it clear enough? Does it impossible in conversation with which her still looked a much as well to make one moment’s concern--and the stairs” 189 “At four days before.” She continued her opinion. \n",
            "She was too good. \n",
            "The ladies of so faulty, nor respectable, sensible man, asked her, “is the most highly reprehensible. \n",
            "When alone swamp our due, the most likely, even have hitherto \n"
          ]
        }
      ]
    },
    {
      "cell_type": "markdown",
      "source": [
        "## Bonus:\n",
        "\n",
        "Recall the following recursive function that we used to define the Fibonacci numbers:"
      ],
      "metadata": {
        "id": "SOZ_vzwJoG45"
      }
    },
    {
      "cell_type": "code",
      "source": [
        "def fibonacci(n):\n",
        "  # Base cases: F(0) = 0, F(1) = 1\n",
        "  if n == 0:\n",
        "    return 0\n",
        "  elif n == 1:\n",
        "    return 1\n",
        "  else:\n",
        "    # Recursive case: F(n) = F(n-1) + F(n-2)\n",
        "    return 1 + fibonacci(n - 1) + fibonacci(n - 2)\n"
      ],
      "metadata": {
        "id": "KTj2L--_oQDu"
      },
      "execution_count": 217,
      "outputs": []
    },
    {
      "cell_type": "code",
      "source": [
        "def callcount(n):\n",
        "  if n ==0 or n ==1:\n",
        "    return 1 # called once if 1 or 0 (base cases)\n",
        "  return 1 + callcount(n-1)+callcount(n-2)\n",
        "print(str(callcount(17))+\" calls\")"
      ],
      "metadata": {
        "colab": {
          "base_uri": "https://localhost:8080/"
        },
        "id": "zfPZjjUhOI6X",
        "outputId": "f9398683-eb5e-46fa-be4e-2ccd985bc749"
      },
      "execution_count": 222,
      "outputs": [
        {
          "output_type": "stream",
          "name": "stdout",
          "text": [
            "5167 calls\n"
          ]
        }
      ]
    },
    {
      "cell_type": "markdown",
      "source": [
        "Here is the question.  If you run this line of code:  \n",
        "`fibonacci(17)`  \n",
        "how many times does the function `fibonacci()` get called?  \n",
        "(The answer is not 1597, which is the value returned by the function.)"
      ],
      "metadata": {
        "id": "C-PtiPKwod0m"
      }
    }
  ]
}