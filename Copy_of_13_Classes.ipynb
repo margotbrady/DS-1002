{
  "nbformat": 4,
  "nbformat_minor": 0,
  "metadata": {
    "colab": {
      "provenance": [],
      "include_colab_link": true
    },
    "kernelspec": {
      "name": "python3",
      "display_name": "Python 3"
    },
    "language_info": {
      "name": "python"
    }
  },
  "cells": [
    {
      "cell_type": "markdown",
      "metadata": {
        "id": "view-in-github",
        "colab_type": "text"
      },
      "source": [
        "<a href=\"https://colab.research.google.com/github/margotbrady/DS-1002/blob/main/Copy_of_13_Classes.ipynb\" target=\"_parent\"><img src=\"https://colab.research.google.com/assets/colab-badge.svg\" alt=\"Open In Colab\"/></a>"
      ]
    },
    {
      "cell_type": "markdown",
      "source": [
        "## Assignment:  Classes\n",
        "### Due Sunday 28 April at 10pm"
      ],
      "metadata": {
        "id": "5Vy93BSp9Tum"
      }
    },
    {
      "cell_type": "markdown",
      "source": [
        "1.  Define a class called `Person` that has attributes `lastName`, `firstName`, `mother`, and `father`.  Both `mother` and `father` should have default value `unknown`.\n",
        "\n",
        "  Include a `__str__()` function that returns a string of the form '`firstName` `lastName`'.\n",
        "\n",
        "  Include a `__repr__()` function that returns a string that can be evaluated to recreate the `Person` object.\n",
        "\n"
      ],
      "metadata": {
        "id": "vcj5XQAI9Wsb"
      }
    },
    {
      "cell_type": "code",
      "source": [
        "class Person:\n",
        "  def __init__(self, lastName, firstName, mother=\"unknown\", father=\"unknown\"):\n",
        "    # defines all the attributes\n",
        "    self.lastName = lastName\n",
        "    self.firstName = firstName\n",
        "    self.mother = mother\n",
        "    self.father = father\n",
        "\n",
        "  def __str__(self):\n",
        "    return f\"{self.firstName} {self.lastName}\" # returns 'firstName lastName'\n",
        "  def __repr__(self):\n",
        "    return f'Person({self.lastName}, {self.firstName}, {self.mother}, {self.father})' # returns 'lastName, firstName, mother, father'"
      ],
      "metadata": {
        "id": "mjHDwHv3EpVe"
      },
      "execution_count": 49,
      "outputs": []
    },
    {
      "cell_type": "markdown",
      "source": [
        "Create a person (i.e., a `Person` object) called `p` with unknown parents.  (You will need to give your person a first and last name.) Check the type of `p`.  Include all inputs and outputs."
      ],
      "metadata": {
        "id": "-ppMsEIVHINl"
      }
    },
    {
      "cell_type": "code",
      "source": [
        "p = Person(\"Brady\",\"Margot\") # creates new Person object p with parents set to default unkown\n",
        "print(p)\n",
        "print(type(p))"
      ],
      "metadata": {
        "id": "5bwid_6gHIBH",
        "colab": {
          "base_uri": "https://localhost:8080/"
        },
        "outputId": "5c3b75e5-f138-4a2c-ab1f-8c3efd55ed5f"
      },
      "execution_count": 50,
      "outputs": [
        {
          "output_type": "stream",
          "name": "stdout",
          "text": [
            "Margot Brady\n",
            "<class '__main__.Person'>\n"
          ]
        }
      ]
    },
    {
      "cell_type": "markdown",
      "source": [
        "Verify that your `__str__` and `__repr__` functions are doing what they are supposed to do.  Include all inputs and outputs."
      ],
      "metadata": {
        "id": "Z6zlUC3xRtal"
      }
    },
    {
      "cell_type": "code",
      "source": [
        "print(p) # calls str function\n",
        "print(repr(p)) # calls repr function"
      ],
      "metadata": {
        "id": "jZO0dBQYRs-K",
        "colab": {
          "base_uri": "https://localhost:8080/"
        },
        "outputId": "c5aecbe8-80f0-4cec-8243-45ddce8e19fb"
      },
      "execution_count": 53,
      "outputs": [
        {
          "output_type": "stream",
          "name": "stdout",
          "text": [
            "Margot Brady\n",
            "Person(Brady, Margot, unknown, unknown)\n"
          ]
        }
      ]
    },
    {
      "cell_type": "markdown",
      "source": [
        "Suppose the mother of `p` has been found and is named Taylor Swift.  Create a new person named Taylor Swift, and make her the mother of `p`:\n",
        "\n",
        "```\n",
        "> p.mother\n",
        "'Taylor Swift'\n",
        "```"
      ],
      "metadata": {
        "id": "1mOAThQiHzoQ"
      }
    },
    {
      "cell_type": "code",
      "source": [
        "p.mother = \"Taylor Swift\" #reassigns mother from its default 'unknown' to 'Taylor Swift'\n",
        "print(repr(p))"
      ],
      "metadata": {
        "id": "NYbDOorpHymz",
        "colab": {
          "base_uri": "https://localhost:8080/"
        },
        "outputId": "45b91663-77dd-4db3-d3dc-b594e0f61fcb"
      },
      "execution_count": 55,
      "outputs": [
        {
          "output_type": "stream",
          "name": "stdout",
          "text": [
            "Person(Brady, Margot, Taylor Swift, unknown)\n"
          ]
        }
      ]
    },
    {
      "cell_type": "markdown",
      "source": [
        "2.  Add some methods to your class.  Start by copying the `class` definition you already wrote.  Then, inside the `class` definition:\n",
        "\n",
        "  (a) Write a method called `unknownParent()` which returns `True` if any parent is 'unknown' and `False` otherwise.\n",
        "\n",
        "  (b) Write a method called `maternalGrandmother()` which returns the mother's mother.  If the mother is unknown, it should return 'unknown'.\n",
        "\n"
      ],
      "metadata": {
        "id": "1g1pcrmFHzGh"
      }
    },
    {
      "cell_type": "code",
      "source": [
        "class Person:\n",
        "  def __init__(self, lastName, firstName, mother=\"unknown\", father=\"unknown\"):\n",
        "    self.lastName = lastName\n",
        "    self.firstName = firstName\n",
        "    self.mother = mother\n",
        "    self.father = father\n",
        "\n",
        "  def __str__(self):\n",
        "    return f\"{self.firstName} {self.lastName}\"\n",
        "\n",
        "  def __repr__(self):\n",
        "    return f'Person({self.lastName}, {self.firstName}, {self.mother}, {self.father})'\n",
        "\n",
        "  def unknownParent(self): # Unknown parent function\n",
        "    if self.mother == \"unknown\" or self.father == \"unknown\": # if any parent is 'unknown' returns True\n",
        "      return True\n",
        "    else:\n",
        "      return False #if both parents defined returns False\n",
        "\n",
        "  def maternalGrandmother(self):\n",
        "    if self.mother is None:\n",
        "          return \"unknown\"\n",
        "    elif self.mother.mother is None:\n",
        "          return \"unknown\"\n",
        "    else:\n",
        "          return self.mother.mother #requires the mother to be known and defined as a Person object, with a mother defined\n",
        ""
      ],
      "metadata": {
        "id": "7mIxJGwwKTpv"
      },
      "execution_count": 56,
      "outputs": []
    },
    {
      "cell_type": "markdown",
      "source": [
        "Create enough `Person` objects to test whether your methods are working properly.  Show all your inputs and outputs.  It is up to you to demonstrate that you have thoroughly tested the code.  You may use additional code and/or text chunks if it helps."
      ],
      "metadata": {
        "id": "l9-4gxd8FxAQ"
      }
    },
    {
      "cell_type": "code",
      "source": [
        "#I have created three Person objects to test out three different cases\n",
        "p1 = Person(\"Brady\",\"Margot\",\"Beth Brady\",\"Aaron Brady\")\n",
        "p2 = Person(\"Kardashian\",\"Kim\",\"Kris Jenner\")\n",
        "p3 = Person(\"Swift\",\"Taylor\")\n",
        "print(p1.unknownParent()) # Should return False --> both parents defined\n",
        "print(p2.unknownParent()) #Should return True --> only a mom defined\n",
        "print(p3.unknownParent()) #Should return True --> Both parents unkown"
      ],
      "metadata": {
        "id": "gX1qpcKzFwoZ",
        "colab": {
          "base_uri": "https://localhost:8080/"
        },
        "outputId": "e0617f0e-9b59-4526-d4e3-6ddcb9787fc1"
      },
      "execution_count": 46,
      "outputs": [
        {
          "output_type": "stream",
          "name": "stdout",
          "text": [
            "False\n",
            "True\n",
            "True\n"
          ]
        }
      ]
    },
    {
      "cell_type": "code",
      "source": [
        "# Here is an example of the maternalGrandmother function, with my own family as an example.\n",
        "# I am Margot, my mom is Beth, and my grandmum is Joan.\n",
        "\n",
        "Joan = Person(\"Winston\", \"Joan\")\n",
        "Beth = Person(\"Brady\", \"Elizabeth\", Joan)\n",
        "Margot = Person(\"Brady\", \"Margot\", Beth)\n",
        "\n",
        "# The expected output is Joan Winston\n",
        "print(Margot.maternalGrandmother())"
      ],
      "metadata": {
        "colab": {
          "base_uri": "https://localhost:8080/"
        },
        "id": "jfzR4sKP4dgT",
        "outputId": "fb92783d-d295-4d85-d4b2-e3aca9050ff4"
      },
      "execution_count": 63,
      "outputs": [
        {
          "output_type": "stream",
          "name": "stdout",
          "text": [
            "Joan Winston\n"
          ]
        }
      ]
    }
  ]
}