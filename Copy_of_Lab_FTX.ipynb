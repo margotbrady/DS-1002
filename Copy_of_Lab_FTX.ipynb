{
  "nbformat": 4,
  "nbformat_minor": 0,
  "metadata": {
    "colab": {
      "provenance": [],
      "include_colab_link": true
    },
    "kernelspec": {
      "name": "python3",
      "display_name": "Python 3"
    },
    "language_info": {
      "name": "python"
    }
  },
  "cells": [
    {
      "cell_type": "markdown",
      "metadata": {
        "id": "view-in-github",
        "colab_type": "text"
      },
      "source": [
        "<a href=\"https://colab.research.google.com/github/margotbrady/DS-1002/blob/main/Copy_of_Lab_FTX.ipynb\" target=\"_parent\"><img src=\"https://colab.research.google.com/assets/colab-badge.svg\" alt=\"Open In Colab\"/></a>"
      ]
    },
    {
      "cell_type": "markdown",
      "source": [
        "# DS1002 Lab 1:  FTX\n",
        "\n",
        "### Due Monday 1 April at noon\n",
        "\n",
        "In this lab you will work with a dataset, writing python to generate the deliverables specified in the cells below.\n",
        "\n",
        "> **FTX** was a cryptocurrency exchange founded by Sam Bankman-Fried that saw both a spectacular rise and collapse between 2021 and 2022. At one point it had a valuation of $32B. In November Bankman-Fried was found guilty on seven counts of fraud and conspiracy.  His sentencing hearing is today.\n",
        "\n",
        "The dataset for this assignment covers that rise and fall from the viewpoint of daily stock closing prices for FTX (ticker symbol `FTT`).\n",
        "\n",
        "Answer the questions below with the appropriate Python code.\n",
        "\n",
        "**Put code and outputs in this notebook.**\n"
      ],
      "metadata": {
        "id": "2yEePrJ-1G1Z"
      }
    },
    {
      "cell_type": "markdown",
      "source": [
        "## Group Submissions\n",
        "\n",
        "As usual you may work in a group to complete this lab, with no more than 3 members in a group. Group members should be indicated in the cell below -- list both names and UVA computing IDs.\n",
        "\n",
        "Each student should then submit **the same URL** for the lab in Canvas. (If a group has Member1, Member2, and Member3, only one member needs to save the completed work back to GitHub and all members should submit that URL for grading.)"
      ],
      "metadata": {
        "id": "acXFkytd2PWS"
      }
    },
    {
      "cell_type": "code",
      "source": [
        "# List group members (if applicable). Identify names and computing IDs --> NOT APPLICABLE. i worked alone.\n",
        "#\n",
        "# Name                    Computing ID"
      ],
      "metadata": {
        "id": "4N8_o3tG232h"
      },
      "execution_count": 151,
      "outputs": []
    },
    {
      "cell_type": "markdown",
      "source": [
        "## 1. Load Libraries & Data\n",
        "\n",
        "https://s3.amazonaws.com/ds1002-resources/data/ftx-2021-01-01--2023-12-31.csv\n",
        "\n",
        "Import any necessary libraries and load the remote CSV file below into a DataFrame. **Resolve any import issues you need to.**"
      ],
      "metadata": {
        "id": "w0VxTDNf1k2O"
      }
    },
    {
      "cell_type": "code",
      "execution_count": 152,
      "metadata": {
        "id": "I0B9chFD1GR0"
      },
      "outputs": [],
      "source": [
        "# Load pandas and the data\n",
        "import pandas as pd\n",
        "import numpy as np\n",
        "# Because there are issues with loading the original dataset, I use \"delimiter\" to separate out the columns\n",
        "df = pd.read_csv('https://s3.amazonaws.com/ds1002-resources/data/ftx-2021-01-01--2023-12-31.csv', delimiter=';')"
      ]
    },
    {
      "cell_type": "markdown",
      "source": [
        "## 2. Get Summary Data"
      ],
      "metadata": {
        "id": "H389W9dkobGI"
      }
    },
    {
      "cell_type": "markdown",
      "source": [
        "In code, display how many rows and columns are in the raw dataset."
      ],
      "metadata": {
        "id": "KA0wbjmE-4Q9"
      }
    },
    {
      "cell_type": "code",
      "source": [
        "print(df.shape)\n",
        "\n",
        "print(\"There are \" + str(df.shape[0])+\" rows and \"+str(df.shape[1])+\" columns in this dataset.\")"
      ],
      "metadata": {
        "id": "XhULtu7qox-p",
        "colab": {
          "base_uri": "https://localhost:8080/"
        },
        "outputId": "fa2ddf01-2bb5-4013-c969-058ac74dee34"
      },
      "execution_count": 153,
      "outputs": [
        {
          "output_type": "stream",
          "name": "stdout",
          "text": [
            "(741, 11)\n",
            "There are 741 rows and 11 columns in this dataset.\n"
          ]
        }
      ]
    },
    {
      "cell_type": "markdown",
      "source": [
        "## 3. Clean and Organize the Data\n",
        "\n",
        "Check for data quality.\n",
        "\n",
        "- Resolve any empty values or duplicate rows.\n",
        "- Order the data properly if necessary.\n",
        "- Drop the following columns and save the dataframe: `timeOpen`, `timeClose`, `timeHigh`, `timeLow`, `marketCap`\n",
        "\n"
      ],
      "metadata": {
        "id": "abshX7QeooAs"
      }
    },
    {
      "cell_type": "code",
      "source": [
        "dfcleaned = df.copy()\n",
        "# Find duplicates\n",
        "print(\"There are \" + str(dfcleaned.duplicated().sum())+\" duplicate rows.\")\n",
        "dfcleaned = dfcleaned.drop_duplicates()\n",
        "\n",
        "# Check the amount of nulls\n",
        "print(dfcleaned.isnull().sum())\n",
        "print(\"There are no nulls so we don't need to deal with na values.\")\n",
        "\n",
        "#Drop rows\n",
        "dfcleaned = dfcleaned.drop(columns = [\"timeOpen\",\"timeClose\",\"timeHigh\",\"timeLow\",\"marketCap\"])\n",
        "\n",
        "\n",
        "# Convert timestamp column\n",
        "dfcleaned['timestamp'] = pd.to_datetime(df['timestamp'])\n",
        "\n",
        "# sort values\n",
        "dfcleaned = dfcleaned.sort_values(by='timestamp')\n",
        "# Reset the index to be in the correct order\n",
        "dfcleaned= dfcleaned.reset_index(drop=True)\n"
      ],
      "metadata": {
        "id": "Aq3J7yD82uwW",
        "colab": {
          "base_uri": "https://localhost:8080/"
        },
        "outputId": "e558a518-d6db-43ae-f1da-1dbf7cb72348"
      },
      "execution_count": 154,
      "outputs": [
        {
          "output_type": "stream",
          "name": "stdout",
          "text": [
            "There are 14 duplicate rows.\n",
            "timeOpen     0\n",
            "timeClose    0\n",
            "timeHigh     0\n",
            "timeLow      0\n",
            "open         0\n",
            "high         0\n",
            "low          0\n",
            "close        0\n",
            "volume       0\n",
            "marketCap    0\n",
            "timestamp    0\n",
            "dtype: int64\n",
            "There are no nulls so we don't need to deal with na values.\n"
          ]
        }
      ]
    },
    {
      "cell_type": "markdown",
      "source": [
        "Now display the first 10 rows of the cleaned dataset."
      ],
      "metadata": {
        "id": "Ccwu8bUx_Azj"
      }
    },
    {
      "cell_type": "code",
      "source": [
        "dfcleaned.head(10)"
      ],
      "metadata": {
        "id": "1iVIskCs_Ewe",
        "colab": {
          "base_uri": "https://localhost:8080/",
          "height": 363
        },
        "outputId": "d6e91e4d-21c7-4e94-be5c-8a054b00e4b6"
      },
      "execution_count": 155,
      "outputs": [
        {
          "output_type": "execute_result",
          "data": {
            "text/plain": [
              "       open       high       low     close        volume  \\\n",
              "0  6.201133   7.007523  6.171834  6.923968  3.104665e+07   \n",
              "1  6.948680   7.632146  6.358218  7.514079  4.052611e+07   \n",
              "2  7.528216   8.714947  7.081120  8.664688  4.947928e+07   \n",
              "3  8.671285   9.390797  8.425946  9.390797  3.140463e+07   \n",
              "4  9.386493  10.004872  9.215244  9.562131  4.630334e+07   \n",
              "5  9.569239   9.726429  8.452265  9.380988  4.228627e+07   \n",
              "6  9.370450   9.636120  8.728044  9.570511  2.849895e+07   \n",
              "7  9.571917   9.944797  8.657147  9.308809  3.101239e+07   \n",
              "8  9.298315   9.298315  7.126050  8.610997  1.013024e+08   \n",
              "9  8.615143   9.097479  8.040916  8.381133  2.674536e+07   \n",
              "\n",
              "                         timestamp  \n",
              "0 2021-01-03 23:59:59.999000+00:00  \n",
              "1 2021-01-04 23:59:59.999000+00:00  \n",
              "2 2021-01-05 23:59:59.999000+00:00  \n",
              "3 2021-01-06 23:59:59.999000+00:00  \n",
              "4 2021-01-07 23:59:59.999000+00:00  \n",
              "5 2021-01-08 23:59:59.999000+00:00  \n",
              "6 2021-01-09 23:59:59.999000+00:00  \n",
              "7 2021-01-10 23:59:59.999000+00:00  \n",
              "8 2021-01-11 23:59:59.999000+00:00  \n",
              "9 2021-01-12 23:59:59.999000+00:00  "
            ],
            "text/html": [
              "\n",
              "  <div id=\"df-0ac4459a-2755-48fe-83a8-a663c308a4ef\" class=\"colab-df-container\">\n",
              "    <div>\n",
              "<style scoped>\n",
              "    .dataframe tbody tr th:only-of-type {\n",
              "        vertical-align: middle;\n",
              "    }\n",
              "\n",
              "    .dataframe tbody tr th {\n",
              "        vertical-align: top;\n",
              "    }\n",
              "\n",
              "    .dataframe thead th {\n",
              "        text-align: right;\n",
              "    }\n",
              "</style>\n",
              "<table border=\"1\" class=\"dataframe\">\n",
              "  <thead>\n",
              "    <tr style=\"text-align: right;\">\n",
              "      <th></th>\n",
              "      <th>open</th>\n",
              "      <th>high</th>\n",
              "      <th>low</th>\n",
              "      <th>close</th>\n",
              "      <th>volume</th>\n",
              "      <th>timestamp</th>\n",
              "    </tr>\n",
              "  </thead>\n",
              "  <tbody>\n",
              "    <tr>\n",
              "      <th>0</th>\n",
              "      <td>6.201133</td>\n",
              "      <td>7.007523</td>\n",
              "      <td>6.171834</td>\n",
              "      <td>6.923968</td>\n",
              "      <td>3.104665e+07</td>\n",
              "      <td>2021-01-03 23:59:59.999000+00:00</td>\n",
              "    </tr>\n",
              "    <tr>\n",
              "      <th>1</th>\n",
              "      <td>6.948680</td>\n",
              "      <td>7.632146</td>\n",
              "      <td>6.358218</td>\n",
              "      <td>7.514079</td>\n",
              "      <td>4.052611e+07</td>\n",
              "      <td>2021-01-04 23:59:59.999000+00:00</td>\n",
              "    </tr>\n",
              "    <tr>\n",
              "      <th>2</th>\n",
              "      <td>7.528216</td>\n",
              "      <td>8.714947</td>\n",
              "      <td>7.081120</td>\n",
              "      <td>8.664688</td>\n",
              "      <td>4.947928e+07</td>\n",
              "      <td>2021-01-05 23:59:59.999000+00:00</td>\n",
              "    </tr>\n",
              "    <tr>\n",
              "      <th>3</th>\n",
              "      <td>8.671285</td>\n",
              "      <td>9.390797</td>\n",
              "      <td>8.425946</td>\n",
              "      <td>9.390797</td>\n",
              "      <td>3.140463e+07</td>\n",
              "      <td>2021-01-06 23:59:59.999000+00:00</td>\n",
              "    </tr>\n",
              "    <tr>\n",
              "      <th>4</th>\n",
              "      <td>9.386493</td>\n",
              "      <td>10.004872</td>\n",
              "      <td>9.215244</td>\n",
              "      <td>9.562131</td>\n",
              "      <td>4.630334e+07</td>\n",
              "      <td>2021-01-07 23:59:59.999000+00:00</td>\n",
              "    </tr>\n",
              "    <tr>\n",
              "      <th>5</th>\n",
              "      <td>9.569239</td>\n",
              "      <td>9.726429</td>\n",
              "      <td>8.452265</td>\n",
              "      <td>9.380988</td>\n",
              "      <td>4.228627e+07</td>\n",
              "      <td>2021-01-08 23:59:59.999000+00:00</td>\n",
              "    </tr>\n",
              "    <tr>\n",
              "      <th>6</th>\n",
              "      <td>9.370450</td>\n",
              "      <td>9.636120</td>\n",
              "      <td>8.728044</td>\n",
              "      <td>9.570511</td>\n",
              "      <td>2.849895e+07</td>\n",
              "      <td>2021-01-09 23:59:59.999000+00:00</td>\n",
              "    </tr>\n",
              "    <tr>\n",
              "      <th>7</th>\n",
              "      <td>9.571917</td>\n",
              "      <td>9.944797</td>\n",
              "      <td>8.657147</td>\n",
              "      <td>9.308809</td>\n",
              "      <td>3.101239e+07</td>\n",
              "      <td>2021-01-10 23:59:59.999000+00:00</td>\n",
              "    </tr>\n",
              "    <tr>\n",
              "      <th>8</th>\n",
              "      <td>9.298315</td>\n",
              "      <td>9.298315</td>\n",
              "      <td>7.126050</td>\n",
              "      <td>8.610997</td>\n",
              "      <td>1.013024e+08</td>\n",
              "      <td>2021-01-11 23:59:59.999000+00:00</td>\n",
              "    </tr>\n",
              "    <tr>\n",
              "      <th>9</th>\n",
              "      <td>8.615143</td>\n",
              "      <td>9.097479</td>\n",
              "      <td>8.040916</td>\n",
              "      <td>8.381133</td>\n",
              "      <td>2.674536e+07</td>\n",
              "      <td>2021-01-12 23:59:59.999000+00:00</td>\n",
              "    </tr>\n",
              "  </tbody>\n",
              "</table>\n",
              "</div>\n",
              "    <div class=\"colab-df-buttons\">\n",
              "\n",
              "  <div class=\"colab-df-container\">\n",
              "    <button class=\"colab-df-convert\" onclick=\"convertToInteractive('df-0ac4459a-2755-48fe-83a8-a663c308a4ef')\"\n",
              "            title=\"Convert this dataframe to an interactive table.\"\n",
              "            style=\"display:none;\">\n",
              "\n",
              "  <svg xmlns=\"http://www.w3.org/2000/svg\" height=\"24px\" viewBox=\"0 -960 960 960\">\n",
              "    <path d=\"M120-120v-720h720v720H120Zm60-500h600v-160H180v160Zm220 220h160v-160H400v160Zm0 220h160v-160H400v160ZM180-400h160v-160H180v160Zm440 0h160v-160H620v160ZM180-180h160v-160H180v160Zm440 0h160v-160H620v160Z\"/>\n",
              "  </svg>\n",
              "    </button>\n",
              "\n",
              "  <style>\n",
              "    .colab-df-container {\n",
              "      display:flex;\n",
              "      gap: 12px;\n",
              "    }\n",
              "\n",
              "    .colab-df-convert {\n",
              "      background-color: #E8F0FE;\n",
              "      border: none;\n",
              "      border-radius: 50%;\n",
              "      cursor: pointer;\n",
              "      display: none;\n",
              "      fill: #1967D2;\n",
              "      height: 32px;\n",
              "      padding: 0 0 0 0;\n",
              "      width: 32px;\n",
              "    }\n",
              "\n",
              "    .colab-df-convert:hover {\n",
              "      background-color: #E2EBFA;\n",
              "      box-shadow: 0px 1px 2px rgba(60, 64, 67, 0.3), 0px 1px 3px 1px rgba(60, 64, 67, 0.15);\n",
              "      fill: #174EA6;\n",
              "    }\n",
              "\n",
              "    .colab-df-buttons div {\n",
              "      margin-bottom: 4px;\n",
              "    }\n",
              "\n",
              "    [theme=dark] .colab-df-convert {\n",
              "      background-color: #3B4455;\n",
              "      fill: #D2E3FC;\n",
              "    }\n",
              "\n",
              "    [theme=dark] .colab-df-convert:hover {\n",
              "      background-color: #434B5C;\n",
              "      box-shadow: 0px 1px 3px 1px rgba(0, 0, 0, 0.15);\n",
              "      filter: drop-shadow(0px 1px 2px rgba(0, 0, 0, 0.3));\n",
              "      fill: #FFFFFF;\n",
              "    }\n",
              "  </style>\n",
              "\n",
              "    <script>\n",
              "      const buttonEl =\n",
              "        document.querySelector('#df-0ac4459a-2755-48fe-83a8-a663c308a4ef button.colab-df-convert');\n",
              "      buttonEl.style.display =\n",
              "        google.colab.kernel.accessAllowed ? 'block' : 'none';\n",
              "\n",
              "      async function convertToInteractive(key) {\n",
              "        const element = document.querySelector('#df-0ac4459a-2755-48fe-83a8-a663c308a4ef');\n",
              "        const dataTable =\n",
              "          await google.colab.kernel.invokeFunction('convertToInteractive',\n",
              "                                                    [key], {});\n",
              "        if (!dataTable) return;\n",
              "\n",
              "        const docLinkHtml = 'Like what you see? Visit the ' +\n",
              "          '<a target=\"_blank\" href=https://colab.research.google.com/notebooks/data_table.ipynb>data table notebook</a>'\n",
              "          + ' to learn more about interactive tables.';\n",
              "        element.innerHTML = '';\n",
              "        dataTable['output_type'] = 'display_data';\n",
              "        await google.colab.output.renderOutput(dataTable, element);\n",
              "        const docLink = document.createElement('div');\n",
              "        docLink.innerHTML = docLinkHtml;\n",
              "        element.appendChild(docLink);\n",
              "      }\n",
              "    </script>\n",
              "  </div>\n",
              "\n",
              "\n",
              "<div id=\"df-338645cf-2e45-4d4e-9f7e-e47458539100\">\n",
              "  <button class=\"colab-df-quickchart\" onclick=\"quickchart('df-338645cf-2e45-4d4e-9f7e-e47458539100')\"\n",
              "            title=\"Suggest charts\"\n",
              "            style=\"display:none;\">\n",
              "\n",
              "<svg xmlns=\"http://www.w3.org/2000/svg\" height=\"24px\"viewBox=\"0 0 24 24\"\n",
              "     width=\"24px\">\n",
              "    <g>\n",
              "        <path d=\"M19 3H5c-1.1 0-2 .9-2 2v14c0 1.1.9 2 2 2h14c1.1 0 2-.9 2-2V5c0-1.1-.9-2-2-2zM9 17H7v-7h2v7zm4 0h-2V7h2v10zm4 0h-2v-4h2v4z\"/>\n",
              "    </g>\n",
              "</svg>\n",
              "  </button>\n",
              "\n",
              "<style>\n",
              "  .colab-df-quickchart {\n",
              "      --bg-color: #E8F0FE;\n",
              "      --fill-color: #1967D2;\n",
              "      --hover-bg-color: #E2EBFA;\n",
              "      --hover-fill-color: #174EA6;\n",
              "      --disabled-fill-color: #AAA;\n",
              "      --disabled-bg-color: #DDD;\n",
              "  }\n",
              "\n",
              "  [theme=dark] .colab-df-quickchart {\n",
              "      --bg-color: #3B4455;\n",
              "      --fill-color: #D2E3FC;\n",
              "      --hover-bg-color: #434B5C;\n",
              "      --hover-fill-color: #FFFFFF;\n",
              "      --disabled-bg-color: #3B4455;\n",
              "      --disabled-fill-color: #666;\n",
              "  }\n",
              "\n",
              "  .colab-df-quickchart {\n",
              "    background-color: var(--bg-color);\n",
              "    border: none;\n",
              "    border-radius: 50%;\n",
              "    cursor: pointer;\n",
              "    display: none;\n",
              "    fill: var(--fill-color);\n",
              "    height: 32px;\n",
              "    padding: 0;\n",
              "    width: 32px;\n",
              "  }\n",
              "\n",
              "  .colab-df-quickchart:hover {\n",
              "    background-color: var(--hover-bg-color);\n",
              "    box-shadow: 0 1px 2px rgba(60, 64, 67, 0.3), 0 1px 3px 1px rgba(60, 64, 67, 0.15);\n",
              "    fill: var(--button-hover-fill-color);\n",
              "  }\n",
              "\n",
              "  .colab-df-quickchart-complete:disabled,\n",
              "  .colab-df-quickchart-complete:disabled:hover {\n",
              "    background-color: var(--disabled-bg-color);\n",
              "    fill: var(--disabled-fill-color);\n",
              "    box-shadow: none;\n",
              "  }\n",
              "\n",
              "  .colab-df-spinner {\n",
              "    border: 2px solid var(--fill-color);\n",
              "    border-color: transparent;\n",
              "    border-bottom-color: var(--fill-color);\n",
              "    animation:\n",
              "      spin 1s steps(1) infinite;\n",
              "  }\n",
              "\n",
              "  @keyframes spin {\n",
              "    0% {\n",
              "      border-color: transparent;\n",
              "      border-bottom-color: var(--fill-color);\n",
              "      border-left-color: var(--fill-color);\n",
              "    }\n",
              "    20% {\n",
              "      border-color: transparent;\n",
              "      border-left-color: var(--fill-color);\n",
              "      border-top-color: var(--fill-color);\n",
              "    }\n",
              "    30% {\n",
              "      border-color: transparent;\n",
              "      border-left-color: var(--fill-color);\n",
              "      border-top-color: var(--fill-color);\n",
              "      border-right-color: var(--fill-color);\n",
              "    }\n",
              "    40% {\n",
              "      border-color: transparent;\n",
              "      border-right-color: var(--fill-color);\n",
              "      border-top-color: var(--fill-color);\n",
              "    }\n",
              "    60% {\n",
              "      border-color: transparent;\n",
              "      border-right-color: var(--fill-color);\n",
              "    }\n",
              "    80% {\n",
              "      border-color: transparent;\n",
              "      border-right-color: var(--fill-color);\n",
              "      border-bottom-color: var(--fill-color);\n",
              "    }\n",
              "    90% {\n",
              "      border-color: transparent;\n",
              "      border-bottom-color: var(--fill-color);\n",
              "    }\n",
              "  }\n",
              "</style>\n",
              "\n",
              "  <script>\n",
              "    async function quickchart(key) {\n",
              "      const quickchartButtonEl =\n",
              "        document.querySelector('#' + key + ' button');\n",
              "      quickchartButtonEl.disabled = true;  // To prevent multiple clicks.\n",
              "      quickchartButtonEl.classList.add('colab-df-spinner');\n",
              "      try {\n",
              "        const charts = await google.colab.kernel.invokeFunction(\n",
              "            'suggestCharts', [key], {});\n",
              "      } catch (error) {\n",
              "        console.error('Error during call to suggestCharts:', error);\n",
              "      }\n",
              "      quickchartButtonEl.classList.remove('colab-df-spinner');\n",
              "      quickchartButtonEl.classList.add('colab-df-quickchart-complete');\n",
              "    }\n",
              "    (() => {\n",
              "      let quickchartButtonEl =\n",
              "        document.querySelector('#df-338645cf-2e45-4d4e-9f7e-e47458539100 button');\n",
              "      quickchartButtonEl.style.display =\n",
              "        google.colab.kernel.accessAllowed ? 'block' : 'none';\n",
              "    })();\n",
              "  </script>\n",
              "</div>\n",
              "\n",
              "    </div>\n",
              "  </div>\n"
            ],
            "application/vnd.google.colaboratory.intrinsic+json": {
              "type": "dataframe",
              "variable_name": "dfcleaned",
              "summary": "{\n  \"name\": \"dfcleaned\",\n  \"rows\": 727,\n  \"fields\": [\n    {\n      \"column\": \"open\",\n      \"properties\": {\n        \"dtype\": \"number\",\n        \"std\": 16.1035338133042,\n        \"min\": 0.8389684425,\n        \"max\": 79.52836962,\n        \"num_unique_values\": 727,\n        \"samples\": [\n          28.9563167953,\n          1.3157512367,\n          46.0596495217\n        ],\n        \"semantic_type\": \"\",\n        \"description\": \"\"\n      }\n    },\n    {\n      \"column\": \"high\",\n      \"properties\": {\n        \"dtype\": \"number\",\n        \"std\": 16.78796574913453,\n        \"min\": 0.853501666,\n        \"max\": 85.0168524,\n        \"num_unique_values\": 727,\n        \"samples\": [\n          29.0913360636,\n          1.3293454362,\n          46.5800480101\n        ],\n        \"semantic_type\": \"\",\n        \"description\": \"\"\n      }\n    },\n    {\n      \"column\": \"low\",\n      \"properties\": {\n        \"dtype\": \"number\",\n        \"std\": 15.450005209358025,\n        \"min\": 0.8266428992,\n        \"max\": 71.9259352,\n        \"num_unique_values\": 727,\n        \"samples\": [\n          26.603364667,\n          1.2819613781,\n          45.289783057\n        ],\n        \"semantic_type\": \"\",\n        \"description\": \"\"\n      }\n    },\n    {\n      \"column\": \"close\",\n      \"properties\": {\n        \"dtype\": \"number\",\n        \"std\": 16.110665264905244,\n        \"min\": 0.8390481756,\n        \"max\": 79.87131341,\n        \"num_unique_values\": 727,\n        \"samples\": [\n          26.9054856794,\n          1.2950926908,\n          46.4249926227\n        ],\n        \"semantic_type\": \"\",\n        \"description\": \"\"\n      }\n    },\n    {\n      \"column\": \"volume\",\n      \"properties\": {\n        \"dtype\": \"number\",\n        \"std\": 334134232.9378182,\n        \"min\": 2577834.83,\n        \"max\": 3919748072.71,\n        \"num_unique_values\": 727,\n        \"samples\": [\n          74761383.79,\n          6250101.62,\n          203763296.77\n        ],\n        \"semantic_type\": \"\",\n        \"description\": \"\"\n      }\n    },\n    {\n      \"column\": \"timestamp\",\n      \"properties\": {\n        \"dtype\": \"date\",\n        \"min\": \"2021-01-03 23:59:59.999000+00:00\",\n        \"max\": \"2022-12-31 23:59:59.999000+00:00\",\n        \"num_unique_values\": 727,\n        \"samples\": [\n          \"2022-06-01 23:59:59.999000+00:00\",\n          \"2022-11-28 23:59:59.999000+00:00\",\n          \"2022-01-16 23:59:59.999000+00:00\"\n        ],\n        \"semantic_type\": \"\",\n        \"description\": \"\"\n      }\n    }\n  ]\n}"
            }
          },
          "metadata": {},
          "execution_count": 155
        }
      ]
    },
    {
      "cell_type": "markdown",
      "source": [
        "## 4. Calculate Daily Gains/Losses"
      ],
      "metadata": {
        "id": "3-4dd8nsr_zF"
      }
    },
    {
      "cell_type": "markdown",
      "source": [
        "Using Pandas, add a new column named `[\"close_change\"]` to the dataframe that calculates the difference between daily closing prices for FTX. This will result in positive (growth) and negative (loss) values.\n",
        "\n",
        "Note:\n",
        "- Be careful about how you calculate this. Each row should calculate that difference from the row above it, which must be the previous calendar day.\n",
        "- Hint: This is not complicated and does not require a for-loop.  See the Pandas review notebook for reference."
      ],
      "metadata": {
        "id": "HrGLlM83vH0c"
      }
    },
    {
      "cell_type": "code",
      "source": [
        "# Creates a new column with all of the previous day's closing price by shifting the 'close' column down by one.\n",
        "dfcleaned['previousclose']=dfcleaned['close'].shift(1)\n",
        "# Calculates the difference between closing price and previous closing price\n",
        "dfcleaned['close_change']=dfcleaned['close']-dfcleaned['previousclose']\n",
        "dfcleaned.head(10)"
      ],
      "metadata": {
        "id": "7P8J0jEtvCiv",
        "colab": {
          "base_uri": "https://localhost:8080/",
          "height": 363
        },
        "outputId": "b197b78b-5744-4b62-edd7-0b57304d733b"
      },
      "execution_count": 156,
      "outputs": [
        {
          "output_type": "execute_result",
          "data": {
            "text/plain": [
              "       open       high       low     close        volume  \\\n",
              "0  6.201133   7.007523  6.171834  6.923968  3.104665e+07   \n",
              "1  6.948680   7.632146  6.358218  7.514079  4.052611e+07   \n",
              "2  7.528216   8.714947  7.081120  8.664688  4.947928e+07   \n",
              "3  8.671285   9.390797  8.425946  9.390797  3.140463e+07   \n",
              "4  9.386493  10.004872  9.215244  9.562131  4.630334e+07   \n",
              "5  9.569239   9.726429  8.452265  9.380988  4.228627e+07   \n",
              "6  9.370450   9.636120  8.728044  9.570511  2.849895e+07   \n",
              "7  9.571917   9.944797  8.657147  9.308809  3.101239e+07   \n",
              "8  9.298315   9.298315  7.126050  8.610997  1.013024e+08   \n",
              "9  8.615143   9.097479  8.040916  8.381133  2.674536e+07   \n",
              "\n",
              "                         timestamp  previousclose  close_change  \n",
              "0 2021-01-03 23:59:59.999000+00:00            NaN           NaN  \n",
              "1 2021-01-04 23:59:59.999000+00:00       6.923968      0.590111  \n",
              "2 2021-01-05 23:59:59.999000+00:00       7.514079      1.150608  \n",
              "3 2021-01-06 23:59:59.999000+00:00       8.664688      0.726110  \n",
              "4 2021-01-07 23:59:59.999000+00:00       9.390797      0.171334  \n",
              "5 2021-01-08 23:59:59.999000+00:00       9.562131     -0.181143  \n",
              "6 2021-01-09 23:59:59.999000+00:00       9.380988      0.189522  \n",
              "7 2021-01-10 23:59:59.999000+00:00       9.570511     -0.261701  \n",
              "8 2021-01-11 23:59:59.999000+00:00       9.308809     -0.697813  \n",
              "9 2021-01-12 23:59:59.999000+00:00       8.610997     -0.229863  "
            ],
            "text/html": [
              "\n",
              "  <div id=\"df-3d5aacc6-9b55-4651-b6ec-e2b61867bda9\" class=\"colab-df-container\">\n",
              "    <div>\n",
              "<style scoped>\n",
              "    .dataframe tbody tr th:only-of-type {\n",
              "        vertical-align: middle;\n",
              "    }\n",
              "\n",
              "    .dataframe tbody tr th {\n",
              "        vertical-align: top;\n",
              "    }\n",
              "\n",
              "    .dataframe thead th {\n",
              "        text-align: right;\n",
              "    }\n",
              "</style>\n",
              "<table border=\"1\" class=\"dataframe\">\n",
              "  <thead>\n",
              "    <tr style=\"text-align: right;\">\n",
              "      <th></th>\n",
              "      <th>open</th>\n",
              "      <th>high</th>\n",
              "      <th>low</th>\n",
              "      <th>close</th>\n",
              "      <th>volume</th>\n",
              "      <th>timestamp</th>\n",
              "      <th>previousclose</th>\n",
              "      <th>close_change</th>\n",
              "    </tr>\n",
              "  </thead>\n",
              "  <tbody>\n",
              "    <tr>\n",
              "      <th>0</th>\n",
              "      <td>6.201133</td>\n",
              "      <td>7.007523</td>\n",
              "      <td>6.171834</td>\n",
              "      <td>6.923968</td>\n",
              "      <td>3.104665e+07</td>\n",
              "      <td>2021-01-03 23:59:59.999000+00:00</td>\n",
              "      <td>NaN</td>\n",
              "      <td>NaN</td>\n",
              "    </tr>\n",
              "    <tr>\n",
              "      <th>1</th>\n",
              "      <td>6.948680</td>\n",
              "      <td>7.632146</td>\n",
              "      <td>6.358218</td>\n",
              "      <td>7.514079</td>\n",
              "      <td>4.052611e+07</td>\n",
              "      <td>2021-01-04 23:59:59.999000+00:00</td>\n",
              "      <td>6.923968</td>\n",
              "      <td>0.590111</td>\n",
              "    </tr>\n",
              "    <tr>\n",
              "      <th>2</th>\n",
              "      <td>7.528216</td>\n",
              "      <td>8.714947</td>\n",
              "      <td>7.081120</td>\n",
              "      <td>8.664688</td>\n",
              "      <td>4.947928e+07</td>\n",
              "      <td>2021-01-05 23:59:59.999000+00:00</td>\n",
              "      <td>7.514079</td>\n",
              "      <td>1.150608</td>\n",
              "    </tr>\n",
              "    <tr>\n",
              "      <th>3</th>\n",
              "      <td>8.671285</td>\n",
              "      <td>9.390797</td>\n",
              "      <td>8.425946</td>\n",
              "      <td>9.390797</td>\n",
              "      <td>3.140463e+07</td>\n",
              "      <td>2021-01-06 23:59:59.999000+00:00</td>\n",
              "      <td>8.664688</td>\n",
              "      <td>0.726110</td>\n",
              "    </tr>\n",
              "    <tr>\n",
              "      <th>4</th>\n",
              "      <td>9.386493</td>\n",
              "      <td>10.004872</td>\n",
              "      <td>9.215244</td>\n",
              "      <td>9.562131</td>\n",
              "      <td>4.630334e+07</td>\n",
              "      <td>2021-01-07 23:59:59.999000+00:00</td>\n",
              "      <td>9.390797</td>\n",
              "      <td>0.171334</td>\n",
              "    </tr>\n",
              "    <tr>\n",
              "      <th>5</th>\n",
              "      <td>9.569239</td>\n",
              "      <td>9.726429</td>\n",
              "      <td>8.452265</td>\n",
              "      <td>9.380988</td>\n",
              "      <td>4.228627e+07</td>\n",
              "      <td>2021-01-08 23:59:59.999000+00:00</td>\n",
              "      <td>9.562131</td>\n",
              "      <td>-0.181143</td>\n",
              "    </tr>\n",
              "    <tr>\n",
              "      <th>6</th>\n",
              "      <td>9.370450</td>\n",
              "      <td>9.636120</td>\n",
              "      <td>8.728044</td>\n",
              "      <td>9.570511</td>\n",
              "      <td>2.849895e+07</td>\n",
              "      <td>2021-01-09 23:59:59.999000+00:00</td>\n",
              "      <td>9.380988</td>\n",
              "      <td>0.189522</td>\n",
              "    </tr>\n",
              "    <tr>\n",
              "      <th>7</th>\n",
              "      <td>9.571917</td>\n",
              "      <td>9.944797</td>\n",
              "      <td>8.657147</td>\n",
              "      <td>9.308809</td>\n",
              "      <td>3.101239e+07</td>\n",
              "      <td>2021-01-10 23:59:59.999000+00:00</td>\n",
              "      <td>9.570511</td>\n",
              "      <td>-0.261701</td>\n",
              "    </tr>\n",
              "    <tr>\n",
              "      <th>8</th>\n",
              "      <td>9.298315</td>\n",
              "      <td>9.298315</td>\n",
              "      <td>7.126050</td>\n",
              "      <td>8.610997</td>\n",
              "      <td>1.013024e+08</td>\n",
              "      <td>2021-01-11 23:59:59.999000+00:00</td>\n",
              "      <td>9.308809</td>\n",
              "      <td>-0.697813</td>\n",
              "    </tr>\n",
              "    <tr>\n",
              "      <th>9</th>\n",
              "      <td>8.615143</td>\n",
              "      <td>9.097479</td>\n",
              "      <td>8.040916</td>\n",
              "      <td>8.381133</td>\n",
              "      <td>2.674536e+07</td>\n",
              "      <td>2021-01-12 23:59:59.999000+00:00</td>\n",
              "      <td>8.610997</td>\n",
              "      <td>-0.229863</td>\n",
              "    </tr>\n",
              "  </tbody>\n",
              "</table>\n",
              "</div>\n",
              "    <div class=\"colab-df-buttons\">\n",
              "\n",
              "  <div class=\"colab-df-container\">\n",
              "    <button class=\"colab-df-convert\" onclick=\"convertToInteractive('df-3d5aacc6-9b55-4651-b6ec-e2b61867bda9')\"\n",
              "            title=\"Convert this dataframe to an interactive table.\"\n",
              "            style=\"display:none;\">\n",
              "\n",
              "  <svg xmlns=\"http://www.w3.org/2000/svg\" height=\"24px\" viewBox=\"0 -960 960 960\">\n",
              "    <path d=\"M120-120v-720h720v720H120Zm60-500h600v-160H180v160Zm220 220h160v-160H400v160Zm0 220h160v-160H400v160ZM180-400h160v-160H180v160Zm440 0h160v-160H620v160ZM180-180h160v-160H180v160Zm440 0h160v-160H620v160Z\"/>\n",
              "  </svg>\n",
              "    </button>\n",
              "\n",
              "  <style>\n",
              "    .colab-df-container {\n",
              "      display:flex;\n",
              "      gap: 12px;\n",
              "    }\n",
              "\n",
              "    .colab-df-convert {\n",
              "      background-color: #E8F0FE;\n",
              "      border: none;\n",
              "      border-radius: 50%;\n",
              "      cursor: pointer;\n",
              "      display: none;\n",
              "      fill: #1967D2;\n",
              "      height: 32px;\n",
              "      padding: 0 0 0 0;\n",
              "      width: 32px;\n",
              "    }\n",
              "\n",
              "    .colab-df-convert:hover {\n",
              "      background-color: #E2EBFA;\n",
              "      box-shadow: 0px 1px 2px rgba(60, 64, 67, 0.3), 0px 1px 3px 1px rgba(60, 64, 67, 0.15);\n",
              "      fill: #174EA6;\n",
              "    }\n",
              "\n",
              "    .colab-df-buttons div {\n",
              "      margin-bottom: 4px;\n",
              "    }\n",
              "\n",
              "    [theme=dark] .colab-df-convert {\n",
              "      background-color: #3B4455;\n",
              "      fill: #D2E3FC;\n",
              "    }\n",
              "\n",
              "    [theme=dark] .colab-df-convert:hover {\n",
              "      background-color: #434B5C;\n",
              "      box-shadow: 0px 1px 3px 1px rgba(0, 0, 0, 0.15);\n",
              "      filter: drop-shadow(0px 1px 2px rgba(0, 0, 0, 0.3));\n",
              "      fill: #FFFFFF;\n",
              "    }\n",
              "  </style>\n",
              "\n",
              "    <script>\n",
              "      const buttonEl =\n",
              "        document.querySelector('#df-3d5aacc6-9b55-4651-b6ec-e2b61867bda9 button.colab-df-convert');\n",
              "      buttonEl.style.display =\n",
              "        google.colab.kernel.accessAllowed ? 'block' : 'none';\n",
              "\n",
              "      async function convertToInteractive(key) {\n",
              "        const element = document.querySelector('#df-3d5aacc6-9b55-4651-b6ec-e2b61867bda9');\n",
              "        const dataTable =\n",
              "          await google.colab.kernel.invokeFunction('convertToInteractive',\n",
              "                                                    [key], {});\n",
              "        if (!dataTable) return;\n",
              "\n",
              "        const docLinkHtml = 'Like what you see? Visit the ' +\n",
              "          '<a target=\"_blank\" href=https://colab.research.google.com/notebooks/data_table.ipynb>data table notebook</a>'\n",
              "          + ' to learn more about interactive tables.';\n",
              "        element.innerHTML = '';\n",
              "        dataTable['output_type'] = 'display_data';\n",
              "        await google.colab.output.renderOutput(dataTable, element);\n",
              "        const docLink = document.createElement('div');\n",
              "        docLink.innerHTML = docLinkHtml;\n",
              "        element.appendChild(docLink);\n",
              "      }\n",
              "    </script>\n",
              "  </div>\n",
              "\n",
              "\n",
              "<div id=\"df-83710814-408a-40e2-9683-3be1259d54c4\">\n",
              "  <button class=\"colab-df-quickchart\" onclick=\"quickchart('df-83710814-408a-40e2-9683-3be1259d54c4')\"\n",
              "            title=\"Suggest charts\"\n",
              "            style=\"display:none;\">\n",
              "\n",
              "<svg xmlns=\"http://www.w3.org/2000/svg\" height=\"24px\"viewBox=\"0 0 24 24\"\n",
              "     width=\"24px\">\n",
              "    <g>\n",
              "        <path d=\"M19 3H5c-1.1 0-2 .9-2 2v14c0 1.1.9 2 2 2h14c1.1 0 2-.9 2-2V5c0-1.1-.9-2-2-2zM9 17H7v-7h2v7zm4 0h-2V7h2v10zm4 0h-2v-4h2v4z\"/>\n",
              "    </g>\n",
              "</svg>\n",
              "  </button>\n",
              "\n",
              "<style>\n",
              "  .colab-df-quickchart {\n",
              "      --bg-color: #E8F0FE;\n",
              "      --fill-color: #1967D2;\n",
              "      --hover-bg-color: #E2EBFA;\n",
              "      --hover-fill-color: #174EA6;\n",
              "      --disabled-fill-color: #AAA;\n",
              "      --disabled-bg-color: #DDD;\n",
              "  }\n",
              "\n",
              "  [theme=dark] .colab-df-quickchart {\n",
              "      --bg-color: #3B4455;\n",
              "      --fill-color: #D2E3FC;\n",
              "      --hover-bg-color: #434B5C;\n",
              "      --hover-fill-color: #FFFFFF;\n",
              "      --disabled-bg-color: #3B4455;\n",
              "      --disabled-fill-color: #666;\n",
              "  }\n",
              "\n",
              "  .colab-df-quickchart {\n",
              "    background-color: var(--bg-color);\n",
              "    border: none;\n",
              "    border-radius: 50%;\n",
              "    cursor: pointer;\n",
              "    display: none;\n",
              "    fill: var(--fill-color);\n",
              "    height: 32px;\n",
              "    padding: 0;\n",
              "    width: 32px;\n",
              "  }\n",
              "\n",
              "  .colab-df-quickchart:hover {\n",
              "    background-color: var(--hover-bg-color);\n",
              "    box-shadow: 0 1px 2px rgba(60, 64, 67, 0.3), 0 1px 3px 1px rgba(60, 64, 67, 0.15);\n",
              "    fill: var(--button-hover-fill-color);\n",
              "  }\n",
              "\n",
              "  .colab-df-quickchart-complete:disabled,\n",
              "  .colab-df-quickchart-complete:disabled:hover {\n",
              "    background-color: var(--disabled-bg-color);\n",
              "    fill: var(--disabled-fill-color);\n",
              "    box-shadow: none;\n",
              "  }\n",
              "\n",
              "  .colab-df-spinner {\n",
              "    border: 2px solid var(--fill-color);\n",
              "    border-color: transparent;\n",
              "    border-bottom-color: var(--fill-color);\n",
              "    animation:\n",
              "      spin 1s steps(1) infinite;\n",
              "  }\n",
              "\n",
              "  @keyframes spin {\n",
              "    0% {\n",
              "      border-color: transparent;\n",
              "      border-bottom-color: var(--fill-color);\n",
              "      border-left-color: var(--fill-color);\n",
              "    }\n",
              "    20% {\n",
              "      border-color: transparent;\n",
              "      border-left-color: var(--fill-color);\n",
              "      border-top-color: var(--fill-color);\n",
              "    }\n",
              "    30% {\n",
              "      border-color: transparent;\n",
              "      border-left-color: var(--fill-color);\n",
              "      border-top-color: var(--fill-color);\n",
              "      border-right-color: var(--fill-color);\n",
              "    }\n",
              "    40% {\n",
              "      border-color: transparent;\n",
              "      border-right-color: var(--fill-color);\n",
              "      border-top-color: var(--fill-color);\n",
              "    }\n",
              "    60% {\n",
              "      border-color: transparent;\n",
              "      border-right-color: var(--fill-color);\n",
              "    }\n",
              "    80% {\n",
              "      border-color: transparent;\n",
              "      border-right-color: var(--fill-color);\n",
              "      border-bottom-color: var(--fill-color);\n",
              "    }\n",
              "    90% {\n",
              "      border-color: transparent;\n",
              "      border-bottom-color: var(--fill-color);\n",
              "    }\n",
              "  }\n",
              "</style>\n",
              "\n",
              "  <script>\n",
              "    async function quickchart(key) {\n",
              "      const quickchartButtonEl =\n",
              "        document.querySelector('#' + key + ' button');\n",
              "      quickchartButtonEl.disabled = true;  // To prevent multiple clicks.\n",
              "      quickchartButtonEl.classList.add('colab-df-spinner');\n",
              "      try {\n",
              "        const charts = await google.colab.kernel.invokeFunction(\n",
              "            'suggestCharts', [key], {});\n",
              "      } catch (error) {\n",
              "        console.error('Error during call to suggestCharts:', error);\n",
              "      }\n",
              "      quickchartButtonEl.classList.remove('colab-df-spinner');\n",
              "      quickchartButtonEl.classList.add('colab-df-quickchart-complete');\n",
              "    }\n",
              "    (() => {\n",
              "      let quickchartButtonEl =\n",
              "        document.querySelector('#df-83710814-408a-40e2-9683-3be1259d54c4 button');\n",
              "      quickchartButtonEl.style.display =\n",
              "        google.colab.kernel.accessAllowed ? 'block' : 'none';\n",
              "    })();\n",
              "  </script>\n",
              "</div>\n",
              "\n",
              "    </div>\n",
              "  </div>\n"
            ],
            "application/vnd.google.colaboratory.intrinsic+json": {
              "type": "dataframe",
              "variable_name": "dfcleaned",
              "summary": "{\n  \"name\": \"dfcleaned\",\n  \"rows\": 727,\n  \"fields\": [\n    {\n      \"column\": \"open\",\n      \"properties\": {\n        \"dtype\": \"number\",\n        \"std\": 16.1035338133042,\n        \"min\": 0.8389684425,\n        \"max\": 79.52836962,\n        \"num_unique_values\": 727,\n        \"samples\": [\n          28.9563167953,\n          1.3157512367,\n          46.0596495217\n        ],\n        \"semantic_type\": \"\",\n        \"description\": \"\"\n      }\n    },\n    {\n      \"column\": \"high\",\n      \"properties\": {\n        \"dtype\": \"number\",\n        \"std\": 16.78796574913453,\n        \"min\": 0.853501666,\n        \"max\": 85.0168524,\n        \"num_unique_values\": 727,\n        \"samples\": [\n          29.0913360636,\n          1.3293454362,\n          46.5800480101\n        ],\n        \"semantic_type\": \"\",\n        \"description\": \"\"\n      }\n    },\n    {\n      \"column\": \"low\",\n      \"properties\": {\n        \"dtype\": \"number\",\n        \"std\": 15.450005209358025,\n        \"min\": 0.8266428992,\n        \"max\": 71.9259352,\n        \"num_unique_values\": 727,\n        \"samples\": [\n          26.603364667,\n          1.2819613781,\n          45.289783057\n        ],\n        \"semantic_type\": \"\",\n        \"description\": \"\"\n      }\n    },\n    {\n      \"column\": \"close\",\n      \"properties\": {\n        \"dtype\": \"number\",\n        \"std\": 16.110665264905244,\n        \"min\": 0.8390481756,\n        \"max\": 79.87131341,\n        \"num_unique_values\": 727,\n        \"samples\": [\n          26.9054856794,\n          1.2950926908,\n          46.4249926227\n        ],\n        \"semantic_type\": \"\",\n        \"description\": \"\"\n      }\n    },\n    {\n      \"column\": \"volume\",\n      \"properties\": {\n        \"dtype\": \"number\",\n        \"std\": 334134232.9378182,\n        \"min\": 2577834.83,\n        \"max\": 3919748072.71,\n        \"num_unique_values\": 727,\n        \"samples\": [\n          74761383.79,\n          6250101.62,\n          203763296.77\n        ],\n        \"semantic_type\": \"\",\n        \"description\": \"\"\n      }\n    },\n    {\n      \"column\": \"timestamp\",\n      \"properties\": {\n        \"dtype\": \"date\",\n        \"min\": \"2021-01-03 23:59:59.999000+00:00\",\n        \"max\": \"2022-12-31 23:59:59.999000+00:00\",\n        \"num_unique_values\": 727,\n        \"samples\": [\n          \"2022-06-01 23:59:59.999000+00:00\",\n          \"2022-11-28 23:59:59.999000+00:00\",\n          \"2022-01-16 23:59:59.999000+00:00\"\n        ],\n        \"semantic_type\": \"\",\n        \"description\": \"\"\n      }\n    },\n    {\n      \"column\": \"previousclose\",\n      \"properties\": {\n        \"dtype\": \"number\",\n        \"std\": 16.072557131742162,\n        \"min\": 0.8390481756,\n        \"max\": 79.87131341,\n        \"num_unique_values\": 726,\n        \"samples\": [\n          50.380489116,\n          27.0648543643,\n          30.66813045\n        ],\n        \"semantic_type\": \"\",\n        \"description\": \"\"\n      }\n    },\n    {\n      \"column\": \"close_change\",\n      \"properties\": {\n        \"dtype\": \"number\",\n        \"std\": 2.0939978001132444,\n        \"min\": -16.623292319,\n        \"max\": 16.67715586,\n        \"num_unique_values\": 726,\n        \"samples\": [\n          -2.967396823599998,\n          1.0648687619999997,\n          0.8173391949999989\n        ],\n        \"semantic_type\": \"\",\n        \"description\": \"\"\n      }\n    }\n  ]\n}"
            }
          },
          "metadata": {},
          "execution_count": 156
        }
      ]
    },
    {
      "cell_type": "markdown",
      "source": [
        "## 5. Identify Growth Days"
      ],
      "metadata": {
        "id": "KKg8d9RDyeDa"
      }
    },
    {
      "cell_type": "markdown",
      "source": [
        "Based on the daily change in closing prices calculated above, identify the top 10 days of positive growth for FTX.\n",
        "\n",
        "Display your results in a table showing both the rate of change and their dates."
      ],
      "metadata": {
        "id": "5kKBo3_sykGD"
      }
    },
    {
      "cell_type": "code",
      "source": [
        "#  Sorts the values by close_change by descending order, and puts the top 10 values in a dataframe\n",
        "growthsorted = dfcleaned.sort_values(by='close_change',ascending=False).head(10)\n",
        "\n",
        "# Converts the timestamp column from datetime format to just date for readability purposes\n",
        "growthsorted['date'] = growthsorted['timestamp'].dt.date\n",
        "growthsorted = growthsorted[['date','close_change']] # just selects the growth rate and date columns\n",
        "\n",
        "\n",
        "# Creates a table from the dataframe without showing the index\n",
        "from tabulate import tabulate\n",
        "print(\"Top 10 Days of Positive Growth for FTX: \")\n",
        "print(tabulate(growthsorted, headers='keys', tablefmt='psql', showindex=False))\n",
        "\n",
        "\n"
      ],
      "metadata": {
        "id": "xRlliRMY2_-c",
        "colab": {
          "base_uri": "https://localhost:8080/"
        },
        "outputId": "5619b0f4-19d4-4cff-ef14-1b29413ef235"
      },
      "execution_count": 157,
      "outputs": [
        {
          "output_type": "stream",
          "name": "stdout",
          "text": [
            "Top 10 Days of Positive Growth for FTX: \n",
            "+------------+----------------+\n",
            "| date       |   close_change |\n",
            "|------------+----------------|\n",
            "| 2021-09-01 |       16.6772  |\n",
            "| 2021-09-06 |        9.80032 |\n",
            "| 2021-02-19 |        8.3359  |\n",
            "| 2021-05-24 |        6.33392 |\n",
            "| 2021-03-09 |        5.5297  |\n",
            "| 2021-08-09 |        5.32519 |\n",
            "| 2021-09-08 |        5.23973 |\n",
            "| 2021-04-26 |        4.50439 |\n",
            "| 2021-05-05 |        4.48817 |\n",
            "| 2022-02-28 |        4.40184 |\n",
            "+------------+----------------+\n"
          ]
        }
      ]
    },
    {
      "cell_type": "markdown",
      "source": [
        "## 6. Calculate the Percentage Rate of Change"
      ],
      "metadata": {
        "id": "Y3AmR3eDxgfb"
      }
    },
    {
      "cell_type": "markdown",
      "source": [
        "Next, create a new column named `[\"rate_of_change\"]` based on `[\"close_change\"]`.\n",
        "\n",
        "Use the Pandas Review notebook for reference. Again, this is an easy operation in Pandas and does not require a for-loop."
      ],
      "metadata": {
        "id": "XK3yweENxjdn"
      }
    },
    {
      "cell_type": "code",
      "source": [
        "dfcleaned['rate_of_change']= dfcleaned['close_change']/dfcleaned['previousclose']\n"
      ],
      "metadata": {
        "id": "FqL5yyvi6w7r"
      },
      "execution_count": 158,
      "outputs": []
    },
    {
      "cell_type": "markdown",
      "source": [
        "## 7. Identify Days of Greatest Percentage Change"
      ],
      "metadata": {
        "id": "2ifRW8qU3OOB"
      }
    },
    {
      "cell_type": "markdown",
      "source": [
        "Based on the rate change column calculated above, identify the top 5 days of greatest positive rate change, and the top 5 days of greatest negative rate change.\n",
        "\n",
        "Display your results in a table showing both the rate of change and their dates."
      ],
      "metadata": {
        "id": "ISZf2C1j3bAA"
      }
    },
    {
      "cell_type": "code",
      "source": [
        "#creates a new dataset with no NA values, because there are some NA values for the rate of change column.\n",
        "dfnonas=dfcleaned.dropna()\n",
        "\n",
        "#  Sorts the values by rate_of_change in descending order, and puts the top 5 values in a dataframe\n",
        "toprates = dfnonas.sort_values(by='rate_of_change',ascending=False).head(5)\n",
        "#  same but opposite for bottom rates\n",
        "bottomrates= dfnonas.sort_values(by='rate_of_change',ascending=False).tail(5)\n",
        "\n",
        "# combine datasets\n",
        "growthratesorted = pd.concat([toprates,bottomrates],axis=0)\n",
        "\n",
        "# Converts the timestamp column from datetime format to just date for readability purposes\n",
        "growthratesorted['date'] = growthratesorted['timestamp'].dt.date\n",
        "\n",
        "growthratesorted = growthratesorted[['date','rate_of_change']] # just selects the growth rate and date columns\n",
        "\n",
        "\n",
        "# Creates a table from the dataframe without showing the index\n",
        "from tabulate import tabulate\n",
        "print(\"Top 5 Greatest Positive and Top 5 Negative Days of Rate Change for FTX (%): \")\n",
        "print(tabulate(growthratesorted, headers='keys', tablefmt='psql', showindex=False))"
      ],
      "metadata": {
        "id": "sGlUUWFxfS2w",
        "colab": {
          "base_uri": "https://localhost:8080/"
        },
        "outputId": "981bfd38-f5f0-4d94-d069-caff72eaefec"
      },
      "execution_count": 162,
      "outputs": [
        {
          "output_type": "stream",
          "name": "stdout",
          "text": [
            "Top 5 Greatest Positive and Top 5 Negative Days of Rate Change for FTX (%): \n",
            "+------------+------------------+\n",
            "| date       |   rate_of_change |\n",
            "|------------+------------------|\n",
            "| 2022-11-10 |         0.528686 |\n",
            "| 2021-09-01 |         0.343825 |\n",
            "| 2021-02-19 |         0.317665 |\n",
            "| 2022-12-09 |         0.246848 |\n",
            "| 2022-11-15 |         0.244886 |\n",
            "| 2022-11-11 |        -0.263444 |\n",
            "| 2021-05-19 |        -0.275101 |\n",
            "| 2022-11-13 |        -0.287059 |\n",
            "| 2022-11-09 |        -0.583137 |\n",
            "| 2022-11-08 |        -0.750752 |\n",
            "+------------+------------------+\n"
          ]
        }
      ]
    },
    {
      "cell_type": "markdown",
      "source": [
        "## 8. Plot the Data"
      ],
      "metadata": {
        "id": "2B9dxJbno0s0"
      }
    },
    {
      "cell_type": "markdown",
      "source": [
        "Create two separate plots of the data -- one for the daily closing price and one for the daily gains/losses. These can be histograms or line plots."
      ],
      "metadata": {
        "id": "LwMrL6-AplCH"
      }
    },
    {
      "cell_type": "code",
      "source": [
        "import matplotlib.pyplot as plt\n",
        "import seaborn as sns\n",
        "\n",
        "# Plot for daily closing prices\n",
        "plt.plot(dfcleaned.timestamp, dfcleaned.close_change,' ')\n",
        "\n",
        "\n",
        "plt.fill_between(dfcleaned.timestamp, dfcleaned.close,  facecolor='r', alpha=.6)\n",
        "\n",
        "plt.title(\"Daily FTX Closing Prices\")\n",
        "plt.xticks(rotation=45)\n",
        "plt.ylim(bottom=0)\n",
        "plt.ylabel('Price')\n",
        "plt.xlabel('Date')\n",
        "plt.show()\n",
        "\n",
        "\n",
        "# Plot for daily gains/losses\n",
        "plt.plot(dfcleaned.timestamp, dfcleaned.close_change,color = 'black')\n",
        "plt.title('Line Plot of Daily Gains/Losses')\n",
        "plt.xlabel('Date')\n",
        "plt.ylabel('Gains/Losses')\n",
        "plt.xticks(rotation=45)\n",
        "\n",
        "plt.show()"
      ],
      "metadata": {
        "id": "R0vq1cLRB0Kl",
        "colab": {
          "base_uri": "https://localhost:8080/",
          "height": 999
        },
        "outputId": "12086c44-1d4f-46b8-8bf6-cf0bbf83f0e9"
      },
      "execution_count": 125,
      "outputs": [
        {
          "output_type": "display_data",
          "data": {
            "text/plain": [
              "<Figure size 640x480 with 1 Axes>"
            ],
            "image/png": "[encoded data removed]"
          },
          "metadata": {}
        },
        {
          "output_type": "display_data",
          "data": {
            "text/plain": [
              "<Figure size 640x480 with 1 Axes>"
            ],
            "image/png": "[encoded data removed]"
          },
          "metadata": {}
        }
      ]
    },
    {
      "cell_type": "markdown",
      "source": [
        "Combine the two plots from above into a single plot, displaying both together. Your plot should have two Y-axis scales, should differentiate the two values by color, and should include a legend."
      ],
      "metadata": {
        "id": "xRT2iFAI5s4S"
      }
    },
    {
      "cell_type": "code",
      "source": [
        "import numpy as np\n",
        "import matplotlib.pyplot as plt\n",
        "\n",
        "dfplot=dfcleaned.copy()\n",
        "# Turns the timestamp into date format\n",
        "dfplot['timestamp']=dfplot['timestamp'].dt.date\n",
        "\n",
        "fig, ax1 = plt.subplots()\n",
        "# Creates a new color for each graph, and graphs them along the same x-axis\n",
        "color = 'tab:red'\n",
        "ax1.set_xlabel('Date')\n",
        "ax1.set_ylabel('Daily Gains/Losses', color=color)\n",
        "ax1.plot(dfplot.timestamp, dfplot.close_change, color=color,label='Daily Gains/Losses')\n",
        "ax1.tick_params(axis='y', labelcolor=color)\n",
        "ax1.set_xticklabels(dfplot.timestamp, rotation=45, ha='right')\n",
        "ax1.legend(loc='upper left') # Adds a legend\n",
        "ax2 = ax1.twinx()\n",
        "\n",
        "# Sets title\n",
        "ax1.set_title('Daily Gains/Losses and Closing Prices By Date')\n",
        "\n",
        "color = 'tab:blue'\n",
        "ax2.set_ylabel('Daily Closing Price', color=color)  # we already handled the x-label with ax1\n",
        "ax2.plot(dfplot.timestamp, dfplot.close, color=color,label='Daily Closing Price')\n",
        "ax2.tick_params(axis='y', labelcolor=color)\n",
        "ax2.legend(loc='upper right') # Adds a legend\n",
        "\n",
        "plt.show()"
      ],
      "metadata": {
        "id": "epypcCLc6QxL",
        "colab": {
          "base_uri": "https://localhost:8080/",
          "height": 560
        },
        "outputId": "c00f53f8-5e33-4cc6-92af-c7ac55e3476d"
      },
      "execution_count": 168,
      "outputs": [
        {
          "output_type": "stream",
          "name": "stderr",
          "text": [
            "<ipython-input-168-43091c1a7d51>:15: UserWarning: FixedFormatter should only be used together with FixedLocator\n",
            "  ax1.set_xticklabels(dfplot.timestamp, rotation=45, ha='right')\n"
          ]
        },
        {
          "output_type": "display_data",
          "data": {
            "text/plain": [
              "<Figure size 640x480 with 2 Axes>"
            ],
            "image/png": "[encoded data removed]"
          },
          "metadata": {}
        }
      ]
    }
  ]
}