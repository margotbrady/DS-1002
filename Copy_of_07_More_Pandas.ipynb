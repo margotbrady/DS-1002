{
  "nbformat": 4,
  "nbformat_minor": 0,
  "metadata": {
    "colab": {
      "provenance": [],
      "include_colab_link": true
    },
    "kernelspec": {
      "name": "python3",
      "display_name": "Python 3"
    },
    "language_info": {
      "name": "python"
    }
  },
  "cells": [
    {
      "cell_type": "markdown",
      "metadata": {
        "id": "view-in-github",
        "colab_type": "text"
      },
      "source": [
        "<a href=\"https://colab.research.google.com/github/margotbrady/DS-1002/blob/main/Copy_of_07_More_Pandas.ipynb\" target=\"_parent\"><img src=\"https://colab.research.google.com/assets/colab-badge.svg\" alt=\"Open In Colab\"/></a>"
      ]
    },
    {
      "cell_type": "markdown",
      "source": [
        "# More pandas exercises\n",
        "\n",
        "Create a Colab notebook. Complete the tasks as specified in the directions. Run each cell to return the desired output. Save your notebook back to your GitHub repository and submit the GitHub URL for your notebook for review."
      ],
      "metadata": {
        "id": "phbaQTT5gy8A"
      }
    },
    {
      "cell_type": "markdown",
      "source": [
        "1.  Load the following dataset into Colab and perform the requested operations in code.\n",
        "\n",
        " Source: https://ds1002-resources.s3.amazonaws.com/data/ride_sharing.csv"
      ],
      "metadata": {
        "id": "WlPHuSLARJBJ"
      }
    },
    {
      "cell_type": "code",
      "source": [
        "# Load pandas and the data\n",
        "import pandas as pd\n",
        "import numpy as np\n",
        "data = pd.read_csv('https://ds1002-resources.s3.amazonaws.com/data/ride_sharing.csv')"
      ],
      "metadata": {
        "id": "kdFLCHtOg53p"
      },
      "execution_count": 50,
      "outputs": []
    },
    {
      "cell_type": "code",
      "source": [
        "# show how many rows and columns are in this dataset\n",
        "data.shape"
      ],
      "metadata": {
        "id": "Lfh8suAyhKQW",
        "outputId": "9a30e319-f79c-4aad-9713-4b90604dd49f",
        "colab": {
          "base_uri": "https://localhost:8080/"
        }
      },
      "execution_count": 67,
      "outputs": [
        {
          "output_type": "execute_result",
          "data": {
            "text/plain": [
              "(25760, 10)"
            ]
          },
          "metadata": {},
          "execution_count": 67
        }
      ]
    },
    {
      "cell_type": "code",
      "source": [
        "# The first column, \"duration\" is seen as a string.\n",
        "# Using two snippets of code, clean this column up so that\n",
        "# is now an integer (int64)\n",
        "data['duration'] = data['duration'].str.strip(' minutes')\n",
        "data['duration'] = data['duration'].astype('int')"
      ],
      "metadata": {
        "id": "KK5-y9nzhMVq"
      },
      "execution_count": 52,
      "outputs": []
    },
    {
      "cell_type": "code",
      "source": [
        "# Now display the datatypes in the updated dataframe\n",
        "data.dtypes"
      ],
      "metadata": {
        "id": "QyGJUshvhz1J",
        "outputId": "6570a89e-4713-4c46-89eb-d602fea294ed",
        "colab": {
          "base_uri": "https://localhost:8080/"
        }
      },
      "execution_count": 53,
      "outputs": [
        {
          "output_type": "execute_result",
          "data": {
            "text/plain": [
              "duration            int64\n",
              "station_A_id        int64\n",
              "station_A_name     object\n",
              "station_B_id        int64\n",
              "station_B_name     object\n",
              "bike_id             int64\n",
              "user_type           int64\n",
              "user_birth_year     int64\n",
              "user_gender        object\n",
              "tire_size           int64\n",
              "dtype: object"
            ]
          },
          "metadata": {},
          "execution_count": 53
        }
      ]
    },
    {
      "cell_type": "code",
      "source": [
        "# Show the min and max values of ride durations (the shortest and longest rides)\n",
        "# Hint: If 'df' is the name of your dataframe, simply specify the column name\n",
        "# and then append the .min() or .max() methods.\n",
        "print(\"The minimum ride duration is \" + str(data.duration.min())+\" minute(s).\")\n",
        "print(\"The maximum ride duration is \" + str(data.duration.max())+\" minutes.\")"
      ],
      "metadata": {
        "id": "UCA1OswWh5b5",
        "outputId": "83983bb1-4bc3-4ccc-d905-62d04b338c67",
        "colab": {
          "base_uri": "https://localhost:8080/"
        }
      },
      "execution_count": 54,
      "outputs": [
        {
          "output_type": "stream",
          "name": "stdout",
          "text": [
            "The minimum ride duration is 1 minute(s).\n",
            "The maximum ride duration is 1372 minutes.\n"
          ]
        }
      ]
    },
    {
      "cell_type": "code",
      "source": [
        "# Create a new dataframe object and populate it with rides that are 60 minutes or less.\n",
        "# Hint: Use the .query() method for the dataframe that we used in class.\n",
        "df2=data.query('duration<=60')"
      ],
      "metadata": {
        "id": "K7mStv5kibbA"
      },
      "execution_count": 55,
      "outputs": []
    },
    {
      "cell_type": "code",
      "source": [
        "# Now show both the min and max values of the duration column for your new dataset.\n",
        "print(\"The minimum ride duration is \" + str(df2.duration.min())+\" minute(s).\")\n",
        "print(\"The maximum ride duration is \" + str(df2.duration.max())+\" minutes.\")"
      ],
      "metadata": {
        "id": "v63UdQjNi-w5",
        "outputId": "d7320ef6-a2ac-4045-bd28-54a897e4d76d",
        "colab": {
          "base_uri": "https://localhost:8080/"
        }
      },
      "execution_count": 56,
      "outputs": [
        {
          "output_type": "stream",
          "name": "stdout",
          "text": [
            "The minimum ride duration is 1 minute(s).\n",
            "The maximum ride duration is 60 minutes.\n"
          ]
        }
      ]
    },
    {
      "cell_type": "code",
      "source": [
        "# Using the new dataframe, update it so that is ONLY has records where\n",
        "# the tire_size is 26.\n",
        "df2 = df2.query('tire_size==26')\n",
        "df2.head(10)"
      ],
      "metadata": {
        "id": "xTzb_j9rjGk2",
        "outputId": "ffa489dc-4438-4887-d52a-91f339b9746e",
        "colab": {
          "base_uri": "https://localhost:8080/",
          "height": 502
        }
      },
      "execution_count": 57,
      "outputs": [
        {
          "output_type": "execute_result",
          "data": {
            "text/plain": [
              "    duration  station_A_id                                     station_A_name  \\\n",
              "0         12            81                                 Berry St at 4th St   \n",
              "3          4            16                            Steuart St at Market St   \n",
              "6         16            67  San Francisco Caltrain Station 2  (Townsend St...   \n",
              "9          5            30     San Francisco Caltrain (Townsend St at 4th St)   \n",
              "12         7             3       Powell St BART Station (Market St at 4th St)   \n",
              "15         4             3       Powell St BART Station (Market St at 4th St)   \n",
              "18        16            16                            Steuart St at Market St   \n",
              "21        11            67  San Francisco Caltrain Station 2  (Townsend St...   \n",
              "24        11             3       Powell St BART Station (Market St at 4th St)   \n",
              "27         7             3       Powell St BART Station (Market St at 4th St)   \n",
              "\n",
              "    station_B_id                                 station_B_name  bike_id  \\\n",
              "0            323                             Broadway at Kearny     5480   \n",
              "3             28                   The Embarcadero at Bryant St     1883   \n",
              "6            107                          17th St at Dolores St     1035   \n",
              "9             62                    Victoria Manalo Draves Park      333   \n",
              "12            27                        Beale St at Harrison St     1863   \n",
              "15           321                               5th St at Folsom     1606   \n",
              "18            42  San Francisco City Hall (Polk St at Grove St)     5000   \n",
              "21           364                       China Basin St at 3rd St     5055   \n",
              "24           109                         17th St at Valencia St     4980   \n",
              "27            61                            Howard St at 8th St     2459   \n",
              "\n",
              "    user_type  user_birth_year user_gender  tire_size  \n",
              "0           2             1959        Male         26  \n",
              "3           1             1979        Male         26  \n",
              "6           2             1981        Male         26  \n",
              "9           1             1994        Male         26  \n",
              "12          3             1998        Male         26  \n",
              "15          2             1995        Male         26  \n",
              "18          2             2000      Female         26  \n",
              "21          3             1986        Male         26  \n",
              "24          1             1980        Male         26  \n",
              "27          2             1977        Male         26  "
            ],
            "text/html": [
              "\n",
              "  <div id=\"df-a1d16f36-f173-468e-9b33-6706b2d5ac92\" class=\"colab-df-container\">\n",
              "    <div>\n",
              "<style scoped>\n",
              "    .dataframe tbody tr th:only-of-type {\n",
              "        vertical-align: middle;\n",
              "    }\n",
              "\n",
              "    .dataframe tbody tr th {\n",
              "        vertical-align: top;\n",
              "    }\n",
              "\n",
              "    .dataframe thead th {\n",
              "        text-align: right;\n",
              "    }\n",
              "</style>\n",
              "<table border=\"1\" class=\"dataframe\">\n",
              "  <thead>\n",
              "    <tr style=\"text-align: right;\">\n",
              "      <th></th>\n",
              "      <th>duration</th>\n",
              "      <th>station_A_id</th>\n",
              "      <th>station_A_name</th>\n",
              "      <th>station_B_id</th>\n",
              "      <th>station_B_name</th>\n",
              "      <th>bike_id</th>\n",
              "      <th>user_type</th>\n",
              "      <th>user_birth_year</th>\n",
              "      <th>user_gender</th>\n",
              "      <th>tire_size</th>\n",
              "    </tr>\n",
              "  </thead>\n",
              "  <tbody>\n",
              "    <tr>\n",
              "      <th>0</th>\n",
              "      <td>12</td>\n",
              "      <td>81</td>\n",
              "      <td>Berry St at 4th St</td>\n",
              "      <td>323</td>\n",
              "      <td>Broadway at Kearny</td>\n",
              "      <td>5480</td>\n",
              "      <td>2</td>\n",
              "      <td>1959</td>\n",
              "      <td>Male</td>\n",
              "      <td>26</td>\n",
              "    </tr>\n",
              "    <tr>\n",
              "      <th>3</th>\n",
              "      <td>4</td>\n",
              "      <td>16</td>\n",
              "      <td>Steuart St at Market St</td>\n",
              "      <td>28</td>\n",
              "      <td>The Embarcadero at Bryant St</td>\n",
              "      <td>1883</td>\n",
              "      <td>1</td>\n",
              "      <td>1979</td>\n",
              "      <td>Male</td>\n",
              "      <td>26</td>\n",
              "    </tr>\n",
              "    <tr>\n",
              "      <th>6</th>\n",
              "      <td>16</td>\n",
              "      <td>67</td>\n",
              "      <td>San Francisco Caltrain Station 2  (Townsend St...</td>\n",
              "      <td>107</td>\n",
              "      <td>17th St at Dolores St</td>\n",
              "      <td>1035</td>\n",
              "      <td>2</td>\n",
              "      <td>1981</td>\n",
              "      <td>Male</td>\n",
              "      <td>26</td>\n",
              "    </tr>\n",
              "    <tr>\n",
              "      <th>9</th>\n",
              "      <td>5</td>\n",
              "      <td>30</td>\n",
              "      <td>San Francisco Caltrain (Townsend St at 4th St)</td>\n",
              "      <td>62</td>\n",
              "      <td>Victoria Manalo Draves Park</td>\n",
              "      <td>333</td>\n",
              "      <td>1</td>\n",
              "      <td>1994</td>\n",
              "      <td>Male</td>\n",
              "      <td>26</td>\n",
              "    </tr>\n",
              "    <tr>\n",
              "      <th>12</th>\n",
              "      <td>7</td>\n",
              "      <td>3</td>\n",
              "      <td>Powell St BART Station (Market St at 4th St)</td>\n",
              "      <td>27</td>\n",
              "      <td>Beale St at Harrison St</td>\n",
              "      <td>1863</td>\n",
              "      <td>3</td>\n",
              "      <td>1998</td>\n",
              "      <td>Male</td>\n",
              "      <td>26</td>\n",
              "    </tr>\n",
              "    <tr>\n",
              "      <th>15</th>\n",
              "      <td>4</td>\n",
              "      <td>3</td>\n",
              "      <td>Powell St BART Station (Market St at 4th St)</td>\n",
              "      <td>321</td>\n",
              "      <td>5th St at Folsom</td>\n",
              "      <td>1606</td>\n",
              "      <td>2</td>\n",
              "      <td>1995</td>\n",
              "      <td>Male</td>\n",
              "      <td>26</td>\n",
              "    </tr>\n",
              "    <tr>\n",
              "      <th>18</th>\n",
              "      <td>16</td>\n",
              "      <td>16</td>\n",
              "      <td>Steuart St at Market St</td>\n",
              "      <td>42</td>\n",
              "      <td>San Francisco City Hall (Polk St at Grove St)</td>\n",
              "      <td>5000</td>\n",
              "      <td>2</td>\n",
              "      <td>2000</td>\n",
              "      <td>Female</td>\n",
              "      <td>26</td>\n",
              "    </tr>\n",
              "    <tr>\n",
              "      <th>21</th>\n",
              "      <td>11</td>\n",
              "      <td>67</td>\n",
              "      <td>San Francisco Caltrain Station 2  (Townsend St...</td>\n",
              "      <td>364</td>\n",
              "      <td>China Basin St at 3rd St</td>\n",
              "      <td>5055</td>\n",
              "      <td>3</td>\n",
              "      <td>1986</td>\n",
              "      <td>Male</td>\n",
              "      <td>26</td>\n",
              "    </tr>\n",
              "    <tr>\n",
              "      <th>24</th>\n",
              "      <td>11</td>\n",
              "      <td>3</td>\n",
              "      <td>Powell St BART Station (Market St at 4th St)</td>\n",
              "      <td>109</td>\n",
              "      <td>17th St at Valencia St</td>\n",
              "      <td>4980</td>\n",
              "      <td>1</td>\n",
              "      <td>1980</td>\n",
              "      <td>Male</td>\n",
              "      <td>26</td>\n",
              "    </tr>\n",
              "    <tr>\n",
              "      <th>27</th>\n",
              "      <td>7</td>\n",
              "      <td>3</td>\n",
              "      <td>Powell St BART Station (Market St at 4th St)</td>\n",
              "      <td>61</td>\n",
              "      <td>Howard St at 8th St</td>\n",
              "      <td>2459</td>\n",
              "      <td>2</td>\n",
              "      <td>1977</td>\n",
              "      <td>Male</td>\n",
              "      <td>26</td>\n",
              "    </tr>\n",
              "  </tbody>\n",
              "</table>\n",
              "</div>\n",
              "    <div class=\"colab-df-buttons\">\n",
              "\n",
              "  <div class=\"colab-df-container\">\n",
              "    <button class=\"colab-df-convert\" onclick=\"convertToInteractive('df-a1d16f36-f173-468e-9b33-6706b2d5ac92')\"\n",
              "            title=\"Convert this dataframe to an interactive table.\"\n",
              "            style=\"display:none;\">\n",
              "\n",
              "  <svg xmlns=\"http://www.w3.org/2000/svg\" height=\"24px\" viewBox=\"0 -960 960 960\">\n",
              "    <path d=\"M120-120v-720h720v720H120Zm60-500h600v-160H180v160Zm220 220h160v-160H400v160Zm0 220h160v-160H400v160ZM180-400h160v-160H180v160Zm440 0h160v-160H620v160ZM180-180h160v-160H180v160Zm440 0h160v-160H620v160Z\"/>\n",
              "  </svg>\n",
              "    </button>\n",
              "\n",
              "  <style>\n",
              "    .colab-df-container {\n",
              "      display:flex;\n",
              "      gap: 12px;\n",
              "    }\n",
              "\n",
              "    .colab-df-convert {\n",
              "      background-color: #E8F0FE;\n",
              "      border: none;\n",
              "      border-radius: 50%;\n",
              "      cursor: pointer;\n",
              "      display: none;\n",
              "      fill: #1967D2;\n",
              "      height: 32px;\n",
              "      padding: 0 0 0 0;\n",
              "      width: 32px;\n",
              "    }\n",
              "\n",
              "    .colab-df-convert:hover {\n",
              "      background-color: #E2EBFA;\n",
              "      box-shadow: 0px 1px 2px rgba(60, 64, 67, 0.3), 0px 1px 3px 1px rgba(60, 64, 67, 0.15);\n",
              "      fill: #174EA6;\n",
              "    }\n",
              "\n",
              "    .colab-df-buttons div {\n",
              "      margin-bottom: 4px;\n",
              "    }\n",
              "\n",
              "    [theme=dark] .colab-df-convert {\n",
              "      background-color: #3B4455;\n",
              "      fill: #D2E3FC;\n",
              "    }\n",
              "\n",
              "    [theme=dark] .colab-df-convert:hover {\n",
              "      background-color: #434B5C;\n",
              "      box-shadow: 0px 1px 3px 1px rgba(0, 0, 0, 0.15);\n",
              "      filter: drop-shadow(0px 1px 2px rgba(0, 0, 0, 0.3));\n",
              "      fill: #FFFFFF;\n",
              "    }\n",
              "  </style>\n",
              "\n",
              "    <script>\n",
              "      const buttonEl =\n",
              "        document.querySelector('#df-a1d16f36-f173-468e-9b33-6706b2d5ac92 button.colab-df-convert');\n",
              "      buttonEl.style.display =\n",
              "        google.colab.kernel.accessAllowed ? 'block' : 'none';\n",
              "\n",
              "      async function convertToInteractive(key) {\n",
              "        const element = document.querySelector('#df-a1d16f36-f173-468e-9b33-6706b2d5ac92');\n",
              "        const dataTable =\n",
              "          await google.colab.kernel.invokeFunction('convertToInteractive',\n",
              "                                                    [key], {});\n",
              "        if (!dataTable) return;\n",
              "\n",
              "        const docLinkHtml = 'Like what you see? Visit the ' +\n",
              "          '<a target=\"_blank\" href=https://colab.research.google.com/notebooks/data_table.ipynb>data table notebook</a>'\n",
              "          + ' to learn more about interactive tables.';\n",
              "        element.innerHTML = '';\n",
              "        dataTable['output_type'] = 'display_data';\n",
              "        await google.colab.output.renderOutput(dataTable, element);\n",
              "        const docLink = document.createElement('div');\n",
              "        docLink.innerHTML = docLinkHtml;\n",
              "        element.appendChild(docLink);\n",
              "      }\n",
              "    </script>\n",
              "  </div>\n",
              "\n",
              "\n",
              "<div id=\"df-657ac52b-ad2e-4ab6-939f-9110397a0163\">\n",
              "  <button class=\"colab-df-quickchart\" onclick=\"quickchart('df-657ac52b-ad2e-4ab6-939f-9110397a0163')\"\n",
              "            title=\"Suggest charts\"\n",
              "            style=\"display:none;\">\n",
              "\n",
              "<svg xmlns=\"http://www.w3.org/2000/svg\" height=\"24px\"viewBox=\"0 0 24 24\"\n",
              "     width=\"24px\">\n",
              "    <g>\n",
              "        <path d=\"M19 3H5c-1.1 0-2 .9-2 2v14c0 1.1.9 2 2 2h14c1.1 0 2-.9 2-2V5c0-1.1-.9-2-2-2zM9 17H7v-7h2v7zm4 0h-2V7h2v10zm4 0h-2v-4h2v4z\"/>\n",
              "    </g>\n",
              "</svg>\n",
              "  </button>\n",
              "\n",
              "<style>\n",
              "  .colab-df-quickchart {\n",
              "      --bg-color: #E8F0FE;\n",
              "      --fill-color: #1967D2;\n",
              "      --hover-bg-color: #E2EBFA;\n",
              "      --hover-fill-color: #174EA6;\n",
              "      --disabled-fill-color: #AAA;\n",
              "      --disabled-bg-color: #DDD;\n",
              "  }\n",
              "\n",
              "  [theme=dark] .colab-df-quickchart {\n",
              "      --bg-color: #3B4455;\n",
              "      --fill-color: #D2E3FC;\n",
              "      --hover-bg-color: #434B5C;\n",
              "      --hover-fill-color: #FFFFFF;\n",
              "      --disabled-bg-color: #3B4455;\n",
              "      --disabled-fill-color: #666;\n",
              "  }\n",
              "\n",
              "  .colab-df-quickchart {\n",
              "    background-color: var(--bg-color);\n",
              "    border: none;\n",
              "    border-radius: 50%;\n",
              "    cursor: pointer;\n",
              "    display: none;\n",
              "    fill: var(--fill-color);\n",
              "    height: 32px;\n",
              "    padding: 0;\n",
              "    width: 32px;\n",
              "  }\n",
              "\n",
              "  .colab-df-quickchart:hover {\n",
              "    background-color: var(--hover-bg-color);\n",
              "    box-shadow: 0 1px 2px rgba(60, 64, 67, 0.3), 0 1px 3px 1px rgba(60, 64, 67, 0.15);\n",
              "    fill: var(--button-hover-fill-color);\n",
              "  }\n",
              "\n",
              "  .colab-df-quickchart-complete:disabled,\n",
              "  .colab-df-quickchart-complete:disabled:hover {\n",
              "    background-color: var(--disabled-bg-color);\n",
              "    fill: var(--disabled-fill-color);\n",
              "    box-shadow: none;\n",
              "  }\n",
              "\n",
              "  .colab-df-spinner {\n",
              "    border: 2px solid var(--fill-color);\n",
              "    border-color: transparent;\n",
              "    border-bottom-color: var(--fill-color);\n",
              "    animation:\n",
              "      spin 1s steps(1) infinite;\n",
              "  }\n",
              "\n",
              "  @keyframes spin {\n",
              "    0% {\n",
              "      border-color: transparent;\n",
              "      border-bottom-color: var(--fill-color);\n",
              "      border-left-color: var(--fill-color);\n",
              "    }\n",
              "    20% {\n",
              "      border-color: transparent;\n",
              "      border-left-color: var(--fill-color);\n",
              "      border-top-color: var(--fill-color);\n",
              "    }\n",
              "    30% {\n",
              "      border-color: transparent;\n",
              "      border-left-color: var(--fill-color);\n",
              "      border-top-color: var(--fill-color);\n",
              "      border-right-color: var(--fill-color);\n",
              "    }\n",
              "    40% {\n",
              "      border-color: transparent;\n",
              "      border-right-color: var(--fill-color);\n",
              "      border-top-color: var(--fill-color);\n",
              "    }\n",
              "    60% {\n",
              "      border-color: transparent;\n",
              "      border-right-color: var(--fill-color);\n",
              "    }\n",
              "    80% {\n",
              "      border-color: transparent;\n",
              "      border-right-color: var(--fill-color);\n",
              "      border-bottom-color: var(--fill-color);\n",
              "    }\n",
              "    90% {\n",
              "      border-color: transparent;\n",
              "      border-bottom-color: var(--fill-color);\n",
              "    }\n",
              "  }\n",
              "</style>\n",
              "\n",
              "  <script>\n",
              "    async function quickchart(key) {\n",
              "      const quickchartButtonEl =\n",
              "        document.querySelector('#' + key + ' button');\n",
              "      quickchartButtonEl.disabled = true;  // To prevent multiple clicks.\n",
              "      quickchartButtonEl.classList.add('colab-df-spinner');\n",
              "      try {\n",
              "        const charts = await google.colab.kernel.invokeFunction(\n",
              "            'suggestCharts', [key], {});\n",
              "      } catch (error) {\n",
              "        console.error('Error during call to suggestCharts:', error);\n",
              "      }\n",
              "      quickchartButtonEl.classList.remove('colab-df-spinner');\n",
              "      quickchartButtonEl.classList.add('colab-df-quickchart-complete');\n",
              "    }\n",
              "    (() => {\n",
              "      let quickchartButtonEl =\n",
              "        document.querySelector('#df-657ac52b-ad2e-4ab6-939f-9110397a0163 button');\n",
              "      quickchartButtonEl.style.display =\n",
              "        google.colab.kernel.accessAllowed ? 'block' : 'none';\n",
              "    })();\n",
              "  </script>\n",
              "</div>\n",
              "\n",
              "    </div>\n",
              "  </div>\n"
            ],
            "application/vnd.google.colaboratory.intrinsic+json": {
              "type": "dataframe",
              "variable_name": "df2",
              "summary": "{\n  \"name\": \"df2\",\n  \"rows\": 12761,\n  \"fields\": [\n    {\n      \"column\": \"duration\",\n      \"properties\": {\n        \"dtype\": \"number\",\n        \"std\": 6,\n        \"min\": 1,\n        \"max\": 60,\n        \"num_unique_values\": 60,\n        \"samples\": [\n          12,\n          11,\n          27\n        ],\n        \"semantic_type\": \"\",\n        \"description\": \"\"\n      }\n    },\n    {\n      \"column\": \"station_A_id\",\n      \"properties\": {\n        \"dtype\": \"number\",\n        \"std\": 26,\n        \"min\": 3,\n        \"max\": 81,\n        \"num_unique_values\": 9,\n        \"samples\": [\n          22,\n          16,\n          15\n        ],\n        \"semantic_type\": \"\",\n        \"description\": \"\"\n      }\n    },\n    {\n      \"column\": \"station_A_name\",\n      \"properties\": {\n        \"dtype\": \"category\",\n        \"num_unique_values\": 9,\n        \"samples\": [\n          \"Howard St at Beale St\",\n          \"Steuart St at Market St\",\n          \"San Francisco Ferry Building (Harry Bridges Plaza)\"\n        ],\n        \"semantic_type\": \"\",\n        \"description\": \"\"\n      }\n    },\n    {\n      \"column\": \"station_B_id\",\n      \"properties\": {\n        \"dtype\": \"number\",\n        \"std\": 103,\n        \"min\": 3,\n        \"max\": 383,\n        \"num_unique_values\": 152,\n        \"samples\": [\n          324,\n          108,\n          73\n        ],\n        \"semantic_type\": \"\",\n        \"description\": \"\"\n      }\n    },\n    {\n      \"column\": \"station_B_name\",\n      \"properties\": {\n        \"dtype\": \"category\",\n        \"num_unique_values\": 152,\n        \"samples\": [\n          \"Union Square (Powell St at Post St)\",\n          \"16th St Mission BART\",\n          \"Pierce St at Haight St\"\n        ],\n        \"semantic_type\": \"\",\n        \"description\": \"\"\n      }\n    },\n    {\n      \"column\": \"bike_id\",\n      \"properties\": {\n        \"dtype\": \"number\",\n        \"std\": 1580,\n        \"min\": 11,\n        \"max\": 6638,\n        \"num_unique_values\": 1744,\n        \"samples\": [\n          5392,\n          4927,\n          183\n        ],\n        \"semantic_type\": \"\",\n        \"description\": \"\"\n      }\n    },\n    {\n      \"column\": \"user_type\",\n      \"properties\": {\n        \"dtype\": \"number\",\n        \"std\": 0,\n        \"min\": 1,\n        \"max\": 3,\n        \"num_unique_values\": 3,\n        \"samples\": [\n          2,\n          1,\n          3\n        ],\n        \"semantic_type\": \"\",\n        \"description\": \"\"\n      }\n    },\n    {\n      \"column\": \"user_birth_year\",\n      \"properties\": {\n        \"dtype\": \"number\",\n        \"std\": 9,\n        \"min\": 1902,\n        \"max\": 2001,\n        \"num_unique_values\": 61,\n        \"samples\": [\n          1959,\n          1995,\n          1945\n        ],\n        \"semantic_type\": \"\",\n        \"description\": \"\"\n      }\n    },\n    {\n      \"column\": \"user_gender\",\n      \"properties\": {\n        \"dtype\": \"category\",\n        \"num_unique_values\": 3,\n        \"samples\": [\n          \"Male\",\n          \"Female\",\n          \"Other\"\n        ],\n        \"semantic_type\": \"\",\n        \"description\": \"\"\n      }\n    },\n    {\n      \"column\": \"tire_size\",\n      \"properties\": {\n        \"dtype\": \"number\",\n        \"std\": 0,\n        \"min\": 26,\n        \"max\": 26,\n        \"num_unique_values\": 1,\n        \"samples\": [\n          26\n        ],\n        \"semantic_type\": \"\",\n        \"description\": \"\"\n      }\n    }\n  ]\n}"
            }
          },
          "metadata": {},
          "execution_count": 57
        }
      ]
    },
    {
      "cell_type": "code",
      "source": [
        "# Finally, produce a count of all records with FEMALE riders\n",
        "# using the 26-inch wheeled rental bikes for their rentals of\n",
        "# one hour or less.\n",
        "\n",
        "print(\"There are \" + str(len(df2.query('user_gender == \"Female\"'))) +\" female riders who used the 26-inch wheeled rental bikes for their rentals of one hour or less.\")"
      ],
      "metadata": {
        "id": "0cwbfj66jrG9",
        "outputId": "3abc1420-d84e-4000-df0e-6c23b8bd8ebd",
        "colab": {
          "base_uri": "https://localhost:8080/"
        }
      },
      "execution_count": 58,
      "outputs": [
        {
          "output_type": "stream",
          "name": "stdout",
          "text": [
            "There are 2962 female riders who used the 26-inch wheeled rental bikes for their rentals of one hour or less.\n"
          ]
        }
      ]
    },
    {
      "cell_type": "markdown",
      "source": [
        "2. Find the file `more-messy-data.csv` on GitHub and upload it into Google Colab.\n",
        "\n",
        "Create a new Pandas DataFrame from that data and perform the following steps."
      ],
      "metadata": {
        "id": "YIlxzTRQSrl3"
      }
    },
    {
      "cell_type": "code",
      "source": [
        "# Reads the data\n",
        "messydat = pd.read_csv('./more-messy-data.csv')\n",
        "# counts duplicate rows\n",
        "print(str(messydat.duplicated().sum())+\" duplicate rows.\")"
      ],
      "metadata": {
        "id": "6O1caoy6S82Q",
        "colab": {
          "base_uri": "https://localhost:8080/"
        },
        "outputId": "15fbd442-5112-40cc-d2df-ca3b569c2dd8"
      },
      "execution_count": 59,
      "outputs": [
        {
          "output_type": "stream",
          "name": "stdout",
          "text": [
            "287 duplicate rows.\n"
          ]
        }
      ]
    },
    {
      "cell_type": "code",
      "source": [
        "# Removes all duplicates\n",
        "messydat = messydat.drop_duplicates()"
      ],
      "metadata": {
        "id": "-pDZ2xA-S8vd"
      },
      "execution_count": 60,
      "outputs": []
    },
    {
      "cell_type": "code",
      "source": [
        "# Makes a copy in case I need to go back\n",
        "messydatfilled = messydat.copy()\n",
        "# Refers to all rows, but only the numeric columns regarding sepal and petal length and width, and fills the NAs with those means\n",
        "messydatfilled.iloc[:,0:5]= messydatfilled.iloc[:,0:5].fillna(messydat.iloc[:,0:5].mean())"
      ],
      "metadata": {
        "id": "Quf-P7L4S8oh",
        "colab": {
          "base_uri": "https://localhost:8080/"
        },
        "outputId": "54ddebce-fe26-4413-ca28-0c2c4da49bbf"
      },
      "execution_count": 61,
      "outputs": [
        {
          "output_type": "stream",
          "name": "stderr",
          "text": [
            "<ipython-input-61-68b4c2a99220>:4: FutureWarning: The default value of numeric_only in DataFrame.mean is deprecated. In a future version, it will default to False. In addition, specifying 'numeric_only=None' is deprecated. Select only valid columns or specify the value of numeric_only to silence this warning.\n",
            "  messydatfilled.iloc[:,0:5]= messydatfilled.iloc[:,0:5].fillna(messydat.iloc[:,0:5].mean())\n"
          ]
        }
      ]
    },
    {
      "cell_type": "code",
      "source": [
        "# Find any values in the dataframe that are still missing, and delete them.\n",
        "cleaned=messydatfilled.copy()\n",
        "#Drops remaining NAs\n",
        "cleaned=cleaned.dropna()"
      ],
      "metadata": {
        "id": "en_ReYsAS8f-"
      },
      "execution_count": 62,
      "outputs": []
    },
    {
      "cell_type": "code",
      "source": [
        "# How many different species are there?\n",
        "print(\"There are \" + str(cleaned.species.describe()['unique']) + \" unique species.\")"
      ],
      "metadata": {
        "id": "uqV9IHwDS75a",
        "colab": {
          "base_uri": "https://localhost:8080/"
        },
        "outputId": "21967736-7422-42e3-bbac-aa5c6ef069c0"
      },
      "execution_count": 63,
      "outputs": [
        {
          "output_type": "stream",
          "name": "stdout",
          "text": [
            "There are 9 unique species.\n"
          ]
        }
      ]
    },
    {
      "cell_type": "code",
      "source": [
        "# Turns all data into lower case to avoid capitalization issues\n",
        "cleaned.species=cleaned.species.str.lower()\n",
        "# Function to change common spelling issues in the dataset\n",
        "def cleanspecies(obs):\n",
        "  if 'setos' in obs:\n",
        "    return 'setosa'\n",
        "  elif 'virgin' in obs:\n",
        "    return 'virginica'\n",
        "  elif 'versicolor' in obs:\n",
        "    return 'versicolor'\n",
        "  else:\n",
        "    # There is only one observation that wouldn't be fixed by the above rules and it was 'viginica', so by default the last option is to replace with virginica\n",
        "    return 'virginica'\n",
        "\n",
        "\n",
        "cleaned.species = cleaned.species.apply(cleanspecies)\n",
        "print(cleaned.species.value_counts())\n",
        "\n",
        "print(\"There are now \" + str(cleaned.species.describe()['unique']) + \" unique species.\")"
      ],
      "metadata": {
        "id": "G2j8HDgYT52P",
        "colab": {
          "base_uri": "https://localhost:8080/"
        },
        "outputId": "f163be43-419f-4953-d89a-d0412609d771"
      },
      "execution_count": 64,
      "outputs": [
        {
          "output_type": "stream",
          "name": "stdout",
          "text": [
            "setosa        447\n",
            "virginica     414\n",
            "versicolor     26\n",
            "Name: species, dtype: int64\n",
            "There are now 3 unique species.\n"
          ]
        }
      ]
    },
    {
      "cell_type": "markdown",
      "source": [
        "3. Bonus:  Regular expressions\n",
        "\n",
        "Ordinary (non-vanity) Virginia license plates have the form `ABC1234`, meaning they have three upper case letters followed by four digits.  Write a regular expression that matches any string of this form (and doesn't match anything else).  Test your expression with code to make sure it works.\n",
        "\n",
        "To figure out out how to do this, start with the sample code below.  The `re` package has various functions related to regular expressions, including for example `match()`, which takes two arguments, first the regular expression and second the test string, and tests to see whether the *beginning* of the `test` string matches the pattern `exp`.\n",
        "\n",
        "Note that `re.match(exp,test)` does not return a boolean variable, as you might expect (in other words, a match doesn't return `True` and a non-match `False`).  The type of object you get is called `re.Match`, which is a data type special to the `re` package.  (The reason for this is that the object contains more information than just whether there is a match or not.) However, you can turn it into a boolean using `bool()` if you want.\n",
        "\n",
        "Include the following in the notebook you submit:\n",
        "\n",
        " 1. A regular expression in a text chunk\n",
        " 2. One or more code chunks in which you test several strings to verify that your regex is correct.\n",
        " 3. Make sure you display the results of testing various strings.\n",
        "\n",
        " See this [documentation page](https://docs.python.org/3/howto/regex.html#regex-howto) for further help."
      ],
      "metadata": {
        "id": "CsMBqFDmX7Ax"
      }
    },
    {
      "cell_type": "code",
      "source": [
        "import re\n",
        "# [A-Z] refers to any uppercase letter, and {3} means that there must be 3 letters in a row present.\n",
        "# [\\d] refers to any digit 0-9, and {4} means there must be 4 digits in a row.\n",
        "format = '[A-Z]{3}[\\d]{4}'\n",
        "\n"
      ],
      "metadata": {
        "id": "C1kcRfk-Gq6q"
      },
      "execution_count": 65,
      "outputs": []
    },
    {
      "cell_type": "code",
      "source": [
        "# Here is a list of test strings to try out.\n",
        "\n",
        "testers = ['ABC1234','mar204','xho2004','ASDFI17','MJB2004','3KLJ14']\n",
        "\n",
        "# Here is the function for detecting if a string matches the format\n",
        "def detectmatches(plate):\n",
        "  if re.match(format,plate):\n",
        "    print(\"match!\")\n",
        "  else:\n",
        "    print(\"no match\")\n",
        "# For each string in the list, it performs the matching function on it.\n",
        "for string in testers:\n",
        "  detectmatches(string)\n",
        "\n"
      ],
      "metadata": {
        "colab": {
          "base_uri": "https://localhost:8080/"
        },
        "id": "dZRF26wLLADX",
        "outputId": "00c84676-b32e-4f3d-c2df-8e4f068bebd7"
      },
      "execution_count": 66,
      "outputs": [
        {
          "output_type": "stream",
          "name": "stdout",
          "text": [
            "match!\n",
            "no match\n",
            "no match\n",
            "no match\n",
            "match!\n",
            "no match\n"
          ]
        }
      ]
    }
  ]
}