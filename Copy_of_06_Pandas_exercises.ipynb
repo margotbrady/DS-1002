{
  "cells": [
    {
      "cell_type": "markdown",
      "metadata": {
        "id": "view-in-github",
        "colab_type": "text"
      },
      "source": [
        "<a href=\"https://colab.research.google.com/github/margotbrady/DS-1002/blob/main/Copy_of_06_Pandas_exercises.ipynb\" target=\"_parent\"><img src=\"https://colab.research.google.com/assets/colab-badge.svg\" alt=\"Open In Colab\"/></a>"
      ]
    },
    {
      "cell_type": "markdown",
      "metadata": {
        "id": "L_nKffgWPs-1"
      },
      "source": [
        "## Pandas exercises 1\n",
        "\n",
        "1. Import dependencies"
      ]
    },
    {
      "cell_type": "code",
      "execution_count": 2,
      "metadata": {
        "id": "hASl6yoNPs-2"
      },
      "outputs": [],
      "source": [
        "import pandas as pd\n",
        "import numpy as np"
      ]
    },
    {
      "cell_type": "markdown",
      "metadata": {
        "id": "33KUt_fEPs-2"
      },
      "source": [
        "---"
      ]
    },
    {
      "cell_type": "code",
      "execution_count": 3,
      "metadata": {
        "id": "ZZmr1aIoPs-3"
      },
      "outputs": [],
      "source": [
        "list = [98, 24, 46, 87, 33]"
      ]
    },
    {
      "cell_type": "markdown",
      "metadata": {
        "id": "jGSEPEqXPs-3"
      },
      "source": [
        "2. Convert `list` to a pandas series using `pd.Series`"
      ]
    },
    {
      "cell_type": "code",
      "execution_count": 4,
      "metadata": {
        "id": "nZ1y9HF6Ps-3",
        "colab": {
          "base_uri": "https://localhost:8080/"
        },
        "outputId": "0dc2fd95-4290-4207-a54d-d8663bab76a2"
      },
      "outputs": [
        {
          "output_type": "stream",
          "name": "stdout",
          "text": [
            "0    98\n",
            "1    24\n",
            "2    46\n",
            "3    87\n",
            "4    33\n",
            "dtype: int64\n"
          ]
        }
      ],
      "source": [
        "series = pd.Series(list)\n",
        "print(series)"
      ]
    },
    {
      "cell_type": "markdown",
      "source": [],
      "metadata": {
        "id": "V15aNlMLDbyx"
      }
    },
    {
      "cell_type": "markdown",
      "metadata": {
        "id": "rORNi5YyPs-4"
      },
      "source": [
        "3. Take the above series and add an index that starts at 2 and steps by 3"
      ]
    },
    {
      "cell_type": "code",
      "execution_count": 5,
      "metadata": {
        "id": "YC8f3lAMPs-4",
        "colab": {
          "base_uri": "https://localhost:8080/"
        },
        "outputId": "b23af175-db4a-41b4-87b3-4d939bd61dd1"
      },
      "outputs": [
        {
          "output_type": "stream",
          "name": "stdout",
          "text": [
            "2     98\n",
            "5     24\n",
            "8     46\n",
            "11    87\n",
            "14    33\n",
            "dtype: int64\n"
          ]
        }
      ],
      "source": [
        "# Here, the np.arange function creates an array that starts at 2, and increases by 3 until it reaches 3 times the length of the list (5*3 = 15). The array is then assigned to the index.\n",
        "series.index=np.arange(2,len(list)*3,step=3)\n",
        "print(series)"
      ]
    },
    {
      "cell_type": "markdown",
      "metadata": {
        "id": "2P199KkwPs-4"
      },
      "source": [
        "4. Create a dictionary of 4 names, ages, and careers   \n",
        "Convert this dictionary to a pandas dataframe: `df`.  \n",
        "Print the dataframe."
      ]
    },
    {
      "cell_type": "code",
      "execution_count": 6,
      "metadata": {
        "id": "lWoGNi5hPs-5",
        "colab": {
          "base_uri": "https://localhost:8080/"
        },
        "outputId": "9edff730-0656-44ee-d967-5a5439fcec4e"
      },
      "outputs": [
        {
          "output_type": "stream",
          "name": "stdout",
          "text": [
            "    names  ages  careers\n",
            "0    Jane    31   Doctor\n",
            "1  Margot    19  Student\n",
            "2  Ishita    19  Student\n",
            "3   Naomi    20  Student\n"
          ]
        }
      ],
      "source": [
        "#Creates a dictionary with \"names\", \"ages\", \"careers\" as the keys, and the actual values are the names, ages, and careers.\n",
        "dict = {\n",
        "    'names': ['Jane','Margot','Ishita','Naomi'],\n",
        "    'ages': [31,19,19,20],\n",
        "    'careers':['Doctor','Student','Student','Student']\n",
        "}\n",
        "df=pd.DataFrame(dict)\n",
        "print(df)\n"
      ]
    },
    {
      "cell_type": "markdown",
      "metadata": {
        "id": "TD-Ej1K_Ps-5"
      },
      "source": [
        "5. Name the index of `df` 'participant_id'.  \n",
        "Print `df`."
      ]
    },
    {
      "cell_type": "code",
      "execution_count": 7,
      "metadata": {
        "id": "_54NO6pRPs-5",
        "colab": {
          "base_uri": "https://localhost:8080/"
        },
        "outputId": "90aa919d-e890-48e4-a6ae-1cfadc59cae2"
      },
      "outputs": [
        {
          "output_type": "stream",
          "name": "stdout",
          "text": [
            "                 names  ages  careers\n",
            "participant_id                       \n",
            "0                 Jane    31   Doctor\n",
            "1               Margot    19  Student\n",
            "2               Ishita    19  Student\n",
            "3                Naomi    20  Student\n"
          ]
        }
      ],
      "source": [
        "df.index.name = \"participant_id\"\n",
        "print(df)"
      ]
    },
    {
      "cell_type": "markdown",
      "metadata": {
        "id": "-JXKN55IPs-5"
      },
      "source": [
        "6. Use a pandas function to determine the data types of the columns of `df`."
      ]
    },
    {
      "cell_type": "code",
      "execution_count": 8,
      "metadata": {
        "id": "pmbPdPYmPs-5",
        "colab": {
          "base_uri": "https://localhost:8080/"
        },
        "outputId": "d6620c58-fc84-483e-9cea-afd6c718dcab"
      },
      "outputs": [
        {
          "output_type": "execute_result",
          "data": {
            "text/plain": [
              "names      object\n",
              "ages        int64\n",
              "careers    object\n",
              "dtype: object"
            ]
          },
          "metadata": {},
          "execution_count": 8
        }
      ],
      "source": [
        "df.dtypes"
      ]
    },
    {
      "cell_type": "markdown",
      "metadata": {
        "id": "67Yv1vrcPs-5"
      },
      "source": [
        "7. Using bracket notation, reference column `name`"
      ]
    },
    {
      "cell_type": "code",
      "execution_count": 9,
      "metadata": {
        "id": "KvYDyocgPs-6",
        "colab": {
          "base_uri": "https://localhost:8080/"
        },
        "outputId": "b1dba317-5181-4479-ba5a-68f1ed191b3f"
      },
      "outputs": [
        {
          "output_type": "execute_result",
          "data": {
            "text/plain": [
              "participant_id\n",
              "0      Jane\n",
              "1    Margot\n",
              "2    Ishita\n",
              "3     Naomi\n",
              "Name: names, dtype: object"
            ]
          },
          "metadata": {},
          "execution_count": 9
        }
      ],
      "source": [
        "df['names']"
      ]
    },
    {
      "cell_type": "markdown",
      "metadata": {
        "id": "m3cxo1_DPs-6"
      },
      "source": [
        "8. Using dot notation, reference column `name`"
      ]
    },
    {
      "cell_type": "code",
      "execution_count": 10,
      "metadata": {
        "id": "1GWDNZpDPs-6",
        "colab": {
          "base_uri": "https://localhost:8080/"
        },
        "outputId": "de01f5dd-e6b6-4aa4-da28-5047651d340c"
      },
      "outputs": [
        {
          "output_type": "execute_result",
          "data": {
            "text/plain": [
              "participant_id\n",
              "0      Jane\n",
              "1    Margot\n",
              "2    Ishita\n",
              "3     Naomi\n",
              "Name: names, dtype: object"
            ]
          },
          "metadata": {},
          "execution_count": 10
        }
      ],
      "source": [
        "df.names"
      ]
    },
    {
      "cell_type": "markdown",
      "metadata": {
        "id": "QXcydAo-Ps-6"
      },
      "source": [
        "8. Reference column `name` and have it returned in a dataframe."
      ]
    },
    {
      "cell_type": "code",
      "execution_count": 11,
      "metadata": {
        "id": "Es6jw5eKPs-6",
        "colab": {
          "base_uri": "https://localhost:8080/"
        },
        "outputId": "99addbbc-ba49-43a0-ca8b-149a92380da8"
      },
      "outputs": [
        {
          "output_type": "stream",
          "name": "stdout",
          "text": [
            "                 names\n",
            "participant_id        \n",
            "0                 Jane\n",
            "1               Margot\n",
            "2               Ishita\n",
            "3                Naomi\n"
          ]
        }
      ],
      "source": [
        "namesdf=pd.DataFrame(df.names)\n",
        "print(namesdf)"
      ]
    },
    {
      "cell_type": "markdown",
      "metadata": {
        "id": "FGvwXkmsPs-6"
      },
      "source": [
        "9. Show the 3rd element in column `career`."
      ]
    },
    {
      "cell_type": "code",
      "execution_count": 12,
      "metadata": {
        "id": "9DFRMXJ-Ps-6",
        "colab": {
          "base_uri": "https://localhost:8080/"
        },
        "outputId": "f7a4bfda-3a34-43a5-95d6-4b010119f83a"
      },
      "outputs": [
        {
          "output_type": "stream",
          "name": "stdout",
          "text": [
            "Student\n"
          ]
        }
      ],
      "source": [
        "# This references the second index, but the third element.\n",
        "print(df.careers[2])"
      ]
    },
    {
      "cell_type": "markdown",
      "source": [
        "10.  Load the `iris` dataset that we used in class.  Use `iris` as the name of your data frame."
      ],
      "metadata": {
        "id": "rRH599bKtjbE"
      }
    },
    {
      "cell_type": "code",
      "source": [
        "import seaborn as sns\n",
        "iris = sns.load_dataset('iris')"
      ],
      "metadata": {
        "id": "zzf2X8hptu02"
      },
      "execution_count": 13,
      "outputs": []
    },
    {
      "cell_type": "markdown",
      "source": [
        "11.  What is the correlation between the variables `sepal_length` and `sepal_width` for all the irises?"
      ],
      "metadata": {
        "id": "AKz6-jVWtvSB"
      }
    },
    {
      "cell_type": "code",
      "source": [
        "print(iris[['sepal_length','sepal_width']].corr())\n",
        "print(\"The correlation between the variables sepal_length and sepal_width for all the irises is \" + str(iris[['sepal_length','sepal_width']].corr().iloc[0,1]) )"
      ],
      "metadata": {
        "id": "hee42cCiuUaQ",
        "colab": {
          "base_uri": "https://localhost:8080/"
        },
        "outputId": "e72a55fc-725a-4c78-de85-825429692f7d"
      },
      "execution_count": 17,
      "outputs": [
        {
          "output_type": "stream",
          "name": "stdout",
          "text": [
            "              sepal_length  sepal_width\n",
            "sepal_length       1.00000     -0.11757\n",
            "sepal_width       -0.11757      1.00000\n",
            "The correlation between the variables sepal_length and sepal_width for all the irises is -0.11756978413300088\n"
          ]
        }
      ]
    },
    {
      "cell_type": "markdown",
      "source": [
        "12.  Which of the three species has the highest correlation between `sepal_length` and `sepal_width`?  Show any calculations you use to support your answer."
      ],
      "metadata": {
        "id": "0FftiYs-uU0S"
      }
    },
    {
      "cell_type": "code",
      "source": [
        "# This creates a new dataframe for each species\n",
        "setosadf=iris[iris.species=='setosa']\n",
        "versicolordf=iris[iris.species=='versicolor']\n",
        "virginicadf=iris[iris.species=='virginica']\n",
        "\n",
        "# This prints out the correlation between sepal_length and sepal_width by using the corr function.\n",
        "print(\"Setosa Correlation: \" + \"\\n\" + str(setosadf[['sepal_length','sepal_width']].corr())+ \"\\n\")\n",
        "print(\"Versicolor Correlation: \" + \"\\n\" + str(versicolordf[['sepal_length','sepal_width']].corr())+ \"\\n\")\n",
        "print(\"Virginica Correlation: \"+ \"\\n\" + str(virginicadf[['sepal_length','sepal_width']].corr())+ \"\\n\")\n",
        "\n",
        "#This finds the highest correlation through the max function. The .iloc function finds the position in the correlation (column 1, row 2)\n",
        "# where the correlation is for each species, and the max function finds the max value between all of them.\n",
        "highestcorr=max(setosadf[['sepal_length','sepal_width']].corr().iloc[0,1],virginicadf[['sepal_length','sepal_width']].corr().iloc[0,1] , versicolordf[['sepal_length','sepal_width']].corr().iloc[0,1])\n",
        "\n",
        "\n",
        "# Here I created a function to determine which species has the highest correlation, instead of doing it manually by printing the correlations and looking at\n",
        "# all of them individually\n",
        "def findhighcorr(maxcorr):\n",
        "  max = False\n",
        "  if versicolordf[['sepal_length','sepal_width']].corr().iloc[0,1] == maxcorr:\n",
        "    print(\"Versicolor has the highest correlation of \" +str(maxcorr) + \" between sepal length and sepal width.\")\n",
        "  elif virginicadf[['sepal_length','sepal_width']].corr().iloc[0,1]== maxcorr:\n",
        "    print(\"Virginica has the highest correlation of \" +str(maxcorr) + \" between sepal length and sepal width.\")\n",
        "  else:\n",
        "    print(\"Setosa has the highest correlation of \" +str(maxcorr) + \" between sepal length and sepal width.\")\n",
        "\n",
        "# Here i call the function and use the highest correlation value I determined earlier\n",
        "findhighcorr(highestcorr)\n",
        "\n"
      ],
      "metadata": {
        "id": "TFGICsBQulQ-",
        "colab": {
          "base_uri": "https://localhost:8080/"
        },
        "outputId": "2e14b773-7a45-42d7-a601-9683bd48c59b"
      },
      "execution_count": 18,
      "outputs": [
        {
          "output_type": "stream",
          "name": "stdout",
          "text": [
            "Setosa Correlation: \n",
            "              sepal_length  sepal_width\n",
            "sepal_length      1.000000     0.742547\n",
            "sepal_width       0.742547     1.000000\n",
            "\n",
            "Versicolor Correlation: \n",
            "              sepal_length  sepal_width\n",
            "sepal_length      1.000000     0.525911\n",
            "sepal_width       0.525911     1.000000\n",
            "\n",
            "Virginica Correlation: \n",
            "              sepal_length  sepal_width\n",
            "sepal_length      1.000000     0.457228\n",
            "sepal_width       0.457228     1.000000\n",
            "\n",
            "Setosa has the highest correlation of 0.7425466856651594 between sepal length and sepal width.\n"
          ]
        }
      ]
    },
    {
      "cell_type": "markdown",
      "source": [
        "13.  Among the four variables, the two that are most negatively correlated (overall) are `sepal_width` and `petal_length`.  (How do we know this?)  Determine the same thing but for each species separately:  for each species, which two variables have the most negative correlation?  Again, include calculations to support your answer."
      ],
      "metadata": {
        "id": "ZEwy0920u1NY"
      }
    },
    {
      "cell_type": "markdown",
      "source": [],
      "metadata": {
        "id": "SN5Lm3W_PrYu"
      }
    },
    {
      "cell_type": "code",
      "source": [
        "# Here is the overall correlation for the dataframe iris\n",
        "overallcorr = iris.corr(numeric_only=True)\n",
        "print(\"Overall Correlation: \" + \"\\n\"+ str(overallcorr)+\"\\n\")\n",
        "# This unstacks the dataframe so I can use the min function to calculate the lowest correlation\n",
        "overallmincorr = iris.corr(numeric_only=True).unstack().min()\n",
        "# .idxmin() allows me to find the actual variables associated with the min value. I reference the first index because otherwise the result from the function is (sepal_length,petal_length).\n",
        "print(\"The two variables that are most negatively correlated overall are \"+overallcorr.unstack().idxmin()[0]+\" and \"+overallcorr.unstack().idxmin()[1]+\" with a correlation of \"+str(overallmincorr)+\"\\n\")\n",
        "#Here I add an index so I can separate by species\n",
        "iris.index.name = 'obs_id'\n",
        "iriswindx=iris.reset_index().set_index(['species','obs_id'])\n",
        "\n",
        "# This creates a new list of each type of species\n",
        "specieslist = (iris.species.unique())\n",
        "\n",
        "# For each species in the list, it will calculate the correlation for the variables.\n",
        "for species in specieslist:\n",
        "  #Creates a new dataframe for each species correlation\n",
        "  speciescorr = iriswindx.loc[species].corr()\n",
        "  print(\"Correlation for \" + species +\": \\n\")\n",
        "  print(str(speciescorr)+\"\\n\")\n",
        "  # This unstacks the dataframe so I can use the min function to calculate the lowest correlation\n",
        "  mincorr = speciescorr.unstack().min()\n",
        "  print(\"The two variables that are least positively correlated are \"+speciescorr.unstack().idxmin()[0]+\" and \"+speciescorr.unstack().idxmin()[1]+\" with a correlation of \"+str(mincorr)+\"\\n\")"
      ],
      "metadata": {
        "id": "bcqtPTtHvjLI",
        "colab": {
          "base_uri": "https://localhost:8080/"
        },
        "outputId": "ad2c798a-ebd2-473b-efcf-700f5829fd07"
      },
      "execution_count": 19,
      "outputs": [
        {
          "output_type": "stream",
          "name": "stdout",
          "text": [
            "Overall Correlation: \n",
            "              sepal_length  sepal_width  petal_length  petal_width\n",
            "sepal_length      1.000000    -0.117570      0.871754     0.817941\n",
            "sepal_width      -0.117570     1.000000     -0.428440    -0.366126\n",
            "petal_length      0.871754    -0.428440      1.000000     0.962865\n",
            "petal_width       0.817941    -0.366126      0.962865     1.000000\n",
            "\n",
            "The two variables that are most negatively correlated overall are sepal_width and petal_length with a correlation of -0.42844010433053864\n",
            "\n",
            "Correlation for setosa: \n",
            "\n",
            "              sepal_length  sepal_width  petal_length  petal_width\n",
            "sepal_length      1.000000     0.742547      0.267176     0.278098\n",
            "sepal_width       0.742547     1.000000      0.177700     0.232752\n",
            "petal_length      0.267176     0.177700      1.000000     0.331630\n",
            "petal_width       0.278098     0.232752      0.331630     1.000000\n",
            "\n",
            "The two variables that are least positively correlated are sepal_width and petal_length with a correlation of 0.1776999667822706\n",
            "\n",
            "Correlation for versicolor: \n",
            "\n",
            "              sepal_length  sepal_width  petal_length  petal_width\n",
            "sepal_length      1.000000     0.525911      0.754049     0.546461\n",
            "sepal_width       0.525911     1.000000      0.560522     0.663999\n",
            "petal_length      0.754049     0.560522      1.000000     0.786668\n",
            "petal_width       0.546461     0.663999      0.786668     1.000000\n",
            "\n",
            "The two variables that are least positively correlated are sepal_length and sepal_width with a correlation of 0.5259107172828247\n",
            "\n",
            "Correlation for virginica: \n",
            "\n",
            "              sepal_length  sepal_width  petal_length  petal_width\n",
            "sepal_length      1.000000     0.457228      0.864225     0.281108\n",
            "sepal_width       0.457228     1.000000      0.401045     0.537728\n",
            "petal_length      0.864225     0.401045      1.000000     0.322108\n",
            "petal_width       0.281108     0.537728      0.322108     1.000000\n",
            "\n",
            "The two variables that are least positively correlated are sepal_length and petal_width with a correlation of 0.2811077091573193\n",
            "\n"
          ]
        }
      ]
    },
    {
      "cell_type": "markdown",
      "source": [
        "14. Once again, the variables sepal_width and petal_length are negatively correlated. But for each individual species, these two variables are positively correlated. How is this possible? Explain this phenomenon. Use a data visualization if it helps."
      ],
      "metadata": {
        "id": "cK_OhSaRvxhE"
      }
    },
    {
      "cell_type": "code",
      "source": [
        "# Here we can see the overall correlation between sepal_width and petal_length\n",
        "iris.plot.scatter('sepal_width','petal_length')\n",
        "print(\"Overall, we can see a negative correlation between petal_length and sepal_width.\")"
      ],
      "metadata": {
        "colab": {
          "base_uri": "https://localhost:8080/",
          "height": 468
        },
        "id": "4K-Dhv0yZLZM",
        "outputId": "767174d8-c882-4da7-fab8-42fcbada48eb"
      },
      "execution_count": null,
      "outputs": [
        {
          "output_type": "stream",
          "name": "stdout",
          "text": [
            "Overall, we can see a negative correlation between petal_length and sepal_width.\n"
          ]
        },
        {
          "output_type": "display_data",
          "data": {
            "text/plain": [
              "<Figure size 640x480 with 1 Axes>"
            ],
            "image/png": "[encoded data removed]"
          },
          "metadata": {}
        }
      ]
    },
    {
      "cell_type": "code",
      "source": [
        "# This uses seasborn to create a scatterplot while coloring for species\n",
        "sns.relplot(iris,x='sepal_width',y='petal_length',hue = 'species')\n",
        "print(\" However, when we color the points by species, we see a different story. \\n Certain species are plotted in different parts of the graph, but by color, we see a positive slope for each species. \\n While some species are generally in the bottom right portion of the graph, and some are in the top left portion, we see a positive correlation for all three species.\")"
      ],
      "metadata": {
        "id": "H4_QQDWHwJ3t",
        "colab": {
          "base_uri": "https://localhost:8080/",
          "height": 581
        },
        "outputId": "6043b48e-e0b2-4909-dcdf-6ba6d4788578"
      },
      "execution_count": null,
      "outputs": [
        {
          "output_type": "stream",
          "name": "stdout",
          "text": [
            " However, when we color the points by species, we see a different story. \n",
            " Certain species are plotted in different parts of the graph, but by color, we see a positive slope for each species. \n",
            " While some species are generally in the bottom right portion of the graph, and some are in the top left portion, we see a positive correlation for all three species.\n"
          ]
        },
        {
          "output_type": "display_data",
          "data": {
            "text/plain": [
              "<Figure size 617.75x500 with 1 Axes>"
            ],
            "image/png": "[encoded data removed]"
          },
          "metadata": {}
        }
      ]
    },
    {
      "cell_type": "code",
      "source": [
        "#To further visualize, I can create three new graphs, for each species.\n",
        "print(iris[iris.species == 'setosa'].plot.scatter('sepal_width','petal_length'))\n",
        "print(iris[iris.species == 'virginica'].plot.scatter('sepal_width','petal_length'))\n",
        "print(iris[iris.species == 'versicolor'].plot.scatter('sepal_width','petal_length'))"
      ],
      "metadata": {
        "colab": {
          "base_uri": "https://localhost:8080/",
          "height": 1000
        },
        "id": "qW6oYGX1WlZy",
        "outputId": "626fe1ae-52b4-4fa0-be05-8cbbf3143ffc"
      },
      "execution_count": null,
      "outputs": [
        {
          "output_type": "stream",
          "name": "stdout",
          "text": [
            "Axes(0.125,0.11;0.775x0.77)\n",
            "Axes(0.125,0.11;0.775x0.77)\n",
            "Axes(0.125,0.11;0.775x0.77)\n"
          ]
        },
        {
          "output_type": "display_data",
          "data": {
            "text/plain": [
              "<Figure size 640x480 with 1 Axes>"
            ],
            "image/png": "[encoded data removed]"
          },
          "metadata": {}
        },
        {
          "output_type": "display_data",
          "data": {
            "text/plain": [
              "<Figure size 640x480 with 1 Axes>"
            ],
            "image/png": "[encoded data removed]"
          },
          "metadata": {}
        },
        {
          "output_type": "display_data",
          "data": {
            "text/plain": [
              "<Figure size 640x480 with 1 Axes>"
            ],
            "image/png": "[encoded data removed]"
          },
          "metadata": {}
        }
      ]
    }
  ],
  "metadata": {
    "kernelspec": {
      "display_name": "Python 3.8.9 64-bit",
      "language": "python",
      "name": "python3"
    },
    "language_info": {
      "codemirror_mode": {
        "name": "ipython",
        "version": 3
      },
      "file_extension": ".py",
      "mimetype": "text/x-python",
      "name": "python",
      "nbconvert_exporter": "python",
      "pygments_lexer": "ipython3",
      "version": "3.8.9"
    },
    "orig_nbformat": 4,
    "vscode": {
      "interpreter": {
        "hash": "31f2aee4e71d21fbe5cf8b01ff0e069b9275f58929596ceb00d14d90e3e16cd6"
      }
    },
    "colab": {
      "provenance": [],
      "include_colab_link": true
    }
  },
  "nbformat": 4,
  "nbformat_minor": 0
}