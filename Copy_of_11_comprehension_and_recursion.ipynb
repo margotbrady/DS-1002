{
  "nbformat": 4,
  "nbformat_minor": 0,
  "metadata": {
    "colab": {
      "provenance": [],
      "include_colab_link": true
    },
    "kernelspec": {
      "name": "python3",
      "display_name": "Python 3"
    },
    "language_info": {
      "name": "python"
    }
  },
  "cells": [
    {
      "cell_type": "markdown",
      "metadata": {
        "id": "view-in-github",
        "colab_type": "text"
      },
      "source": [
        "<a href=\"https://colab.research.google.com/github/margotbrady/DS-1002/blob/main/Copy_of_11_comprehension_and_recursion.ipynb\" target=\"_parent\"><img src=\"https://colab.research.google.com/assets/colab-badge.svg\" alt=\"Open In Colab\"/></a>"
      ]
    },
    {
      "cell_type": "markdown",
      "source": [
        "## Assignment 11\n",
        "Due Monday 15 April at noon"
      ],
      "metadata": {
        "id": "y6mGkyWrqph3"
      }
    },
    {
      "cell_type": "markdown",
      "source": [
        "### List comprehension\n",
        "\n",
        "Many of you resisted my recommendation to use list comprehensions in the previous assignment, and so my hand is forced.  You made me require it.\n",
        "\n",
        "\n",
        "Problem 1.  For each function you write below, you may assume the list being sent to the function will contain the appropriate data type.\n",
        "\n",
        "Use list comprehensions to create a function that will take a list `l` and return . . ."
      ],
      "metadata": {
        "id": "eBJulsWBngse"
      }
    },
    {
      "cell_type": "markdown",
      "source": [
        "(a) . . . a list containing the absolute value of each element of `l`"
      ],
      "metadata": {
        "id": "1h4hKDEqo5T_"
      }
    },
    {
      "cell_type": "code",
      "source": [
        "def absval(l):\n",
        "  newlist = [abs(i) for i in l]\n",
        "  return newlist\n",
        "# [i if i >= 0 else -i for i in l]\n",
        "# Test\n",
        "testlist=[-1,2,-3,5,-7]\n",
        "absval(testlist)"
      ],
      "metadata": {
        "id": "LNltsHhtngLS",
        "outputId": "f6158126-536c-4701-b461-d271072d26ee",
        "colab": {
          "base_uri": "https://localhost:8080/"
        }
      },
      "execution_count": 2,
      "outputs": [
        {
          "output_type": "execute_result",
          "data": {
            "text/plain": [
              "[1, 2, 3, 5, 7]"
            ]
          },
          "metadata": {},
          "execution_count": 2
        }
      ]
    },
    {
      "cell_type": "markdown",
      "source": [
        "(b) . . . a list containing `True` for each even number in `l` and `False` for each odd number in `l`"
      ],
      "metadata": {
        "id": "mqIbzaTvpLCV"
      }
    },
    {
      "cell_type": "code",
      "source": [
        "def boolval(l):\n",
        "  newlist = [True if i%2==0 else False for i in l]\n",
        "  return newlist\n",
        "# Testing\n",
        "testlist2 = [1,2,3,4,5]\n",
        "boolval(testlist2)"
      ],
      "metadata": {
        "id": "0OTpQFX9pK0t",
        "outputId": "9fb31aa3-a17d-43f0-96a4-0ebb8bc46a90",
        "colab": {
          "base_uri": "https://localhost:8080/"
        }
      },
      "execution_count": 3,
      "outputs": [
        {
          "output_type": "execute_result",
          "data": {
            "text/plain": [
              "[False, True, False, True, False]"
            ]
          },
          "metadata": {},
          "execution_count": 3
        }
      ]
    },
    {
      "cell_type": "markdown",
      "source": [
        "(c) . . . a list containing only the numbers in `l` that are divisible by 3"
      ],
      "metadata": {
        "id": "9yqVg2hApUY9"
      }
    },
    {
      "cell_type": "code",
      "source": [
        "def div3(l):\n",
        "  newlist = [i for i in l if i%3==0]\n",
        "  return newlist\n",
        "\n",
        "#testing\n",
        "testlist3 = 1,2,3,4,5,6,7,8,9,10\n",
        "div3(testlist3)"
      ],
      "metadata": {
        "id": "2mP_1aYZpUF4",
        "outputId": "b685628f-940f-420a-b81c-b23455b9c583",
        "colab": {
          "base_uri": "https://localhost:8080/"
        }
      },
      "execution_count": 4,
      "outputs": [
        {
          "output_type": "execute_result",
          "data": {
            "text/plain": [
              "[3, 6, 9]"
            ]
          },
          "metadata": {},
          "execution_count": 4
        }
      ]
    },
    {
      "cell_type": "markdown",
      "source": [
        "(d) . . . a list containing only the words in `l` whose first and last letters are the same"
      ],
      "metadata": {
        "id": "2yClgYZupef1"
      }
    },
    {
      "cell_type": "code",
      "source": [
        "def samelet(l):\n",
        "  newlist = [i for i in l if i[0]==i[-1]]\n",
        "  return newlist\n",
        "\n",
        "# test\n",
        "wordlist = [\"hat\",\"cook\",\"pop\",\"dad\",\"room\",\"toot\"]\n",
        "samelet(wordlist)"
      ],
      "metadata": {
        "id": "-l7XnemMpeCi",
        "outputId": "e700423c-3f71-4ece-c9c9-2a5e36bc3afd",
        "colab": {
          "base_uri": "https://localhost:8080/"
        }
      },
      "execution_count": 5,
      "outputs": [
        {
          "output_type": "execute_result",
          "data": {
            "text/plain": [
              "['pop', 'dad', 'toot']"
            ]
          },
          "metadata": {},
          "execution_count": 5
        }
      ]
    },
    {
      "cell_type": "markdown",
      "source": [
        "(e) . . . a list containing the first letter of each word in `l` that ends with a vowel"
      ],
      "metadata": {
        "id": "1mqMysFKppZS"
      }
    },
    {
      "cell_type": "code",
      "source": [
        "def samelet(l):\n",
        "  vowels = {\"a\",\"e\",\"i\",\"o\",\"u\"}\n",
        "  newlist = [i[0] for i in l if i[-1] in vowels]\n",
        "  return newlist\n",
        "# test\n",
        "\n",
        "vowlist = [\"cookie\",\"look\",\"map\",\"gave\",\"pasta\"]\n",
        "samelet(vowlist)"
      ],
      "metadata": {
        "id": "1Gi3andbppDc",
        "outputId": "8e5e15aa-c654-49fb-ccab-c307b6d66964",
        "colab": {
          "base_uri": "https://localhost:8080/"
        }
      },
      "execution_count": 6,
      "outputs": [
        {
          "output_type": "execute_result",
          "data": {
            "text/plain": [
              "['c', 'g', 'p']"
            ]
          },
          "metadata": {},
          "execution_count": 6
        }
      ]
    },
    {
      "cell_type": "markdown",
      "source": [
        "### Multiplication as a recursive process\n",
        "Problem 2.  Write a recursive function that computes the product of two positive integers `a` and `b` by adding `a` to itself `b` times.\n",
        "\n",
        "Hints:  \n",
        "1. if `b=1` then the product is `a`.\n",
        "2. if `b>1` then the product is what you get by adding `a` to `a * (b-1)`.\n",
        "\n",
        "Note:  the purpose of this exercise is to practice writing recursive functions.  Of course you can trivially ask for `a*b` and get the correct answer but that is worth no points.  Your function should not use any multiplications.\n"
      ],
      "metadata": {
        "id": "iV4ysawxjsiE"
      }
    },
    {
      "cell_type": "code",
      "source": [
        "def recursmult(a,b):\n",
        "  if b == 1:\n",
        "    return a\n",
        "  else:\n",
        "    return a + recursmult(a,b-1)\n",
        "# test\n",
        "recursmult(4,3)"
      ],
      "metadata": {
        "colab": {
          "base_uri": "https://localhost:8080/"
        },
        "id": "zrAW3rLeNqsV",
        "outputId": "ad599a5e-5411-4568-9f31-9f311c7aedd7"
      },
      "execution_count": 11,
      "outputs": [
        {
          "output_type": "execute_result",
          "data": {
            "text/plain": [
              "12"
            ]
          },
          "metadata": {},
          "execution_count": 11
        }
      ]
    },
    {
      "cell_type": "markdown",
      "source": [
        "### Division as a recursive process\n",
        "\n",
        "Problem 3:  Write a recursive function that takes two positive integers `a` and `b` and returns the quotient `q` and remainder `r` obtained when `a` is divided by `b`.\n",
        "\n",
        "Hints:  \n",
        "1. If `a<b` then what should `q` and `r` be?\n",
        "\n",
        "2. If `a>b` then think about how `q` and `r` are related to the values you would get from dividing `a-b` by `b`."
      ],
      "metadata": {
        "id": "A5xI1LxDkxn0"
      }
    },
    {
      "cell_type": "code",
      "source": [
        "def recursdiv(a,b):\n",
        "  if a < b:\n",
        "    return 0, a\n",
        "  else:\n",
        "    quotient, remainder = recursdiv(a-b,b)\n",
        "    return quotient+1, remainder\n",
        "\n",
        "# Test\n",
        "quotient, remainder = recursdiv(10,2)\n",
        "print(\"Quotient: \", quotient)\n",
        "print(\"Remainder: \",remainder)"
      ],
      "metadata": {
        "id": "_3aRmkgJkxUW",
        "colab": {
          "base_uri": "https://localhost:8080/"
        },
        "outputId": "cf9db418-6b17-4e18-d053-393a1df4fa47"
      },
      "execution_count": 28,
      "outputs": [
        {
          "output_type": "stream",
          "name": "stdout",
          "text": [
            "Quotient:  5\n",
            "Remainder:  0\n"
          ]
        }
      ]
    },
    {
      "cell_type": "markdown",
      "source": [
        "### The dot product of two vectors\n",
        "\n",
        "Problem 4.  Write a recursive function `dot()` that takes two lists of numbers, of equal length, and returns the sum of the products of the elements of the same index from each list. For example, if `V=[1,2,3]` and `W=[4,5,6]` then the function should return the value $(1 \\cdot 4) + (2\\cdot 5) + (3\\cdot 6)$, which equals 32.  In physics and linear algebra, this is called the \"dot product\" of the vectors `V` and `W`.\n",
        "\n",
        "Other examples:\n",
        "```\n",
        "dot([3],[4])\n",
        "12\n",
        "\n",
        "dot([1,1,0],[2,7,17])\n",
        "9\n",
        "```\n",
        "Hints:\n",
        "1. How is `dot(V,W)` related to `dot(V[1:],W[1:])`?\n",
        "2. What should happen if the lists are empty?"
      ],
      "metadata": {
        "id": "OkBK7gvglJ3u"
      }
    },
    {
      "cell_type": "code",
      "source": [
        "def dot(v,w):\n",
        "  if len(v) > 0 and len(w) > 0:\n",
        "    return v[0]*w[0] + dot(v[1:],w[1:])\n",
        "  else:\n",
        "    return 0\n",
        "# test\n",
        "vee = [1,2,3]\n",
        "woo = [4,5,6]\n",
        "dot(vee,woo)"
      ],
      "metadata": {
        "id": "LZXs6lkslJqm",
        "colab": {
          "base_uri": "https://localhost:8080/"
        },
        "outputId": "4b6c2e2a-374e-44be-a934-370e3f565fb1"
      },
      "execution_count": 33,
      "outputs": [
        {
          "output_type": "execute_result",
          "data": {
            "text/plain": [
              "32"
            ]
          },
          "metadata": {},
          "execution_count": 33
        }
      ]
    }
  ]
}